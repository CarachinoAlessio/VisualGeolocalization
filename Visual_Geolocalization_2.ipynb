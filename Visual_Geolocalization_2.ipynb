{
  "cells": [
    {
      "cell_type": "markdown",
      "metadata": {
        "id": "h_d595Nlu-U1"
      },
      "source": [
        "# Libs / initial script"
      ]
    },
    {
      "cell_type": "code",
      "execution_count": null,
      "metadata": {
        "colab": {
          "base_uri": "https://localhost:8080/"
        },
        "id": "960P2vRFSOBb",
        "outputId": "7c9c8bee-4127-4190-e1a2-3fa3f6323e28"
      },
      "outputs": [
        {
          "output_type": "stream",
          "name": "stdout",
          "text": [
            "Mounted at /content/drive\n"
          ]
        }
      ],
      "source": [
        "import shutil\n",
        "\n",
        "#all drive\n",
        "from google.colab import files\n",
        "\n",
        "#mounting drive \n",
        "from google.colab import drive\n",
        "drive.mount('/content/drive')\n",
        "\n",
        "#from folder `drive` to outside \n",
        "!cp -r /content/drive/MyDrive/code/* /content\n",
        "\n"
      ]
    },
    {
      "cell_type": "code",
      "execution_count": null,
      "metadata": {
        "id": "vWwFrIxf04tx"
      },
      "outputs": [],
      "source": [
        "#install dependencies\n",
        "!pip3 install -r requirements.txt > /dev/null"
      ]
    },
    {
      "cell_type": "code",
      "execution_count": null,
      "metadata": {
        "id": "1cLScNkhxFFf"
      },
      "outputs": [],
      "source": [
        "#unzip folder\n",
        "#if you need to test, uncomment the first and last line. sf-xs is used to train\n",
        "!unzip /content/datasets/tokyo-xs.zip > /dev/null\n",
        "!unzip /content/datasets/sf-xs-001.zip > /dev/null\n",
        "!unzip /content/logs.zip > /dev/null\n",
        "\n",
        "#database for tokyo night\n",
        "!cp -r /content/tokyo_xs/test/database /content/tokyo-night"
      ]
    },
    {
      "cell_type": "markdown",
      "metadata": {
        "id": "oOjUMtVA-ElR"
      },
      "source": [
        "# Cosface"
      ]
    },
    {
      "cell_type": "markdown",
      "metadata": {
        "id": "3_TcfYG2yfZo"
      },
      "source": [
        "## Training with CosFace on sf-xs"
      ]
    },
    {
      "cell_type": "markdown",
      "source": [
        "Results 03/02/2022: R@1: 52.3, R@5: 66.3, R@10: 71.8, R@20: 76.3"
      ],
      "metadata": {
        "id": "03ngkbzi9RFZ"
      }
    },
    {
      "cell_type": "code",
      "execution_count": null,
      "metadata": {
        "colab": {
          "base_uri": "https://localhost:8080/"
        },
        "id": "FL-36X_7CbY1",
        "outputId": "a87b0aef-f4f0-4fb0-bd9c-f1f8b91c9a08"
      },
      "outputs": [
        {
          "name": "stdout",
          "output_type": "stream",
          "text": [
            "2022-12-14 22:18:55   train.py --dataset_folder /content/small --groups_num 1 --epochs_num 3\n",
            "2022-12-14 22:18:55   Arguments: Namespace(L=2, M=10, N=5, alpha=30, augmentation_device='cuda', backbone='resnet18', batch_size=32, brightness=0.7, classifiers_lr=0.01, contrast=0.7, dataset_folder='/content/small', device='cuda', epochs_num=3, fc_output_dim=512, groups_num=1, hue=0.5, infer_batch_size=16, iterations_per_epoch=10000, lr=1e-05, min_images_per_class=10, num_workers=8, positive_dist_threshold=25, random_resized_crop=0.5, resume_model=None, resume_train=None, saturation=0.7, save_dir='default', seed=0, test_set_folder='/content/small/test', train_set_folder='/content/small/train', use_amp16=False, val_set_folder='/content/small/val')\n",
            "2022-12-14 22:18:55   The outputs are being saved in logs/default/2022-12-14_22-18-55\n",
            "/usr/local/lib/python3.8/dist-packages/torchvision/models/_utils.py:208: UserWarning: The parameter 'pretrained' is deprecated since 0.13 and may be removed in the future, please use 'weights' instead.\n",
            "  warnings.warn(\n",
            "/usr/local/lib/python3.8/dist-packages/torchvision/models/_utils.py:223: UserWarning: Arguments other than a weight enum or `None` for 'weights' are deprecated since 0.13 and may be removed in the future. The current behavior is equivalent to passing `weights=ResNet18_Weights.IMAGENET1K_V1`. You can also use `weights=ResNet18_Weights.DEFAULT` to get the most up-to-date weights.\n",
            "  warnings.warn(msg)\n",
            "Downloading: \"https://download.pytorch.org/models/resnet18-f37072fd.pth\" to /root/.cache/torch/hub/checkpoints/resnet18-f37072fd.pth\n",
            "100% 44.7M/44.7M [00:00<00:00, 134MB/s]\n",
            "2022-12-14 22:18:56   Train only layer3 and layer4 of the resnet18, freeze the previous ones\n",
            "2022-12-14 22:18:57   There are 1 GPUs and 2 CPUs.\n",
            "2022-12-14 22:19:01   Cached dataset cache/small_M10_N5_mipc10.torch does not exist, I'll create it now.\n",
            "2022-12-14 22:19:01   Searching training images in /content/small/train\n",
            "2022-12-14 22:19:02   Found 59650 images\n",
            "2022-12-14 22:19:02   For each image, get its UTM east, UTM north and heading from its path\n",
            "2022-12-14 22:19:02   For each image, get class and group to which it belongs\n",
            "2022-12-14 22:19:02   Group together images belonging to the same class\n",
            "2022-12-14 22:19:02   Group together classes belonging to the same group\n",
            "2022-12-14 22:19:02   Using 1 groups\n",
            "2022-12-14 22:19:02   The 1 groups have respectively the following number of classes [5965]\n",
            "2022-12-14 22:19:02   The 1 groups have respectively the following number of images [59650]\n",
            "2022-12-14 22:19:03   Validation set: < val - #q: 7993; #db: 8015 >\n",
            "2022-12-14 22:19:03   Test set: < test - #q: 1000; #db: 27191 >\n",
            "2022-12-14 22:19:03   Start training ...\n",
            "2022-12-14 22:19:03   There are 5965 classes for the first group, each epoch has 10000 iterations with batch_size 32, therefore the model sees each class (on average) 53.6 times per epoch\n",
            "/usr/local/lib/python3.8/dist-packages/torch/utils/data/dataloader.py:554: UserWarning: This DataLoader will create 8 worker processes in total. Our suggested max number of worker in current system is 2, which is smaller than what this DataLoader is going to create. Please be aware that excessive worker creation might get DataLoader running slow or even freeze, lower the worker number to avoid potential slowness/freeze if necessary.\n",
            "  warnings.warn(_create_warning_msg(\n",
            "100%|███████████████████████████████████████████████████████| 10000/10000 [1:13:21<00:00,  2.27it/s]\n",
            "2022-12-14 23:32:25   Epoch 00 in 1:13:21, loss = 7.9503\n",
            "2022-12-14 23:32:25   Extracting database descriptors for evaluation/testing\n",
            "100%|█████████████████████████████████████████████████████████████| 501/501 [01:06<00:00,  7.57it/s]\n",
            "2022-12-14 23:33:31   Extracting queries descriptors for evaluation/testing using batch size 1\n",
            "100%|███████████████████████████████████████████████████████████| 7993/7993 [01:48<00:00, 73.68it/s]\n",
            "2022-12-14 23:35:19   Calculating recalls\n",
            "2022-12-14 23:35:21   Epoch 00 in 1:16:18, < val - #q: 7993; #db: 8015 >: R@1: 78.7, R@5: 88.0\n",
            "100%|███████████████████████████████████████████████████████| 10000/10000 [1:13:19<00:00,  2.27it/s]\n",
            "2022-12-15 00:48:41   Epoch 01 in 1:13:20, loss = 3.3677\n",
            "2022-12-15 00:48:41   Extracting database descriptors for evaluation/testing\n",
            "100%|█████████████████████████████████████████████████████████████| 501/501 [01:03<00:00,  7.84it/s]\n",
            "2022-12-15 00:49:45   Extracting queries descriptors for evaluation/testing using batch size 1\n",
            "100%|███████████████████████████████████████████████████████████| 7993/7993 [01:48<00:00, 73.69it/s]\n",
            "2022-12-15 00:51:34   Calculating recalls\n",
            "2022-12-15 00:51:35   Epoch 01 in 1:16:13, < val - #q: 7993; #db: 8015 >: R@1: 81.9, R@5: 90.0\n",
            "100%|███████████████████████████████████████████████████████| 10000/10000 [1:13:13<00:00,  2.28it/s]\n",
            "2022-12-15 02:04:50   Epoch 02 in 1:13:14, loss = 2.4285\n",
            "2022-12-15 02:04:50   Extracting database descriptors for evaluation/testing\n",
            "100%|█████████████████████████████████████████████████████████████| 501/501 [01:03<00:00,  7.94it/s]\n",
            "2022-12-15 02:05:53   Extracting queries descriptors for evaluation/testing using batch size 1\n",
            "100%|███████████████████████████████████████████████████████████| 7993/7993 [01:47<00:00, 74.54it/s]\n",
            "2022-12-15 02:07:41   Calculating recalls\n",
            "2022-12-15 02:07:42   Epoch 02 in 1:16:06, < val - #q: 7993; #db: 8015 >: R@1: 83.1, R@5: 90.5\n",
            "2022-12-15 02:07:42   Trained for 03 epochs, in total in 3:48:47\n",
            "2022-12-15 02:07:43   Now testing on the test set: < test - #q: 1000; #db: 27191 >\n",
            "2022-12-15 02:07:43   Extracting database descriptors for evaluation/testing\n",
            "100%|███████████████████████████████████████████████████████████| 1700/1700 [03:37<00:00,  7.82it/s]\n",
            "2022-12-15 02:11:20   Extracting queries descriptors for evaluation/testing using batch size 1\n",
            "100%|███████████████████████████████████████████████████████████| 1000/1000 [00:15<00:00, 64.09it/s]\n",
            "2022-12-15 02:11:36   Calculating recalls\n",
            "2022-12-15 02:11:36   < test - #q: 1000; #db: 27191 >: R@1: 52.3, R@5: 66.3, R@10: 71.8, R@20: 76.3\n",
            "2022-12-15 02:11:36   Experiment finished (without any errors)\n"
          ]
        }
      ],
      "source": [
        "!python train.py --dataset_folder /content/small --groups_num 1 --epochs_num 3 --loss_function cosface"
      ]
    },
    {
      "cell_type": "markdown",
      "metadata": {
        "id": "lqv3eUJPyt40"
      },
      "source": [
        "## Evaluation on tokyo_xs"
      ]
    },
    {
      "cell_type": "markdown",
      "source": [
        "Results 03/02/2033: R@1: 69.5, R@5: 84.8, R@10: 89.2, R@20: 92.7"
      ],
      "metadata": {
        "id": "_ZR93Du_9D5B"
      }
    },
    {
      "cell_type": "code",
      "execution_count": null,
      "metadata": {
        "colab": {
          "base_uri": "https://localhost:8080/"
        },
        "id": "57lHGHP8S9wH",
        "outputId": "abbd90fd-67c1-4110-e1d6-88d6c8c96691"
      },
      "outputs": [
        {
          "name": "stdout",
          "output_type": "stream",
          "text": [
            "2022-12-15 14:36:48   eval.py --dataset_folder /content/tokyo_xs/ --resume_model /content/content/logs/default/2022-12-14_22-18-55/best_model.pth\n",
            "2022-12-15 14:36:48   Arguments: Namespace(L=2, M=10, N=5, alpha=30, augmentation_device='cuda', backbone='resnet18', batch_size=32, brightness=0.7, classifiers_lr=0.01, contrast=0.7, dataset_folder='/content/tokyo_xs/', device='cuda', epochs_num=50, fc_output_dim=512, groups_num=8, hue=0.5, infer_batch_size=16, iterations_per_epoch=10000, lr=1e-05, min_images_per_class=10, num_workers=8, positive_dist_threshold=25, random_resized_crop=0.5, resume_model='/content/content/logs/default/2022-12-14_22-18-55/best_model.pth', resume_train=None, saturation=0.7, save_dir='default', seed=0, test_set_folder='/content/tokyo_xs/test', use_amp16=False)\n",
            "2022-12-15 14:36:48   The outputs are being saved in logs/default/2022-12-15_14-36-48\n",
            "/usr/local/lib/python3.8/dist-packages/torchvision/models/_utils.py:208: UserWarning: The parameter 'pretrained' is deprecated since 0.13 and may be removed in the future, please use 'weights' instead.\n",
            "  warnings.warn(\n",
            "/usr/local/lib/python3.8/dist-packages/torchvision/models/_utils.py:223: UserWarning: Arguments other than a weight enum or `None` for 'weights' are deprecated since 0.13 and may be removed in the future. The current behavior is equivalent to passing `weights=ResNet18_Weights.IMAGENET1K_V1`. You can also use `weights=ResNet18_Weights.DEFAULT` to get the most up-to-date weights.\n",
            "  warnings.warn(msg)\n",
            "2022-12-15 14:36:49   There are 1 GPUs and 2 CPUs.\n",
            "2022-12-15 14:36:49   Loading model from /content/content/logs/default/2022-12-14_22-18-55/best_model.pth\n",
            "/usr/local/lib/python3.8/dist-packages/torch/utils/data/dataloader.py:554: UserWarning: This DataLoader will create 8 worker processes in total. Our suggested max number of worker in current system is 2, which is smaller than what this DataLoader is going to create. Please be aware that excessive worker creation might get DataLoader running slow or even freeze, lower the worker number to avoid potential slowness/freeze if necessary.\n",
            "  warnings.warn(_create_warning_msg(\n",
            "100%|█████████████████████████████████████████████████████████████| 799/799 [02:04<00:00,  6.44it/s]\n",
            "100%|█████████████████████████████████████████████████████████████| 315/315 [00:05<00:00, 61.54it/s]\n",
            "2022-12-15 14:39:00   < test - #q: 315; #db: 12771 >: R@1: 69.5, R@5: 84.8, R@10: 89.2, R@20: 92.7\n"
          ]
        }
      ],
      "source": [
        "!python eval.py --dataset_folder /content/tokyo_xs/  --resume_model /content/content/logs/default/2022-12-14_22-18-55/best_model.pth #file in logs.zip"
      ]
    },
    {
      "cell_type": "markdown",
      "metadata": {
        "id": "6KjS8FDRy5hB"
      },
      "source": [
        "## Evaluation on sf-xs"
      ]
    },
    {
      "cell_type": "markdown",
      "source": [
        "Results 03/02/2022: R@1: 52.3, R@5: 66.3, R@10: 71.8, R@20: 76.3"
      ],
      "metadata": {
        "id": "zi2_QM_t9Wqw"
      }
    },
    {
      "cell_type": "markdown",
      "source": [
        "Results "
      ],
      "metadata": {
        "id": "zoaDvgxK9Jc-"
      }
    },
    {
      "cell_type": "code",
      "execution_count": null,
      "metadata": {
        "colab": {
          "base_uri": "https://localhost:8080/"
        },
        "id": "7sM8w4R-O48-",
        "outputId": "5db4bde2-364c-435b-d9b8-5c03e4741880"
      },
      "outputs": [
        {
          "name": "stdout",
          "output_type": "stream",
          "text": [
            "2022-12-15 14:41:38   eval.py --dataset_folder /content/small/ --resume_model /content/content/logs/default/2022-12-14_22-18-55/best_model.pth\n",
            "2022-12-15 14:41:38   Arguments: Namespace(L=2, M=10, N=5, alpha=30, augmentation_device='cuda', backbone='resnet18', batch_size=32, brightness=0.7, classifiers_lr=0.01, contrast=0.7, dataset_folder='/content/small/', device='cuda', epochs_num=50, fc_output_dim=512, groups_num=8, hue=0.5, infer_batch_size=16, iterations_per_epoch=10000, lr=1e-05, min_images_per_class=10, num_workers=8, positive_dist_threshold=25, random_resized_crop=0.5, resume_model='/content/content/logs/default/2022-12-14_22-18-55/best_model.pth', resume_train=None, saturation=0.7, save_dir='default', seed=0, test_set_folder='/content/small/test', use_amp16=False)\n",
            "2022-12-15 14:41:38   The outputs are being saved in logs/default/2022-12-15_14-41-38\n",
            "/usr/local/lib/python3.8/dist-packages/torchvision/models/_utils.py:208: UserWarning: The parameter 'pretrained' is deprecated since 0.13 and may be removed in the future, please use 'weights' instead.\n",
            "  warnings.warn(\n",
            "/usr/local/lib/python3.8/dist-packages/torchvision/models/_utils.py:223: UserWarning: Arguments other than a weight enum or `None` for 'weights' are deprecated since 0.13 and may be removed in the future. The current behavior is equivalent to passing `weights=ResNet18_Weights.IMAGENET1K_V1`. You can also use `weights=ResNet18_Weights.DEFAULT` to get the most up-to-date weights.\n",
            "  warnings.warn(msg)\n",
            "2022-12-15 14:41:39   There are 1 GPUs and 2 CPUs.\n",
            "2022-12-15 14:41:39   Loading model from /content/content/logs/default/2022-12-14_22-18-55/best_model.pth\n",
            "/usr/local/lib/python3.8/dist-packages/torch/utils/data/dataloader.py:554: UserWarning: This DataLoader will create 8 worker processes in total. Our suggested max number of worker in current system is 2, which is smaller than what this DataLoader is going to create. Please be aware that excessive worker creation might get DataLoader running slow or even freeze, lower the worker number to avoid potential slowness/freeze if necessary.\n",
            "  warnings.warn(_create_warning_msg(\n",
            "100%|███████████████████████████████████████████████████████████| 1700/1700 [03:29<00:00,  8.11it/s]\n",
            "100%|███████████████████████████████████████████████████████████| 1000/1000 [00:14<00:00, 67.02it/s]\n",
            "2022-12-15 14:45:26   < test - #q: 1000; #db: 27191 >: R@1: 52.3, R@5: 66.3, R@10: 71.8, R@20: 76.3\n"
          ]
        }
      ],
      "source": [
        "!python eval.py --dataset_folder /content/small/  --resume_model /content/content/logs/default/2022-12-14_22-18-55/best_model.pth #file in logs.zip"
      ]
    },
    {
      "cell_type": "markdown",
      "metadata": {
        "id": "w2lx7quay_6T"
      },
      "source": [
        "## Evaluation on tokyo-night"
      ]
    },
    {
      "cell_type": "markdown",
      "source": [
        "Results 03/02/2023: R@1: 49.5, R@5: 73.3, R@10: 80.0, R@20: 84.8"
      ],
      "metadata": {
        "id": "NsqfcZhS9Zax"
      }
    },
    {
      "cell_type": "code",
      "execution_count": null,
      "metadata": {
        "id": "HSKteSXGRQKF"
      },
      "outputs": [],
      "source": [
        "#use database of tokyoxs\n",
        "!cp -r /content/tokyo_xs/test/database /content/tokyo-night"
      ]
    },
    {
      "cell_type": "code",
      "execution_count": null,
      "metadata": {
        "colab": {
          "base_uri": "https://localhost:8080/"
        },
        "id": "14F7KmCHT3C9",
        "outputId": "d290ff94-2777-4e06-b782-120d9d1b8537"
      },
      "outputs": [
        {
          "name": "stdout",
          "output_type": "stream",
          "text": [
            "2022-12-15 15:04:23   eval.py --dataset_folder /content/tokyo-night/ --resume_model /content/content/logs/default/2022-12-14_22-18-55/best_model.pth\n",
            "2022-12-15 15:04:23   Arguments: Namespace(L=2, M=10, N=5, alpha=30, augmentation_device='cuda', backbone='resnet18', batch_size=32, brightness=0.7, classifiers_lr=0.01, contrast=0.7, dataset_folder='/content/tokyo-night/', device='cuda', epochs_num=50, fc_output_dim=512, groups_num=8, hue=0.5, infer_batch_size=16, iterations_per_epoch=10000, lr=1e-05, min_images_per_class=10, num_workers=8, positive_dist_threshold=25, random_resized_crop=0.5, resume_model='/content/content/logs/default/2022-12-14_22-18-55/best_model.pth', resume_train=None, saturation=0.7, save_dir='default', seed=0, test_set_folder='/content/tokyo-night/test', use_amp16=False)\n",
            "2022-12-15 15:04:23   The outputs are being saved in logs/default/2022-12-15_15-04-23\n",
            "/usr/local/lib/python3.8/dist-packages/torchvision/models/_utils.py:208: UserWarning: The parameter 'pretrained' is deprecated since 0.13 and may be removed in the future, please use 'weights' instead.\n",
            "  warnings.warn(\n",
            "/usr/local/lib/python3.8/dist-packages/torchvision/models/_utils.py:223: UserWarning: Arguments other than a weight enum or `None` for 'weights' are deprecated since 0.13 and may be removed in the future. The current behavior is equivalent to passing `weights=ResNet18_Weights.IMAGENET1K_V1`. You can also use `weights=ResNet18_Weights.DEFAULT` to get the most up-to-date weights.\n",
            "  warnings.warn(msg)\n",
            "Downloading: \"https://download.pytorch.org/models/resnet18-f37072fd.pth\" to /root/.cache/torch/hub/checkpoints/resnet18-f37072fd.pth\n",
            "100% 44.7M/44.7M [00:01<00:00, 30.5MB/s]\n",
            "2022-12-15 15:04:25   There are 1 GPUs and 2 CPUs.\n",
            "2022-12-15 15:04:25   Loading model from /content/content/logs/default/2022-12-14_22-18-55/best_model.pth\n",
            "/usr/local/lib/python3.8/dist-packages/torch/utils/data/dataloader.py:554: UserWarning: This DataLoader will create 8 worker processes in total. Our suggested max number of worker in current system is 2, which is smaller than what this DataLoader is going to create. Please be aware that excessive worker creation might get DataLoader running slow or even freeze, lower the worker number to avoid potential slowness/freeze if necessary.\n",
            "  warnings.warn(_create_warning_msg(\n",
            "100%|█████████████████████████████████████████████████████████████| 799/799 [02:01<00:00,  6.60it/s]\n",
            "100%|█████████████████████████████████████████████████████████████| 105/105 [00:02<00:00, 48.89it/s]\n",
            "2022-12-15 15:06:33   < test - #q: 105; #db: 12771 >: R@1: 49.5, R@5: 73.3, R@10: 80.0, R@20: 84.8\n"
          ]
        }
      ],
      "source": [
        "!python eval.py --dataset_folder /content/tokyo-night/  --resume_model /content/content/logs/default/2022-12-14_22-18-55/best_model.pth #file in logs.zip"
      ]
    },
    {
      "cell_type": "markdown",
      "metadata": {
        "id": "A8t_S40jORxm"
      },
      "source": [
        "# Trying different loss function\n",
        "\n",
        "\n"
      ]
    },
    {
      "cell_type": "markdown",
      "metadata": {
        "id": "-8JwZjo1-TEh"
      },
      "source": [
        "# Arcface"
      ]
    },
    {
      "cell_type": "markdown",
      "metadata": {
        "id": "FQvJDmdJ1pj8"
      },
      "source": [
        "## Training sf-xs with Arc Face"
      ]
    },
    {
      "cell_type": "markdown",
      "source": [
        "Results 03/02/2023: R@1: 51.9, R@5: 66.6, R@10: 71.3, R@20: 75.5"
      ],
      "metadata": {
        "id": "9_-rwI_j99G6"
      }
    },
    {
      "cell_type": "code",
      "execution_count": null,
      "metadata": {
        "colab": {
          "base_uri": "https://localhost:8080/"
        },
        "id": "lmC8zffKOakD",
        "outputId": "6fa9ba8e-6585-4d5b-8f38-b183e6b6eac8"
      },
      "outputs": [
        {
          "name": "stdout",
          "output_type": "stream",
          "text": [
            "2023-01-22 08:38:17   train.py --dataset_folder /content/small --groups_num 1 --epochs_num 3 --loss_function arcface\n",
            "2023-01-22 08:38:17   Arguments: Namespace(L=2, M=10, N=5, alpha=30, augmentation_device='cuda', backbone='ResNet18', batch_size=32, brightness=0.7, classifiers_lr=0.01, contrast=0.7, dataset_folder='/content/small', device='cuda', epochs_num=3, fc_output_dim=512, groups_num=1, hue=0.5, infer_batch_size=16, iterations_per_epoch=10000, loss_function='arcface', lr=1e-05, min_images_per_class=10, num_workers=8, positive_dist_threshold=25, random_resized_crop=0.5, resume_model=None, resume_train=None, saturation=0.7, save_dir='default', seed=0, test_set_folder='/content/small/test', train_set_folder='/content/small/train', use_amp16=False, val_set_folder='/content/small/val')\n",
            "2023-01-22 08:38:17   The outputs are being saved in logs/default/2023-01-22_08-38-17\n",
            "Downloading: \"https://download.pytorch.org/models/resnet18-f37072fd.pth\" to /root/.cache/torch/hub/checkpoints/resnet18-f37072fd.pth\n",
            "100% 44.7M/44.7M [00:00<00:00, 94.8MB/s]\n",
            "2023-01-22 08:38:18   Train only layer3 and layer4 of the ResNet18, freeze the previous ones\n",
            "2023-01-22 08:38:18   There are 1 GPUs and 12 CPUs.\n",
            "2023-01-22 08:38:23   Cached dataset cache/small_M10_N5_mipc10.torch does not exist, I'll create it now.\n",
            "2023-01-22 08:38:23   Searching training images in /content/small/train\n",
            "2023-01-22 08:38:23   Found 59650 images\n",
            "2023-01-22 08:38:23   For each image, get its UTM east, UTM north and heading from its path\n",
            "2023-01-22 08:38:23   For each image, get class and group to which it belongs\n",
            "2023-01-22 08:38:23   Group together images belonging to the same class\n",
            "2023-01-22 08:38:23   Group together classes belonging to the same group\n",
            "2023-01-22 08:38:23   Using arcface loss function.\n",
            "2023-01-22 08:38:23   Using 1 groups\n",
            "2023-01-22 08:38:23   The 1 groups have respectively the following number of classes [5965]\n",
            "2023-01-22 08:38:23   The 1 groups have respectively the following number of images [59650]\n",
            "2023-01-22 08:38:24   Validation set: < val - #q: 7993; #db: 8015 >\n",
            "2023-01-22 08:38:24   Test set: < test - #q: 1000; #db: 27191 >\n",
            "2023-01-22 08:38:24   Start training ...\n",
            "2023-01-22 08:38:24   There are 5965 classes for the first group, each epoch has 10000 iterations with batch_size 32, therefore the model sees each class (on average) 53.6 times per epoch\n",
            "100%|█████████████████████████████████████████████████████████| 10000/10000 [16:52<00:00,  9.88it/s]\n",
            "2023-01-22 08:55:16   Epoch 00 in 0:16:52, loss = 17.5596\n",
            "2023-01-22 08:55:16   Extracting database descriptors for evaluation/testing\n",
            "100%|█████████████████████████████████████████████████████████████| 501/501 [00:12<00:00, 38.75it/s]\n",
            "2023-01-22 08:55:29   Extracting queries descriptors for evaluation/testing using batch size 1\n",
            "100%|██████████████████████████████████████████████████████████| 7993/7993 [00:52<00:00, 153.68it/s]\n",
            "2023-01-22 08:56:21   Calculating recalls\n",
            "2023-01-22 08:56:23   Epoch 00 in 0:17:58, < val - #q: 7993; #db: 8015 >: R@1: 78.2, R@5: 87.9\n",
            "100%|█████████████████████████████████████████████████████████| 10000/10000 [16:46<00:00,  9.94it/s]\n",
            "2023-01-22 09:13:10   Epoch 01 in 0:16:46, loss = 7.2078\n",
            "2023-01-22 09:13:10   Extracting database descriptors for evaluation/testing\n",
            "100%|█████████████████████████████████████████████████████████████| 501/501 [00:12<00:00, 39.30it/s]\n",
            "2023-01-22 09:13:23   Extracting queries descriptors for evaluation/testing using batch size 1\n",
            "100%|██████████████████████████████████████████████████████████| 7993/7993 [00:52<00:00, 153.35it/s]\n",
            "2023-01-22 09:14:15   Calculating recalls\n",
            "2023-01-22 09:14:16   Epoch 01 in 0:17:53, < val - #q: 7993; #db: 8015 >: R@1: 81.4, R@5: 89.7\n",
            "100%|█████████████████████████████████████████████████████████| 10000/10000 [16:46<00:00,  9.93it/s]\n",
            "2023-01-22 09:31:04   Epoch 02 in 0:16:46, loss = 4.8806\n",
            "2023-01-22 09:31:04   Extracting database descriptors for evaluation/testing\n",
            "100%|█████████████████████████████████████████████████████████████| 501/501 [00:12<00:00, 40.06it/s]\n",
            "2023-01-22 09:31:16   Extracting queries descriptors for evaluation/testing using batch size 1\n",
            "100%|██████████████████████████████████████████████████████████| 7993/7993 [00:51<00:00, 154.82it/s]\n",
            "2023-01-22 09:32:08   Calculating recalls\n",
            "2023-01-22 09:32:09   Epoch 02 in 0:17:52, < val - #q: 7993; #db: 8015 >: R@1: 82.8, R@5: 90.5\n",
            "2023-01-22 09:32:10   Trained for 03 epochs, in total in 0:53:52\n",
            "2023-01-22 09:32:10   Now testing on the test set: < test - #q: 1000; #db: 27191 >\n",
            "2023-01-22 09:32:10   Extracting database descriptors for evaluation/testing\n",
            "100%|███████████████████████████████████████████████████████████| 1700/1700 [00:42<00:00, 39.99it/s]\n",
            "2023-01-22 09:32:52   Extracting queries descriptors for evaluation/testing using batch size 1\n",
            "100%|██████████████████████████████████████████████████████████| 1000/1000 [00:07<00:00, 133.50it/s]\n",
            "2023-01-22 09:33:00   Calculating recalls\n",
            "2023-01-22 09:33:00   < test - #q: 1000; #db: 27191 >: R@1: 51.9, R@5: 66.6, R@10: 71.3, R@20: 75.5\n",
            "2023-01-22 09:33:00   Experiment finished (without any errors)\n"
          ]
        }
      ],
      "source": [
        "!python train.py --dataset_folder /content/small --groups_num 1 --epochs_num 3 --loss_function arcface"
      ]
    },
    {
      "cell_type": "markdown",
      "metadata": {
        "id": "LG4U8hFKp8Hx"
      },
      "source": [
        "## Evaluation on tokyo_xs"
      ]
    },
    {
      "cell_type": "markdown",
      "source": [
        "Results 03/02/2022: R@1: 67.3, R@5: 80.6, R@10: 86.0, R@20: 92.1"
      ],
      "metadata": {
        "id": "KoOTUhQU-Dy3"
      }
    },
    {
      "cell_type": "code",
      "execution_count": null,
      "metadata": {
        "colab": {
          "base_uri": "https://localhost:8080/"
        },
        "id": "OwVXJkysqHrz",
        "outputId": "70afe421-a1b7-4691-e28d-d9e500c37d54"
      },
      "outputs": [
        {
          "name": "stdout",
          "output_type": "stream",
          "text": [
            "2023-01-23 17:26:14   eval.py --dataset_folder /content/tokyo_xs/ --resume_model /content/logs/content/logs/default/2023-01-22_08-38-17/best_model.pth\n",
            "2023-01-23 17:26:14   Arguments: Namespace(L=2, M=10, N=5, alpha=30, augmentation_device='cuda', backbone='ResNet18', batch_size=32, brightness=0.7, classifiers_lr=0.01, contrast=0.7, dataset_folder='/content/tokyo_xs/', device='cuda', epochs_num=50, fc_output_dim=512, groups_num=8, hue=0.5, infer_batch_size=16, iterations_per_epoch=10000, loss_function='cosface', lr=1e-05, min_images_per_class=10, num_workers=8, positive_dist_threshold=25, random_resized_crop=0.5, resume_model='/content/logs/content/logs/default/2023-01-22_08-38-17/best_model.pth', resume_train=None, saturation=0.7, save_dir='default', seed=0, test_set_folder='/content/tokyo_xs/test', use_amp16=False)\n",
            "2023-01-23 17:26:14   The outputs are being saved in logs/default/2023-01-23_17-26-14\n",
            "2023-01-23 17:26:14   There are 1 GPUs and 2 CPUs.\n",
            "2023-01-23 17:26:14   Loading model from /content/logs/content/logs/default/2023-01-22_08-38-17/best_model.pth\n",
            "/usr/local/lib/python3.8/dist-packages/torch/utils/data/dataloader.py:554: UserWarning: This DataLoader will create 8 worker processes in total. Our suggested max number of worker in current system is 2, which is smaller than what this DataLoader is going to create. Please be aware that excessive worker creation might get DataLoader running slow or even freeze, lower the worker number to avoid potential slowness/freeze if necessary.\n",
            "  warnings.warn(_create_warning_msg(\n",
            "100%|█████████████████████████████████████████████████████████████| 799/799 [01:55<00:00,  6.92it/s]\n",
            "100%|█████████████████████████████████████████████████████████████| 315/315 [00:05<00:00, 61.22it/s]\n",
            "2023-01-23 17:28:17   < test - #q: 315; #db: 12771 >: R@1: 67.3, R@5: 80.6, R@10: 86.0, R@20: 92.1\n"
          ]
        }
      ],
      "source": [
        "!python eval.py --dataset_folder /content/tokyo_xs/  --resume_model /content/logs/content/logs/default/2023-01-22_08-38-17/best_model.pth #file in logs.zip"
      ]
    },
    {
      "cell_type": "markdown",
      "metadata": {
        "id": "f5123uAdoGOA"
      },
      "source": [
        "## Evaluation on sf-xs(test)"
      ]
    },
    {
      "cell_type": "markdown",
      "source": [
        "Results 03/02/2023: R@1: 51.9, R@5: 66.6, R@10: 71.3, R@20: 75.5"
      ],
      "metadata": {
        "id": "AGe1znZI-HxG"
      }
    },
    {
      "cell_type": "code",
      "execution_count": null,
      "metadata": {
        "colab": {
          "base_uri": "https://localhost:8080/"
        },
        "id": "9uZCxmT6oEAA",
        "outputId": "d6918125-7c74-46c4-eb69-10c968e9a521"
      },
      "outputs": [
        {
          "name": "stdout",
          "output_type": "stream",
          "text": [
            "2023-01-23 17:18:05   eval.py --dataset_folder /content/small/ --resume_model /content/logs/content/logs/default/2023-01-22_08-38-17/best_model.pth\n",
            "2023-01-23 17:18:05   Arguments: Namespace(L=2, M=10, N=5, alpha=30, augmentation_device='cuda', backbone='ResNet18', batch_size=32, brightness=0.7, classifiers_lr=0.01, contrast=0.7, dataset_folder='/content/small/', device='cuda', epochs_num=50, fc_output_dim=512, groups_num=8, hue=0.5, infer_batch_size=16, iterations_per_epoch=10000, loss_function='cosface', lr=1e-05, min_images_per_class=10, num_workers=8, positive_dist_threshold=25, random_resized_crop=0.5, resume_model='/content/logs/content/logs/default/2023-01-22_08-38-17/best_model.pth', resume_train=None, saturation=0.7, save_dir='default', seed=0, test_set_folder='/content/small/test', use_amp16=False)\n",
            "2023-01-23 17:18:05   The outputs are being saved in logs/default/2023-01-23_17-18-05\n",
            "2023-01-23 17:18:06   There are 1 GPUs and 2 CPUs.\n",
            "2023-01-23 17:18:06   Loading model from /content/logs/content/logs/default/2023-01-22_08-38-17/best_model.pth\n",
            "/usr/local/lib/python3.8/dist-packages/torch/utils/data/dataloader.py:554: UserWarning: This DataLoader will create 8 worker processes in total. Our suggested max number of worker in current system is 2, which is smaller than what this DataLoader is going to create. Please be aware that excessive worker creation might get DataLoader running slow or even freeze, lower the worker number to avoid potential slowness/freeze if necessary.\n",
            "  warnings.warn(_create_warning_msg(\n",
            "100%|███████████████████████████████████████████████████████████| 1700/1700 [03:27<00:00,  8.20it/s]\n",
            "100%|███████████████████████████████████████████████████████████| 1000/1000 [00:14<00:00, 67.33it/s]\n",
            "2023-01-23 17:21:53   < test - #q: 1000; #db: 27191 >: R@1: 51.9, R@5: 66.6, R@10: 71.3, R@20: 75.5\n"
          ]
        }
      ],
      "source": [
        "!python eval.py --dataset_folder /content/small/  --resume_model /content/logs/content/logs/default/2023-01-22_08-38-17/best_model.pth #file in logs.zip"
      ]
    },
    {
      "cell_type": "markdown",
      "metadata": {
        "id": "ko7QJtcdq98a"
      },
      "source": [
        "## Evaluation on tokyo-night"
      ]
    },
    {
      "cell_type": "markdown",
      "source": [
        "Results 03/02/2023: R@1: 47.6, R@5: 70.5, R@10: 77.1, R@20: 85.7\n",
        "\n"
      ],
      "metadata": {
        "id": "5RpdIzEM-KFI"
      }
    },
    {
      "cell_type": "code",
      "execution_count": null,
      "metadata": {
        "id": "Kz70wo7irCJC"
      },
      "outputs": [],
      "source": [
        "!cp -r /content/tokyo_xs/test/database /content/tokyo-night"
      ]
    },
    {
      "cell_type": "code",
      "execution_count": null,
      "metadata": {
        "colab": {
          "base_uri": "https://localhost:8080/"
        },
        "id": "ZPA9-6rerSbP",
        "outputId": "ac24af66-6e09-4b73-b4d7-d6c2b9074a5f"
      },
      "outputs": [
        {
          "name": "stdout",
          "output_type": "stream",
          "text": [
            "2023-01-23 17:30:17   eval.py --dataset_folder /content/tokyo-night/ --resume_model /content/logs/content/logs/default/2023-01-22_08-38-17/best_model.pth\n",
            "2023-01-23 17:30:17   Arguments: Namespace(L=2, M=10, N=5, alpha=30, augmentation_device='cuda', backbone='ResNet18', batch_size=32, brightness=0.7, classifiers_lr=0.01, contrast=0.7, dataset_folder='/content/tokyo-night/', device='cuda', epochs_num=50, fc_output_dim=512, groups_num=8, hue=0.5, infer_batch_size=16, iterations_per_epoch=10000, loss_function='cosface', lr=1e-05, min_images_per_class=10, num_workers=8, positive_dist_threshold=25, random_resized_crop=0.5, resume_model='/content/logs/content/logs/default/2023-01-22_08-38-17/best_model.pth', resume_train=None, saturation=0.7, save_dir='default', seed=0, test_set_folder='/content/tokyo-night/test', use_amp16=False)\n",
            "2023-01-23 17:30:17   The outputs are being saved in logs/default/2023-01-23_17-30-17\n",
            "2023-01-23 17:30:17   There are 1 GPUs and 2 CPUs.\n",
            "2023-01-23 17:30:17   Loading model from /content/logs/content/logs/default/2023-01-22_08-38-17/best_model.pth\n",
            "/usr/local/lib/python3.8/dist-packages/torch/utils/data/dataloader.py:554: UserWarning: This DataLoader will create 8 worker processes in total. Our suggested max number of worker in current system is 2, which is smaller than what this DataLoader is going to create. Please be aware that excessive worker creation might get DataLoader running slow or even freeze, lower the worker number to avoid potential slowness/freeze if necessary.\n",
            "  warnings.warn(_create_warning_msg(\n",
            "100%|█████████████████████████████████████████████████████████████| 799/799 [01:53<00:00,  7.02it/s]\n",
            "100%|█████████████████████████████████████████████████████████████| 105/105 [00:02<00:00, 47.95it/s]\n",
            "2023-01-23 17:32:15   < test - #q: 105; #db: 12771 >: R@1: 47.6, R@5: 70.5, R@10: 77.1, R@20: 85.7\n"
          ]
        }
      ],
      "source": [
        "!python eval.py --dataset_folder /content/tokyo-night/  --resume_model /content/logs/content/logs/default/2023-01-22_08-38-17/best_model.pth #file in logs.zip"
      ]
    },
    {
      "cell_type": "markdown",
      "metadata": {
        "id": "XZdaPuS6wNB9"
      },
      "source": [
        "# SphereFace"
      ]
    },
    {
      "cell_type": "markdown",
      "metadata": {
        "id": "TYeUeG4rwRiw"
      },
      "source": [
        "## Training sf-xs with SphereFace"
      ]
    },
    {
      "cell_type": "markdown",
      "source": [
        "Results 03/02/2023: R@1: 50.6, R@5: 65.0, R@10: 71.3, R@20: 75.1"
      ],
      "metadata": {
        "id": "QYFKVIbK-nB1"
      }
    },
    {
      "cell_type": "code",
      "execution_count": null,
      "metadata": {
        "colab": {
          "base_uri": "https://localhost:8080/"
        },
        "id": "rZRWqVm-wcXS",
        "outputId": "4a45f0f4-ebaa-48e5-d83d-c3ff7ef1f0f1"
      },
      "outputs": [
        {
          "name": "stdout",
          "output_type": "stream",
          "text": [
            "2023-01-23 18:02:58   train.py --dataset_folder /content/small --groups_num 1 --epochs_num 3 --loss_function sphereface\n",
            "2023-01-23 18:02:58   Arguments: Namespace(L=2, M=10, N=5, alpha=30, augmentation_device='cuda', backbone='ResNet18', batch_size=32, brightness=0.7, classifiers_lr=0.01, contrast=0.7, dataset_folder='/content/small', device='cuda', epochs_num=3, fc_output_dim=512, groups_num=1, hue=0.5, infer_batch_size=16, iterations_per_epoch=10000, loss_function='sphereface', lr=1e-05, min_images_per_class=10, num_workers=8, positive_dist_threshold=25, random_resized_crop=0.5, resume_model=None, resume_train=None, saturation=0.7, save_dir='default', seed=0, test_set_folder='/content/small/test', train_set_folder='/content/small/train', use_amp16=False, val_set_folder='/content/small/val')\n",
            "2023-01-23 18:02:58   The outputs are being saved in logs/default/2023-01-23_18-02-58\n",
            "2023-01-23 18:02:58   Train only layer3 and layer4 of the ResNet18, freeze the previous ones\n",
            "2023-01-23 18:02:59   There are 1 GPUs and 12 CPUs.\n",
            "2023-01-23 18:03:01   Using cached dataset cache/small_M10_N5_mipc10.torch\n",
            "2023-01-23 18:03:01   Using sphereface loss function.\n",
            "2023-01-23 18:03:01   Using 1 groups\n",
            "2023-01-23 18:03:01   The 1 groups have respectively the following number of classes [5965]\n",
            "2023-01-23 18:03:01   The 1 groups have respectively the following number of images [59650]\n",
            "2023-01-23 18:03:01   Validation set: < val - #q: 7993; #db: 8015 >\n",
            "2023-01-23 18:03:01   Test set: < test - #q: 1000; #db: 27191 >\n",
            "2023-01-23 18:03:01   Start training ...\n",
            "2023-01-23 18:03:01   There are 5965 classes for the first group, each epoch has 10000 iterations with batch_size 32, therefore the model sees each class (on average) 53.6 times per epoch\n",
            "100%|█████████████████████████████████████████████████████████| 10000/10000 [17:02<00:00,  9.78it/s]\n",
            "2023-01-23 18:20:04   Epoch 00 in 0:17:02, loss = 8.5344\n",
            "2023-01-23 18:20:04   Extracting database descriptors for evaluation/testing\n",
            "100%|█████████████████████████████████████████████████████████████| 501/501 [00:12<00:00, 38.62it/s]\n",
            "2023-01-23 18:20:17   Extracting queries descriptors for evaluation/testing using batch size 1\n",
            "100%|██████████████████████████████████████████████████████████| 7993/7993 [00:53<00:00, 149.77it/s]\n",
            "2023-01-23 18:21:10   Calculating recalls\n",
            "2023-01-23 18:21:12   Epoch 00 in 0:18:10, < val - #q: 7993; #db: 8015 >: R@1: 78.6, R@5: 87.8\n",
            "100%|█████████████████████████████████████████████████████████| 10000/10000 [16:56<00:00,  9.84it/s]\n",
            "2023-01-23 18:38:09   Epoch 01 in 0:16:57, loss = 3.0982\n",
            "2023-01-23 18:38:09   Extracting database descriptors for evaluation/testing\n",
            "100%|█████████████████████████████████████████████████████████████| 501/501 [00:13<00:00, 37.76it/s]\n",
            "2023-01-23 18:38:22   Extracting queries descriptors for evaluation/testing using batch size 1\n",
            "100%|██████████████████████████████████████████████████████████| 7993/7993 [00:54<00:00, 147.93it/s]\n",
            "2023-01-23 18:39:16   Calculating recalls\n",
            "2023-01-23 18:39:18   Epoch 01 in 0:18:05, < val - #q: 7993; #db: 8015 >: R@1: 81.7, R@5: 89.9\n",
            "100%|█████████████████████████████████████████████████████████| 10000/10000 [17:01<00:00,  9.79it/s]\n",
            "2023-01-23 18:56:21   Epoch 02 in 0:17:02, loss = 2.0947\n",
            "2023-01-23 18:56:21   Extracting database descriptors for evaluation/testing\n",
            "100%|█████████████████████████████████████████████████████████████| 501/501 [00:12<00:00, 39.25it/s]\n",
            "2023-01-23 18:56:33   Extracting queries descriptors for evaluation/testing using batch size 1\n",
            "100%|██████████████████████████████████████████████████████████| 7993/7993 [00:53<00:00, 149.90it/s]\n",
            "2023-01-23 18:57:27   Calculating recalls\n",
            "2023-01-23 18:57:28   Epoch 02 in 0:18:09, < val - #q: 7993; #db: 8015 >: R@1: 82.8, R@5: 90.7\n",
            "2023-01-23 18:57:29   Trained for 03 epochs, in total in 0:54:30\n",
            "2023-01-23 18:57:29   Now testing on the test set: < test - #q: 1000; #db: 27191 >\n",
            "2023-01-23 18:57:29   Extracting database descriptors for evaluation/testing\n",
            "100%|███████████████████████████████████████████████████████████| 1700/1700 [00:42<00:00, 39.73it/s]\n",
            "2023-01-23 18:58:11   Extracting queries descriptors for evaluation/testing using batch size 1\n",
            "100%|██████████████████████████████████████████████████████████| 1000/1000 [00:07<00:00, 129.48it/s]\n",
            "2023-01-23 18:58:19   Calculating recalls\n",
            "2023-01-23 18:58:20   < test - #q: 1000; #db: 27191 >: R@1: 50.6, R@5: 65.0, R@10: 71.3, R@20: 75.1\n",
            "2023-01-23 18:58:20   Experiment finished (without any errors)\n"
          ]
        }
      ],
      "source": [
        "!python train.py --dataset_folder /content/small --groups_num 1 --epochs_num 3 --loss_function sphereface"
      ]
    },
    {
      "cell_type": "markdown",
      "metadata": {
        "id": "JES-K4o1wcxO"
      },
      "source": [
        "## Evaluation on tokyo_xs"
      ]
    },
    {
      "cell_type": "markdown",
      "source": [
        "Results 03/02/2023: R@1: 68.9, R@5: 84.1, R@10: 88.9, R@20: 92.4"
      ],
      "metadata": {
        "id": "ToJPAOBh-rOr"
      }
    },
    {
      "cell_type": "code",
      "execution_count": null,
      "metadata": {
        "colab": {
          "base_uri": "https://localhost:8080/"
        },
        "id": "AZATo9Q9whIf",
        "outputId": "86bf8c02-40ad-4cd5-905d-cd6689443b88"
      },
      "outputs": [
        {
          "name": "stdout",
          "output_type": "stream",
          "text": [
            "2023-01-23 19:45:25   eval.py --dataset_folder /content/tokyo_xs/ --resume_model /content/logs/content/logs/default/trained_with_sphereface/best_model.pth\n",
            "2023-01-23 19:45:25   Arguments: Namespace(L=2, M=10, N=5, alpha=30, augmentation_device='cuda', backbone='ResNet18', batch_size=32, brightness=0.7, classifiers_lr=0.01, contrast=0.7, dataset_folder='/content/tokyo_xs/', device='cuda', epochs_num=50, fc_output_dim=512, groups_num=8, hue=0.5, infer_batch_size=16, iterations_per_epoch=10000, loss_function='cosface', lr=1e-05, min_images_per_class=10, num_workers=8, positive_dist_threshold=25, random_resized_crop=0.5, resume_model='/content/logs/content/logs/default/trained_with_sphereface/best_model.pth', resume_train=None, saturation=0.7, save_dir='default', seed=0, test_set_folder='/content/tokyo_xs/test', use_amp16=False)\n",
            "2023-01-23 19:45:25   The outputs are being saved in logs/default/2023-01-23_19-45-25\n",
            "2023-01-23 19:45:26   There are 1 GPUs and 2 CPUs.\n",
            "2023-01-23 19:45:26   Loading model from /content/logs/content/logs/default/trained_with_sphereface/best_model.pth\n",
            "/usr/local/lib/python3.8/dist-packages/torch/utils/data/dataloader.py:554: UserWarning: This DataLoader will create 8 worker processes in total. Our suggested max number of worker in current system is 2, which is smaller than what this DataLoader is going to create. Please be aware that excessive worker creation might get DataLoader running slow or even freeze, lower the worker number to avoid potential slowness/freeze if necessary.\n",
            "  warnings.warn(_create_warning_msg(\n",
            "100%|█████████████████████████████████████████████████████████████| 799/799 [01:54<00:00,  6.96it/s]\n",
            "100%|█████████████████████████████████████████████████████████████| 315/315 [00:04<00:00, 63.35it/s]\n",
            "2023-01-23 19:47:27   < test - #q: 315; #db: 12771 >: R@1: 68.9, R@5: 84.1, R@10: 88.9, R@20: 92.4\n"
          ]
        }
      ],
      "source": [
        "!python eval.py --dataset_folder /content/tokyo_xs/  --resume_model /content/logs/content/logs/default/trained_with_sphereface/best_model.pth #file in logs.zip"
      ]
    },
    {
      "cell_type": "markdown",
      "metadata": {
        "id": "3fwUPdYnwhsr"
      },
      "source": [
        "## Evaluation on sf-xs"
      ]
    },
    {
      "cell_type": "markdown",
      "source": [
        "Results 03/02/2023: R@1: 50.5, R@5: 65.0, R@10: 71.3, R@20: 75.1"
      ],
      "metadata": {
        "id": "bGWq1w5m-uc2"
      }
    },
    {
      "cell_type": "code",
      "execution_count": null,
      "metadata": {
        "colab": {
          "base_uri": "https://localhost:8080/"
        },
        "id": "P2E_wuaawkU4",
        "outputId": "b5aa5ef7-00cd-42c5-908f-25865ba2b54f"
      },
      "outputs": [
        {
          "name": "stdout",
          "output_type": "stream",
          "text": [
            "2023-01-23 19:47:51   eval.py --dataset_folder /content/small/ --resume_model /content/logs/content/logs/default/trained_with_sphereface/best_model.pth\n",
            "2023-01-23 19:47:51   Arguments: Namespace(L=2, M=10, N=5, alpha=30, augmentation_device='cuda', backbone='ResNet18', batch_size=32, brightness=0.7, classifiers_lr=0.01, contrast=0.7, dataset_folder='/content/small/', device='cuda', epochs_num=50, fc_output_dim=512, groups_num=8, hue=0.5, infer_batch_size=16, iterations_per_epoch=10000, loss_function='cosface', lr=1e-05, min_images_per_class=10, num_workers=8, positive_dist_threshold=25, random_resized_crop=0.5, resume_model='/content/logs/content/logs/default/trained_with_sphereface/best_model.pth', resume_train=None, saturation=0.7, save_dir='default', seed=0, test_set_folder='/content/small/test', use_amp16=False)\n",
            "2023-01-23 19:47:51   The outputs are being saved in logs/default/2023-01-23_19-47-51\n",
            "2023-01-23 19:47:52   There are 1 GPUs and 2 CPUs.\n",
            "2023-01-23 19:47:52   Loading model from /content/logs/content/logs/default/trained_with_sphereface/best_model.pth\n",
            "/usr/local/lib/python3.8/dist-packages/torch/utils/data/dataloader.py:554: UserWarning: This DataLoader will create 8 worker processes in total. Our suggested max number of worker in current system is 2, which is smaller than what this DataLoader is going to create. Please be aware that excessive worker creation might get DataLoader running slow or even freeze, lower the worker number to avoid potential slowness/freeze if necessary.\n",
            "  warnings.warn(_create_warning_msg(\n",
            "100%|███████████████████████████████████████████████████████████| 1700/1700 [03:16<00:00,  8.65it/s]\n",
            "100%|███████████████████████████████████████████████████████████| 1000/1000 [00:14<00:00, 67.25it/s]\n",
            "2023-01-23 19:51:26   < test - #q: 1000; #db: 27191 >: R@1: 50.5, R@5: 65.0, R@10: 71.3, R@20: 75.1\n"
          ]
        }
      ],
      "source": [
        "!python eval.py --dataset_folder /content/small/  --resume_model /content/logs/content/logs/default/trained_with_sphereface/best_model.pth #file in logs.zip"
      ]
    },
    {
      "cell_type": "markdown",
      "metadata": {
        "id": "lJn8WgTzwkmn"
      },
      "source": [
        "## Evaluation on tokyo-night"
      ]
    },
    {
      "cell_type": "markdown",
      "source": [
        "Results 03/02/2023: R@1: 46.7, R@5: 72.4, R@10: 79.0, R@20: 83.8"
      ],
      "metadata": {
        "id": "PV1Oqe6V-924"
      }
    },
    {
      "cell_type": "code",
      "execution_count": null,
      "metadata": {
        "id": "-opNr44UwnO9"
      },
      "outputs": [],
      "source": [
        "#use database of tokyoxs\n",
        "!cp -r /content/tokyo_xs/test/database /content/tokyo-night/test"
      ]
    },
    {
      "cell_type": "code",
      "execution_count": null,
      "metadata": {
        "colab": {
          "base_uri": "https://localhost:8080/"
        },
        "id": "NpTi5YpZwnw7",
        "outputId": "29229472-8d9d-4384-85ad-d092d57830c1"
      },
      "outputs": [
        {
          "name": "stdout",
          "output_type": "stream",
          "text": [
            "2023-01-23 19:52:42   eval.py --dataset_folder /content/tokyo-night/ --resume_model /content/logs/content/logs/default/trained_with_sphereface/best_model.pth\n",
            "2023-01-23 19:52:42   Arguments: Namespace(L=2, M=10, N=5, alpha=30, augmentation_device='cuda', backbone='ResNet18', batch_size=32, brightness=0.7, classifiers_lr=0.01, contrast=0.7, dataset_folder='/content/tokyo-night/', device='cuda', epochs_num=50, fc_output_dim=512, groups_num=8, hue=0.5, infer_batch_size=16, iterations_per_epoch=10000, loss_function='cosface', lr=1e-05, min_images_per_class=10, num_workers=8, positive_dist_threshold=25, random_resized_crop=0.5, resume_model='/content/logs/content/logs/default/trained_with_sphereface/best_model.pth', resume_train=None, saturation=0.7, save_dir='default', seed=0, test_set_folder='/content/tokyo-night/test', use_amp16=False)\n",
            "2023-01-23 19:52:42   The outputs are being saved in logs/default/2023-01-23_19-52-42\n",
            "2023-01-23 19:52:43   There are 1 GPUs and 2 CPUs.\n",
            "2023-01-23 19:52:43   Loading model from /content/logs/content/logs/default/trained_with_sphereface/best_model.pth\n",
            "/usr/local/lib/python3.8/dist-packages/torch/utils/data/dataloader.py:554: UserWarning: This DataLoader will create 8 worker processes in total. Our suggested max number of worker in current system is 2, which is smaller than what this DataLoader is going to create. Please be aware that excessive worker creation might get DataLoader running slow or even freeze, lower the worker number to avoid potential slowness/freeze if necessary.\n",
            "  warnings.warn(_create_warning_msg(\n",
            "100%|█████████████████████████████████████████████████████████████| 799/799 [01:46<00:00,  7.52it/s]\n",
            "100%|█████████████████████████████████████████████████████████████| 105/105 [00:02<00:00, 44.16it/s]\n",
            "2023-01-23 19:54:33   < test - #q: 105; #db: 12771 >: R@1: 46.7, R@5: 72.4, R@10: 79.0, R@20: 83.8\n"
          ]
        }
      ],
      "source": [
        "!python eval.py --dataset_folder /content/tokyo-night/  --resume_model /content/logs/content/logs/default/trained_with_sphereface/best_model.pth #file in logs.zip"
      ]
    },
    {
      "cell_type": "markdown",
      "metadata": {
        "id": "qmXtFvmyWCgT"
      },
      "source": [
        "# Laplace Approximation"
      ]
    },
    {
      "cell_type": "markdown",
      "source": [
        "Si può cancellare?"
      ],
      "metadata": {
        "id": "Bh_enx2hhX45"
      }
    },
    {
      "cell_type": "code",
      "execution_count": null,
      "metadata": {
        "colab": {
          "base_uri": "https://localhost:8080/"
        },
        "id": "8Nwz5eH4WHE3",
        "outputId": "01e84695-81fa-4a3a-f6dc-e35bccee1103"
      },
      "outputs": [
        {
          "name": "stdout",
          "output_type": "stream",
          "text": [
            "2023-01-30 18:19:11   train.py --dataset_folder /content/small --groups_num 1 --iterations_per_epoch 10 --epochs_num 1 --loss_function cosface --enable_laplace True\n",
            "2023-01-30 18:19:11   Arguments: Namespace(L=2, M=10, N=5, alpha=30, augmentation_device='cuda', backbone='ResNet18', batch_size=32, brightness=0.7, classifiers_lr=0.01, contrast=0.7, dataset_folder='/content/small', device='cuda', enable_laplace=True, epochs_num=1, fc_output_dim=512, groups_num=1, hue=0.5, infer_batch_size=16, iterations_per_epoch=10, loss_function='cosface', lr=1e-05, min_images_per_class=10, num_workers=8, positive_dist_threshold=25, random_resized_crop=0.5, resume_model=None, resume_train=None, saturation=0.7, save_dir='default', seed=0, test_set_folder='/content/small/test', train_set_folder='/content/small/train', use_amp16=False, val_set_folder='/content/small/val')\n",
            "2023-01-30 18:19:11   The outputs are being saved in logs/default/2023-01-30_18-19-11\n",
            "2023-01-30 18:19:11   Train only layer3 and layer4 of the ResNet18, freeze the previous ones\n",
            "2023-01-30 18:19:12   There are 1 GPUs and 2 CPUs.\n",
            "2023-01-30 18:19:15   Using cached dataset cache/small_M10_N5_mipc10.torch\n",
            "2023-01-30 18:19:15   Using cosface loss function.\n",
            "2023-01-30 18:19:15   Using 1 groups\n",
            "2023-01-30 18:19:15   The 1 groups have respectively the following number of classes [740]\n",
            "2023-01-30 18:19:16   The 1 groups have respectively the following number of images [7400]\n",
            "2023-01-30 18:19:16   Validation set: < val - #q: 7993; #db: 8015 >\n",
            "2023-01-30 18:19:16   Test set: < test - #q: 1000; #db: 27191 >\n",
            "2023-01-30 18:19:16   Start training ...\n",
            "2023-01-30 18:19:16   There are 740 classes for the first group, each epoch has 10 iterations with batch_size 32, therefore the model sees each class (on average) 0.4 times per epoch\n",
            "/usr/local/lib/python3.8/dist-packages/torch/utils/data/dataloader.py:474: UserWarning: This DataLoader will create 8 worker processes in total. Our suggested max number of worker in current system is 2, which is smaller than what this DataLoader is going to create. Please be aware that excessive worker creation might get DataLoader running slow or even freeze, lower the worker number to avoid potential slowness/freeze if necessary.\n",
            "  warnings.warn(_create_warning_msg(\n",
            "100%|███████████████████████████████████████████████████████████████| 10/10 [00:08<00:00,  1.13it/s]\n",
            "2023-01-30 18:19:26   Epoch 00 in 0:00:09, loss = 30.5192\n",
            "Computing the Laplace Approximation for Bayesian hypothesis generation...\n",
            "2023-01-30 18:19:26   \n",
            "Traceback (most recent call last):\n",
            "  File \"train.py\", line 182, in <module>\n",
            "    compute_laplace(args, model, dataloader)\n",
            "  File \"/content/laplace.py\", line 28, in compute_laplace\n",
            "    hessians = get_hessian(args, model, train_loader)\n",
            "  File \"/content/laplace.py\", line 39, in get_hessian\n",
            "    m, n = W.shape\n",
            "ValueError: not enough values to unpack (expected 2, got 1)\n",
            "\n",
            "2023-01-30 18:19:26   Experiment finished (with some errors)\n"
          ]
        }
      ],
      "source": [
        "!python train.py --dataset_folder /content/small --groups_num 1 --iterations_per_epoch 10 --epochs_num 1 --loss_function cosface --enable_laplace True"
      ]
    },
    {
      "cell_type": "markdown",
      "source": [
        "# Step 4: GRL TRAIN"
      ],
      "metadata": {
        "id": "hSmE5kBLd6FK"
      }
    },
    {
      "cell_type": "markdown",
      "source": [
        "Results 03/02/2023: R@1: 54.7, R@5: 68.1, R@10: 72.8, R@20: 76.4"
      ],
      "metadata": {
        "id": "W0XbpyxJ_LGw"
      }
    },
    {
      "cell_type": "code",
      "source": [
        "!python train.py --dataset_folder /content/small --groups_num 1 --epochs_num 3--iterations_per_epoch 10000 --loss_function cosface --grl_param 0.3"
      ],
      "metadata": {
        "colab": {
          "base_uri": "https://localhost:8080/"
        },
        "id": "d5nGJpcgd7z6",
        "outputId": "3f10d3a1-6929-4075-d480-5bfd4a8def24"
      },
      "execution_count": null,
      "outputs": [
        {
          "output_type": "stream",
          "name": "stdout",
          "text": [
            "usage: train.py\n",
            "       [-h]\n",
            "       [--wd WD]\n",
            "       [--M M]\n",
            "       [--alpha ALPHA]\n",
            "       [--N N]\n",
            "       [--L L]\n",
            "       [--groups_num GROUPS_NUM]\n",
            "       [--min_images_per_class MIN_IMAGES_PER_CLASS]\n",
            "       [--backbone {VGG16,ResNet18,ResNet50,ResNet101,ResNet152,convnext_tiny,efficientnet_v2_s}]\n",
            "       [--fc_output_dim FC_OUTPUT_DIM]\n",
            "       [--loss_function LOSS_FUNCTION]\n",
            "       [--use_amp16]\n",
            "       [--augmentation_device {cuda,cpu}]\n",
            "       [--batch_size BATCH_SIZE]\n",
            "       [--epochs_num EPOCHS_NUM]\n",
            "       [--iterations_per_epoch ITERATIONS_PER_EPOCH]\n",
            "       [--lr LR]\n",
            "       [--classifiers_lr CLASSIFIERS_LR]\n",
            "       [--brightness BRIGHTNESS]\n",
            "       [--contrast CONTRAST]\n",
            "       [--hue HUE]\n",
            "       [--saturation SATURATION]\n",
            "       [--random_resized_crop RANDOM_RESIZED_CROP]\n",
            "       [--infer_batch_size INFER_BATCH_SIZE]\n",
            "       [--positive_dist_threshold POSITIVE_DIST_THRESHOLD]\n",
            "       [--resume_train RESUME_TRAIN]\n",
            "       [--resume_model RESUME_MODEL]\n",
            "       [--device {cuda,cpu}]\n",
            "       [--seed SEED]\n",
            "       [--num_workers NUM_WORKERS]\n",
            "       [--dataset_folder DATASET_FOLDER]\n",
            "       [--save_dir SAVE_DIR]\n",
            "       [--k K]\n",
            "       [--ss_w SS_W]\n",
            "       [--consistency_w CONSISTENCY_W]\n",
            "       [--features_wise_w FEATURES_WISE_W]\n",
            "       [--qp_threshold QP_THRESHOLD]\n",
            "       [--num_reranked_preds NUM_RERANKED_PREDS]\n",
            "       [--kernel_sizes KERNEL_SIZES [KERNEL_SIZES ...]]\n",
            "       [--channels CHANNELS [CHANNELS ...]]\n",
            "       [--multi_scale]\n",
            "       [--select_resolutions SELECT_RESOLUTIONS [SELECT_RESOLUTIONS ...]]\n",
            "       [--multi_scale_method {avg,sum,max,min}]\n",
            "       [--grl_param GRL_PARAM]\n",
            "       [--night_test NIGHT_TEST]\n",
            "       [--night_brightness NIGHT_BRIGHTNESS]\n",
            "       [--source_dir SOURCE_DIR]\n",
            "       [--target_dir TARGET_DIR]\n",
            "       [--test_method TEST_METHOD]\n",
            "       [--optim {adam,sgd}]\n",
            "       [--resize RESIZE RESIZE]\n",
            "train.py: error: argument --epochs_num: invalid int value: '3--iterations_per_epoch'\n",
            "^C\n"
          ]
        }
      ]
    },
    {
      "cell_type": "code",
      "source": [
        "!python train.py --dataset_folder /content/small --groups_num 1 --epochs_num 1 --iterations_per_epoch 10 --loss_function cosface --grl_param 0.3 --source_dir /content/small/ --target_dir /content/night_target/"
      ],
      "metadata": {
        "colab": {
          "base_uri": "https://localhost:8080/"
        },
        "id": "RSgnPOGAwmHI",
        "outputId": "10080902-aba3-4660-f8ad-49fb193b675c"
      },
      "execution_count": null,
      "outputs": [
        {
          "output_type": "stream",
          "name": "stdout",
          "text": [
            "2023-02-05 08:49:57   train.py --dataset_folder /content/small --groups_num 1 --epochs_num 1 --iterations_per_epoch 10 --loss_function cosface --grl_param 0.3 --source_dir /content/small/ --target_dir /content/night_target/\n",
            "2023-02-05 08:49:57   Arguments: Namespace(L=2, M=10, N=5, alpha=30, augmentation_device='cuda', backbone='ResNet18', batch_size=32, brightness=0.7, channels=[225, 128, 128, 64, 64, 64, 64], classifiers_lr=0.01, consistency_w=0.1, contrast=0.7, dataset_folder='/content/small', device='cuda', epochs_num=1, fc_output_dim=512, features_wise_w=10, grl_param=0.3, groups_num=1, hue=0.5, infer_batch_size=16, iterations_per_epoch=10, k=0.6, kernel_sizes=[7, 5, 5, 5, 5, 5], loss_function='cosface', lr=1e-05, min_images_per_class=10, multi_scale=False, multi_scale_method='avg', night_brightness=0.1, night_test=False, num_reranked_preds=5, num_workers=8, optim='adam', positive_dist_threshold=25, qp_threshold=1.2, random_resized_crop=0.5, resize=[480, 640], resume_model=None, resume_train=None, saturation=0.7, save_dir='default', seed=0, select_resolutions=[0.526, 0.588, 1, 1.7, 1.9], source_dir='/content/small/', ss_w=1, target_dir='/content/night_target/', test_method='hard_resize', test_set_folder='/content/small/test', train_set_folder='/content/small/train', use_amp16=False, val_set_folder='/content/small/val', wd=None)\n",
            "2023-02-05 08:49:57   The outputs are being saved in logs/default/2023-02-05_08-49-57\n",
            "2023-02-05 08:49:57   Gradient Reversal Layer is enabled with parameter = 0.3\n",
            "2023-02-05 08:49:57   Train only layer3 and layer4 of the ResNet18, freeze the previous ones\n",
            "2023-02-05 08:49:57   There are 1 GPUs and 2 CPUs.\n",
            "2023-02-05 08:49:59   Using cached dataset cache/small_M10_N5_mipc10.torch\n",
            "2023-02-05 08:49:59   GrlDataset has 3 domain classes\n",
            "2023-02-05 08:49:59   Using cosface loss function.\n",
            "2023-02-05 08:49:59   Using 1 groups\n",
            "2023-02-05 08:49:59   The 1 groups have respectively the following number of classes [5965]\n",
            "2023-02-05 08:49:59   The 1 groups have respectively the following number of images [59650]\n",
            "2023-02-05 08:50:00   Validation set: < val - #q: 7993; #db: 8015 >\n",
            "2023-02-05 08:50:00   Test set: < test - #q: 1000; #db: 27191 >\n",
            "2023-02-05 08:50:00   Start training ...\n",
            "2023-02-05 08:50:00   There are 5965 classes for the first group, each epoch has 10 iterations with batch_size 32, therefore the model sees each class (on average) 0.1 times per epoch\n",
            "/usr/local/lib/python3.8/dist-packages/torch/utils/data/dataloader.py:554: UserWarning: This DataLoader will create 8 worker processes in total. Our suggested max number of worker in current system is 2, which is smaller than what this DataLoader is going to create. Please be aware that excessive worker creation might get DataLoader running slow or even freeze, lower the worker number to avoid potential slowness/freeze if necessary.\n",
            "  warnings.warn(_create_warning_msg(\n",
            "100%|███████████████████████████████████████████████████████████████| 10/10 [00:26<00:00,  2.68s/it]\n",
            "2023-02-05 08:50:28   Epoch 00 in 0:00:28, loss = 38.1683\n",
            "2023-02-05 08:50:28   Average GRL epoch loss (* alpha = 0.3): 0.2073\n",
            "2023-02-05 08:50:28   Extracting database descriptors for evaluation/testing\n",
            "100%|█████████████████████████████████████████████████████████████| 501/501 [01:08<00:00,  7.34it/s]\n",
            "2023-02-05 08:51:36   Extracting queries descriptors for evaluation/testing using batch size 1\n",
            "100%|███████████████████████████████████████████████████████████| 7993/7993 [02:00<00:00, 66.21it/s]\n",
            "2023-02-05 08:53:37   Calculating recalls\n",
            "2023-02-05 08:53:40   Epoch 00 in 0:03:39, < val - #q: 7993; #db: 8015 >: R@1: 30.2, R@5: 43.6\n",
            "2023-02-05 08:53:40   Trained for 01 epochs, in total in 0:03:43\n",
            "2023-02-05 08:53:40   Now testing on the test set: < test - #q: 1000; #db: 27191 >\n",
            "2023-02-05 08:53:40   Extracting database descriptors for evaluation/testing\n",
            "100%|███████████████████████████████████████████████████████████| 1700/1700 [03:44<00:00,  7.56it/s]\n",
            "2023-02-05 08:57:25   Extracting queries descriptors for evaluation/testing using batch size 1\n",
            "100%|███████████████████████████████████████████████████████████| 1000/1000 [00:17<00:00, 56.99it/s]\n",
            "2023-02-05 08:57:43   Calculating recalls\n"
          ]
        }
      ]
    },
    {
      "cell_type": "markdown",
      "source": [
        "# Experiment on tokyo night"
      ],
      "metadata": {
        "id": "-JbVU73BlM14"
      }
    },
    {
      "cell_type": "markdown",
      "source": [
        "Results 03/02/2023 R@1: 60.0, R@5: 78.1, R@10: 81.9, R@20: 87.6"
      ],
      "metadata": {
        "id": "w445dpM0_RKh"
      }
    },
    {
      "cell_type": "code",
      "source": [
        "!python eval.py --dataset_folder /content/tokyo-night/  --resume_model /content/logs/default/2023-02-02_19-27-59/best_model.pth --grl_param 0.3 --night_test True #file in logs.zip"
      ],
      "metadata": {
        "colab": {
          "base_uri": "https://localhost:8080/"
        },
        "id": "20NRa4NVyBbd",
        "outputId": "40a8b6db-b227-4481-a6a3-b1f98e5d6764"
      },
      "execution_count": null,
      "outputs": [
        {
          "output_type": "stream",
          "name": "stdout",
          "text": [
            "2023-02-02 21:07:29   eval.py --dataset_folder /content/tokyo-night/ --resume_model /content/logs/default/2023-02-02_19-27-59/best_model.pth --grl_param 0.3 --night_test True\n",
            "2023-02-02 21:07:29   Arguments: Namespace(L=2, M=10, N=5, alpha=30, augmentation_device='cuda', backbone='ResNet18', batch_size=32, brightness=0.7, channels=[225, 128, 128, 64, 64, 64, 64], classifiers_lr=0.01, consistency_w=0.1, contrast=0.7, dataset_folder='/content/tokyo-night/', device='cuda', epochs_num=50, fc_output_dim=512, features_wise_w=10, grl_param=0.3, groups_num=8, hue=0.5, infer_batch_size=16, iterations_per_epoch=10000, k=0.6, kernel_sizes=[7, 5, 5, 5, 5, 5], loss_function='cosface', lr=1e-05, min_images_per_class=10, night_brightness=0.1, night_test=True, num_reranked_preds=5, num_workers=8, positive_dist_threshold=25, qp_threshold=1.2, random_resized_crop=0.5, resume_model='/content/logs/default/2023-02-02_19-27-59/best_model.pth', resume_train=None, saturation=0.7, save_dir='default', seed=0, ss_w=1, test_method='hard_resize', test_set_folder='/content/tokyo-night/test', use_amp16=False)\n",
            "2023-02-02 21:07:29   The outputs are being saved in logs/default/2023-02-02_21-07-29\n",
            "2023-02-02 21:07:30   There are 1 GPUs and 12 CPUs.\n",
            "2023-02-02 21:07:30   Loading model from /content/logs/default/2023-02-02_19-27-59/best_model.pth\n",
            "100%|█████████████████████████████████████████████████████████████| 799/799 [00:28<00:00, 28.37it/s]\n",
            "100%|█████████████████████████████████████████████████████████████| 105/105 [00:01<00:00, 86.92it/s]\n",
            "2023-02-02 21:08:01   < test - #q: 105; #db: 12771 >: R@1: 60.0, R@5: 78.1, R@10: 81.9, R@20: 87.6\n"
          ]
        }
      ]
    },
    {
      "cell_type": "markdown",
      "source": [
        "# GRL TRAIN (AGAIN)"
      ],
      "metadata": {
        "id": "6pjaK7QClRFH"
      }
    },
    {
      "cell_type": "code",
      "source": [
        "!python train.py --dataset_folder /content/small --source_dir /content/small/train --target /content/night_target --groups_num 1 --epochs_num 1 --iterations_per_epoch 10 --loss_function cosface --grl_param 0.3"
      ],
      "metadata": {
        "colab": {
          "base_uri": "https://localhost:8080/"
        },
        "id": "bvR06VxflTPS",
        "outputId": "94243617-5298-4dcd-d78a-5b2256e9f9d0"
      },
      "execution_count": null,
      "outputs": [
        {
          "output_type": "stream",
          "name": "stdout",
          "text": [
            "2023-02-03 15:22:53   train.py --dataset_folder /content/small --source_dir /content/small/train --target /content/night_target --groups_num 1 --epochs_num 1 --iterations_per_epoch 10 --loss_function cosface --grl_param 0.3\n",
            "2023-02-03 15:22:53   Arguments: Namespace(L=2, M=10, N=5, alpha=30, augmentation_device='cuda', backbone='ResNet18', batch_size=32, brightness=0.7, channels=[225, 128, 128, 64, 64, 64, 64], classifiers_lr=0.01, consistency_w=0.1, contrast=0.7, dataset_folder='/content/small', device='cuda', epochs_num=1, fc_output_dim=512, features_wise_w=10, grl_param=0.3, groups_num=1, hue=0.5, infer_batch_size=16, iterations_per_epoch=10, k=0.6, kernel_sizes=[7, 5, 5, 5, 5, 5], loss_function='cosface', lr=1e-05, min_images_per_class=10, multi_scale=False, multi_scale_method=None, night_brightness=0.1, night_test=False, num_reranked_preds=5, num_workers=8, positive_dist_threshold=25, qp_threshold=1.2, random_resized_crop=0.5, resume_model=None, resume_train=None, saturation=0.7, save_dir='default', seed=0, select_resolutions=[1, 2, 5, 10], source_dir='/content/small/train', ss_w=1, target_dir='/content/night_target', test_method='hard_resize', test_set_folder='/content/small/test', train_set_folder='/content/small/train', use_amp16=False, val_set_folder='/content/small/val')\n",
            "2023-02-03 15:22:53   The outputs are being saved in logs/default/2023-02-03_15-22-53\n",
            "2023-02-03 15:22:53   Gradient Reversal Layer is enabled with parameter = 0.3\n",
            "2023-02-03 15:22:53   Train only layer3 and layer4 of the ResNet18, freeze the previous ones\n",
            "2023-02-03 15:22:54   There are 1 GPUs and 2 CPUs.\n",
            "2023-02-03 15:22:58   Using cached dataset cache/small_M10_N5_mipc10.torch\n",
            "2023-02-03 15:22:58   GrlDataset has 3 domain classes\n",
            "2023-02-03 15:22:58   Using cosface loss function.\n",
            "2023-02-03 15:22:58   Using 1 groups\n",
            "2023-02-03 15:22:58   The 1 groups have respectively the following number of classes [5965]\n",
            "2023-02-03 15:22:58   The 1 groups have respectively the following number of images [59650]\n",
            "2023-02-03 15:22:59   Validation set: < val - #q: 7993; #db: 8015 >\n",
            "2023-02-03 15:22:59   Test set: < test - #q: 1000; #db: 27191 >\n",
            "2023-02-03 15:22:59   Start training ...\n",
            "2023-02-03 15:22:59   There are 5965 classes for the first group, each epoch has 10 iterations with batch_size 32, therefore the model sees each class (on average) 0.1 times per epoch\n",
            "/usr/local/lib/python3.8/dist-packages/torch/utils/data/dataloader.py:554: UserWarning: This DataLoader will create 8 worker processes in total. Our suggested max number of worker in current system is 2, which is smaller than what this DataLoader is going to create. Please be aware that excessive worker creation might get DataLoader running slow or even freeze, lower the worker number to avoid potential slowness/freeze if necessary.\n",
            "  warnings.warn(_create_warning_msg(\n",
            "100%|███████████████████████████████████████████████████████████████| 10/10 [00:20<00:00,  2.09s/it]\n",
            "2023-02-03 15:23:23   Epoch 00 in 0:00:24, loss = 38.1682\n",
            "2023-02-03 15:23:23   Average GRL epoch loss (* alpha = 0.3): 0.2080\n",
            "2023-02-03 15:23:23   Extracting database descriptors for evaluation/testing\n",
            " 64%|███████████████████████████████████████▎                     | 323/501 [00:40<00:22,  7.89it/s]\n",
            "2023-02-03 15:24:04   \n",
            "Traceback (most recent call last):\n",
            "  File \"train.py\", line 217, in <module>\n",
            "    recalls, recalls_str = test.test(args, val_ds, model)\n",
            "  File \"/content/test.py\", line 32, in test\n",
            "    descriptors = descriptors.cpu().numpy()\n",
            "KeyboardInterrupt\n",
            "\n",
            "2023-02-03 15:24:04   Experiment finished (with some errors)\n",
            "^C\n"
          ]
        }
      ]
    },
    {
      "cell_type": "code",
      "source": [
        "!python eval.py --dataset_folder /content/tokyo-night/  --resume_model /content/logs/default/2023-02-02_19-27-59/best_model.pth --grl_param 0.3 --night_test True #file in logs.zip"
      ],
      "metadata": {
        "id": "HoCVmDI14sHJ"
      },
      "execution_count": null,
      "outputs": []
    },
    {
      "cell_type": "markdown",
      "source": [],
      "metadata": {
        "id": "_OwJblYv499D"
      }
    },
    {
      "cell_type": "markdown",
      "metadata": {
        "id": "nXGhVU2d36wR"
      },
      "source": [
        "#Step 4: Re - ranking"
      ]
    },
    {
      "cell_type": "markdown",
      "metadata": {
        "id": "72rg84pQ4BuR"
      },
      "source": [
        "## Geowarp"
      ]
    },
    {
      "cell_type": "markdown",
      "metadata": {
        "id": "vNyNaZlZ4F-0"
      },
      "source": [
        "Inspired by [GMBERTON - Geo_Warp, github](https://github.com/gmberton/geo_warp)"
      ]
    },
    {
      "cell_type": "code",
      "execution_count": null,
      "metadata": {
        "colab": {
          "base_uri": "https://localhost:8080/"
        },
        "id": "urb-QK064E7c",
        "outputId": "dbd15b5e-a73e-4277-c810-a5b0e3031e43"
      },
      "outputs": [
        {
          "output_type": "stream",
          "name": "stdout",
          "text": [
            "You are using:  cuda:0\n"
          ]
        }
      ],
      "source": [
        "import torch\n",
        "#use GPU if available \n",
        "DEVICE = torch.device(\"cuda:0\" if torch.cuda.is_available() else \"cpu\") #'cpu' # 'cuda' or 'cpu'\n",
        "print(\"You are using: \",DEVICE)"
      ]
    },
    {
      "cell_type": "code",
      "execution_count": null,
      "metadata": {
        "colab": {
          "base_uri": "https://localhost:8080/"
        },
        "id": "v-6X4iuq4uT_",
        "outputId": "1e45f25d-7e06-464e-e8fd-dd34a226f89c"
      },
      "outputs": [
        {
          "output_type": "stream",
          "name": "stdout",
          "text": [
            "Cloning into 'CosPlace'...\n",
            "remote: Enumerating objects: 203, done.\u001b[K\n",
            "remote: Total 203 (delta 0), reused 0 (delta 0), pack-reused 203\u001b[K\n",
            "Receiving objects: 100% (203/203), 51.91 KiB | 916.00 KiB/s, done.\n",
            "Resolving deltas: 100% (112/112), done.\n",
            "Cloning into 'geo_warp'...\n",
            "remote: Enumerating objects: 103, done.\u001b[K\n",
            "remote: Counting objects: 100% (103/103), done.\u001b[K\n",
            "remote: Compressing objects: 100% (86/86), done.\u001b[K\n",
            "remote: Total 103 (delta 46), reused 52 (delta 10), pack-reused 0\u001b[K\n",
            "Receiving objects: 100% (103/103), 656.28 KiB | 2.67 MiB/s, done.\n",
            "Resolving deltas: 100% (46/46), done.\n"
          ]
        }
      ],
      "source": [
        "# download code of CosPlace\n",
        "!git clone \"https://github.com/gmberton/CosPlace\" \n",
        "#!rm -r \"/content/CosPlace\"\n",
        "\n",
        "# download code of GeoWarp\n",
        "!git clone \"https://github.com/gmberton/geo_warp\""
      ]
    },
    {
      "cell_type": "code",
      "execution_count": null,
      "metadata": {
        "colab": {
          "base_uri": "https://localhost:8080/"
        },
        "id": "9LtnnZUQ5E-c",
        "outputId": "4e0df70d-47aa-42b8-e2d4-703b8aafff9a"
      },
      "outputs": [
        {
          "output_type": "stream",
          "name": "stdout",
          "text": [
            "ok\n"
          ]
        }
      ],
      "source": [
        "#se già runnato prima evitare gli ipmort TRANNE COSPLACE E GEOWARP\n",
        "import os\n",
        "import sys\n",
        "import torch\n",
        "import logging\n",
        "import multiprocessing\n",
        "import numpy as np\n",
        "#import torchvision.transforms -> è in requirements.txt\n",
        "from tqdm import tqdm\n",
        "from datetime import datetime\n",
        "\n",
        "sys.path.append(\"/content/CosPlace/\")\n",
        "sys.path.append(\"/content/geo_warp/\")\n",
        "import CosPlace\n",
        "from CosPlace import *\n",
        "\n",
        "from geo_warp import *\n",
        "\n",
        "torch.backends.cudnn.benchmark = True  # Provides a speedup\n",
        "print(\"ok\")"
      ]
    },
    {
      "cell_type": "code",
      "execution_count": null,
      "metadata": {
        "id": "DTa6drZa52o0"
      },
      "outputs": [],
      "source": [
        "'''\n",
        "train.py and eval.py are the one that we use to run for test and train\n",
        "\n",
        "requirements for geowarp if not executed earlier:\n",
        "faiss_cpu\n",
        "gdown\n",
        "kornia\n",
        "numpy\n",
        "Pillow\n",
        "scikit_learn\n",
        "Shapely\n",
        "torch\n",
        "torchvision\n",
        "tqdm\n",
        "'''"
      ]
    },
    {
      "cell_type": "code",
      "execution_count": null,
      "metadata": {
        "colab": {
          "base_uri": "https://localhost:8080/"
        },
        "id": "4sdYefUDELO5",
        "outputId": "a0fa090a-8b39-4780-ad7d-7040c2d4c0c7"
      },
      "outputs": [
        {
          "output_type": "stream",
          "name": "stderr",
          "text": [
            "INFO:root:The outputs are being saved in logs/cosface_model/2023-02-01_12-52-46\n"
          ]
        }
      ],
      "source": [
        "from CosPlace import commons\n",
        "\n",
        "dirCosface = \"cosface_model\" #output to save the model \n",
        "start_time = datetime.now()\n",
        "output_folder = f\"logs/{dirCosface}/{start_time.strftime('%Y-%m-%d_%H-%M-%S')}\"\n",
        "commons.make_deterministic(0) #seed \n",
        "'''\n",
        "Make results deterministic. If seed == -1, do not make deterministic.\n",
        "Running your script in a deterministic way might slow it down.\n",
        "Note that for some packages (eg: sklearn's PCA) this function is not enough.\n",
        "'''\n",
        "commons.setup_logging(output_folder, console=None)\n",
        "''' \n",
        "Set up logging files and console output.\n",
        "Creates one file for INFO logs and one for DEBUG logs.\n",
        "Args:\n",
        "- output_folder (str): creates the folder where to save the files.\n",
        "- exist_ok (boolean): if False throw a FileExistsError if output_folder already exists\n",
        "- debug (str):\n",
        "    if == \"debug\" prints on console debug messages and higher\n",
        "    if == \"info\"  prints on console info messages and higher\n",
        "    if == None does not use console (useful when a logger has already been set)\n",
        "- info_filename (str): the name of the info file. if None, don't create info file\n",
        "- debug_filename (str): the name of the debug file. if None, don't create debug file\n",
        "\n",
        "All the args that are not output_folder are not `output_folder` are already assigned by default\n",
        "'''\n",
        "logging.info(f\"The outputs are being saved in {output_folder}\")"
      ]
    },
    {
      "cell_type": "markdown",
      "metadata": {
        "id": "mJDPKcD2HCnP"
      },
      "source": [
        "## Train geo_warp"
      ]
    },
    {
      "cell_type": "code",
      "execution_count": null,
      "metadata": {
        "colab": {
          "base_uri": "https://localhost:8080/"
        },
        "id": "kJu8uyHDHd38",
        "outputId": "49fafe97-4fa2-4d02-80b3-e72666615f4a"
      },
      "outputs": [
        {
          "output_type": "stream",
          "name": "stdout",
          "text": [
            "Looking in indexes: https://pypi.org/simple, https://us-python.pkg.dev/colab-wheels/public/simple/\n",
            "Collecting kornia\n",
            "  Downloading kornia-0.6.9-py2.py3-none-any.whl (569 kB)\n",
            "\u001b[2K     \u001b[90m━━━━━━━━━━━━━━━━━━━━━━━━━━━━━━━━━━━━━━\u001b[0m \u001b[32m569.1/569.1 KB\u001b[0m \u001b[31m15.3 MB/s\u001b[0m eta \u001b[36m0:00:00\u001b[0m\n",
            "\u001b[?25hRequirement already satisfied: torch>=1.9.1 in /usr/local/lib/python3.8/dist-packages (from kornia) (1.13.1+cu116)\n",
            "Requirement already satisfied: packaging in /usr/local/lib/python3.8/dist-packages (from kornia) (21.3)\n",
            "Requirement already satisfied: typing-extensions in /usr/local/lib/python3.8/dist-packages (from torch>=1.9.1->kornia) (4.4.0)\n",
            "Requirement already satisfied: pyparsing!=3.0.5,>=2.0.2 in /usr/local/lib/python3.8/dist-packages (from packaging->kornia) (3.0.9)\n",
            "Installing collected packages: kornia\n",
            "Successfully installed kornia-0.6.9\n"
          ]
        }
      ],
      "source": [
        "pip install kornia #required for geo_warp"
      ]
    },
    {
      "cell_type": "code",
      "execution_count": null,
      "metadata": {
        "id": "_3FYg83TLQ0E"
      },
      "outputs": [],
      "source": [
        "#download pre trained baseline (code fro gmberton/geo_warp)\n",
        "#it is already in the drive so skip this\n",
        "import os\n",
        "import gdown\n",
        "import shutil\n",
        "from google_drive_downloader import GoogleDriveDownloader as gdd\n",
        "\n",
        "gdd.download_file_from_google_drive(file_id=\"1WjfQFS_13uvg_eyefNJWVIKbvy9tSPR-\",\n",
        "                                    dest_path=\"./tmp\", unzip=True)\n",
        "os.remove(\"tmp\")\n",
        "url = \"https://drive.google.com/uc?id=1WjfQFS_13uvg_eyefNJWVIKbvy9tSPR-\"\n",
        "tmp_archive_name = \"tmp.zip\"\n",
        "gdown.download(url, tmp_archive_name, quiet=False)\n",
        "\n",
        "shutil.unpack_archive(tmp_archive_name)\n",
        "os.remove(tmp_archive_name)\n",
        "os.makedirs(\"data\", exist_ok=True)\n",
        "#watch out for  paths\n",
        "shutil.move(\"pretrained_baselines\", \"/content/geo_warp/data/pretrained_baselines\")\n",
        "print(\"ok\")"
      ]
    },
    {
      "cell_type": "code",
      "execution_count": null,
      "metadata": {
        "colab": {
          "base_uri": "https://localhost:8080/"
        },
        "id": "pRSQc3LrJ6Jn",
        "outputId": "63bb651c-8dac-4cac-e0dd-012f41ba221a"
      },
      "outputs": [
        {
          "output_type": "stream",
          "name": "stdout",
          "text": [
            "Archive:  /content/pretrained_dataset/pretrained_baselines.zip\n",
            "   creating: pretrained_baselines/\n",
            "  inflating: pretrained_baselines/alexnet_gem.pth  \n",
            "  inflating: pretrained_baselines/resnet50_gem.pth  \n",
            "  inflating: pretrained_baselines/resnet50_netvlad.pth  \n",
            "  inflating: pretrained_baselines/alexnet_netvlad.pth  \n",
            "  inflating: pretrained_baselines/vgg16_gem.pth  \n",
            "  inflating: pretrained_baselines/vgg16_netvlad.pth  \n",
            "ok\n"
          ]
        }
      ],
      "source": [
        "#unzip the pretrained baseline -> only if the block above is not performed (we have a local copy on our drive)\n",
        "!unzip /content/pretrained_dataset/pretrained_baselines.zip\n",
        "shutil.move(\"/content/pretrained_baselines\", \"/content/geo_warp/data/\")\n",
        "print(\"ok\")"
      ]
    },
    {
      "cell_type": "code",
      "execution_count": null,
      "metadata": {
        "id": "dNxdN36fQkTA"
      },
      "outputs": [],
      "source": [
        "#!python /content/geo_warp/train.py -h\n",
        "train_set_folder = os.path.join(\"/content/small/\", \"train\")\n",
        "val_set_folder = os.path.join(\"/content/small/\", \"val\")"
      ]
    },
    {
      "cell_type": "code",
      "execution_count": null,
      "metadata": {
        "colab": {
          "base_uri": "https://localhost:8080/"
        },
        "id": "MndIW71Nd4Ct",
        "outputId": "26faacd8-b848-45f1-9f6a-e55e0a7ba434"
      },
      "outputs": [
        {
          "name": "stdout",
          "output_type": "stream",
          "text": [
            "Looking in indexes: https://pypi.org/simple, https://us-python.pkg.dev/colab-wheels/public/simple/\n",
            "Collecting backpack\n",
            "  Downloading backpack-0.1.tar.gz (71 kB)\n",
            "\u001b[2K     \u001b[90m━━━━━━━━━━━━━━━━━━━━━━━━━━━━━━━━━━━━━━━━\u001b[0m \u001b[32m71.3/71.3 KB\u001b[0m \u001b[31m7.8 MB/s\u001b[0m eta \u001b[36m0:00:00\u001b[0m\n",
            "\u001b[?25h  Preparing metadata (setup.py) ... \u001b[?25l\u001b[?25hdone\n",
            "Collecting simplejson\n",
            "  Downloading simplejson-3.18.1-cp38-cp38-manylinux_2_5_x86_64.manylinux1_x86_64.manylinux_2_17_x86_64.manylinux2014_x86_64.whl (135 kB)\n",
            "\u001b[2K     \u001b[90m━━━━━━━━━━━━━━━━━━━━━━━━━━━━━━━━━━━━━━\u001b[0m \u001b[32m135.5/135.5 KB\u001b[0m \u001b[31m18.4 MB/s\u001b[0m eta \u001b[36m0:00:00\u001b[0m\n",
            "\u001b[?25hBuilding wheels for collected packages: backpack\n",
            "  Building wheel for backpack (setup.py) ... \u001b[?25l\u001b[?25hdone\n",
            "  Created wheel for backpack: filename=backpack-0.1-py2.py3-none-any.whl size=12449 sha256=450f021c8d211d7352404ccc897cded07627992f449fbcb4e6ef136264e23042\n",
            "  Stored in directory: /root/.cache/pip/wheels/0d/ff/02/bee22c0dd24f523e49f46b7f73a46dc046f0206ced4ce9199e\n",
            "Successfully built backpack\n",
            "Installing collected packages: simplejson, backpack\n",
            "Successfully installed backpack-0.1 simplejson-3.18.1\n"
          ]
        }
      ],
      "source": [
        "!pip install backpack #laplace"
      ]
    },
    {
      "cell_type": "markdown",
      "metadata": {
        "id": "OHDqs6HqK67B"
      },
      "source": [
        "## Train with sf-xs (small)"
      ]
    },
    {
      "cell_type": "markdown",
      "metadata": {
        "id": "ck3Y7zkCLJbx"
      },
      "source": [
        "need to:\n",
        "- add dataset_wrap (local) (OK) ADDED\n",
        "- modify network.py (add geowarp network, homografic, feature extractor)\n",
        "- modify test.py (remove laplace.py)\n",
        "- modify layer.py (feature l2 norm)\n",
        "- add train_geowarp.py (OK) ADDED\n",
        "- modify parser.py (geowarp parameters)\n",
        "- modify commons (get_output_dim)"
      ]
    },
    {
      "cell_type": "markdown",
      "source": [
        "Results 03/02/2023\n",
        "\n",
        "test with no warping: R@1: 50.5, R@5: 66.1, R@10: 70.9, R@20: 75.8\n",
        "\n",
        "test after warping - R@1: 60.2, R@5: 66.1, R@10: 70.9, R@20: 75.8"
      ],
      "metadata": {
        "id": "XTYUyWwj_r7t"
      }
    },
    {
      "cell_type": "code",
      "execution_count": null,
      "metadata": {
        "colab": {
          "base_uri": "https://localhost:8080/"
        },
        "id": "2rh9taCqHES0",
        "outputId": "61f47f19-10bd-4f57-c073-7e57734b3875"
      },
      "outputs": [
        {
          "output_type": "stream",
          "name": "stdout",
          "text": [
            "Traceback (most recent call last):\n",
            "  File \"/content/train_geowarp.py\", line 55, in <module>\n",
            "    args = parser.parse_arguments()\n",
            "  File \"/content/parser.py\", line 96, in parse_arguments\n",
            "    parser.add_argument(\"--multi_scale\", action='store_true', help=\"Use multi scale\")\n",
            "  File \"/usr/lib/python3.8/argparse.py\", line 1398, in add_argument\n",
            "    return self._add_action(action)\n",
            "  File \"/usr/lib/python3.8/argparse.py\", line 1761, in _add_action\n",
            "    self._optionals._add_action(action)\n",
            "  File \"/usr/lib/python3.8/argparse.py\", line 1602, in _add_action\n",
            "    action = super(_ArgumentGroup, self)._add_action(action)\n",
            "  File \"/usr/lib/python3.8/argparse.py\", line 1412, in _add_action\n",
            "    self._check_conflict(action)\n",
            "  File \"/usr/lib/python3.8/argparse.py\", line 1551, in _check_conflict\n",
            "    conflict_handler(action, confl_optionals)\n",
            "  File \"/usr/lib/python3.8/argparse.py\", line 1560, in _handle_conflict_error\n",
            "    raise ArgumentError(action, message % conflict_string)\n",
            "argparse.ArgumentError: argument --multi_scale: conflicting option string: --multi_scale\n"
          ]
        }
      ],
      "source": [
        "!python /content/train_geowarp.py --dataset_folder /content/small --groups_num 1 --epochs_num 3\n",
        "#BE CAREFUL: THE MODEL IS ALREADY TRAINED AND IT IS IN geowarp_model"
      ]
    },
    {
      "cell_type": "markdown",
      "metadata": {
        "id": "WKr8cxnnRQOD"
      },
      "source": [
        "## Evaluation on sf-xs (small)"
      ]
    },
    {
      "cell_type": "markdown",
      "metadata": {
        "id": "pwLHL4h6RSpR"
      },
      "source": [
        "need to:\n",
        "- add evalGeowarp.py ADDED\n",
        "- modify util (compute_features and compute_recall) -> now there are dataset_util_geowarp and dataset_geoloc ADDED\n",
        "- add dataset_geoloc ADDED\n",
        "- add dataset_util_geowarp ADDED "
      ]
    },
    {
      "cell_type": "markdown",
      "source": [
        "Results 03/02/2023\n",
        "\n",
        "test with no warping: R@1: 50.5, R@5: 66.1, R@10: 70.9, R@20: 75.8\n",
        "\n",
        "test after warping - R@1: 60.2, R@5: 66.1, R@10: 70.9, R@20: 75.8"
      ],
      "metadata": {
        "id": "3U9dcAG2_6Ch"
      }
    },
    {
      "cell_type": "code",
      "execution_count": null,
      "metadata": {
        "id": "IR0jEGFfgRkK",
        "colab": {
          "base_uri": "https://localhost:8080/"
        },
        "outputId": "6ad6d38e-4cec-4770-f216-7f51003a745d"
      },
      "outputs": [
        {
          "output_type": "stream",
          "name": "stdout",
          "text": [
            "2023-02-03 20:41:00   /content/evalGeowarp.py --dataset_folder /content/small/ --resume_model /content/geowarp_model/best_model.pth\n",
            "2023-02-03 20:41:00   Arguments: Namespace(L=2, M=10, N=5, alpha=30, augmentation_device='cuda', backbone='ResNet18', batch_size=32, brightness=0.7, channels=[225, 128, 128, 64, 64, 64, 64], classifiers_lr=0.01, consistency_w=0.1, contrast=0.7, dataset_folder='/content/small/', device='cuda', epochs_num=50, fc_output_dim=512, features_wise_w=10, grl_param=None, groups_num=8, hue=0.5, infer_batch_size=16, iterations_per_epoch=10000, k=0.6, kernel_sizes=[7, 5, 5, 5, 5, 5], loss_function='cosface', lr=1e-05, min_images_per_class=10, multi_scale=False, multi_scale_method=None, night_brightness=0.1, night_test=False, num_reranked_preds=5, num_workers=8, optim='adam', positive_dist_threshold=25, qp_threshold=1.2, random_resized_crop=0.5, resume_model='/content/geowarp_model/best_model.pth', resume_train=None, saturation=0.7, save_dir='default', seed=0, select_resolutions=[1, 2, 5, 10], source_dir=None, ss_w=1, target_dir=None, test_method='hard_resize', test_set_folder='/content/small/test', use_amp16=False)\n",
            "2023-02-03 20:41:00   The outputs are being saved in logs/default/2023-02-03_20-41-00\n",
            "2023-02-03 20:41:03   There are 1 GPUs and 2 CPUs.\n",
            "2023-02-03 20:41:03   Loading model from /content/geowarp_model/best_model.pth\n",
            "2023-02-03 20:41:03   Start testing\n",
            "/usr/local/lib/python3.8/dist-packages/torch/utils/data/dataloader.py:554: UserWarning: This DataLoader will create 8 worker processes in total. Our suggested max number of worker in current system is 2, which is smaller than what this DataLoader is going to create. Please be aware that excessive worker creation might get DataLoader running slow or even freeze, lower the worker number to avoid potential slowness/freeze if necessary.\n",
            "  warnings.warn(_create_warning_msg(\n",
            "100%|███████████████████████████████████████████████████████████| 1700/1700 [03:52<00:00,  7.30it/s]\n",
            "100%|███████████████████████████████████████████████████████████| 1000/1000 [00:18<00:00, 53.23it/s]\n",
            "2023-02-03 20:45:16   Start re-ranking\n",
            "Testing: 100%|██████████████████████████████████████████████████| 1000/1000 [02:59<00:00,  5.56it/s]\n",
            "2023-02-03 20:48:15   Test without warping: < test - #q: 1000; #db: 27191 >: R@1: 50.5, R@5: 66.1, R@10: 70.9, R@20: 75.8\n",
            "2023-02-03 20:48:15     Test after warping: < test - #q: 1000; #db: 27191 >: R@1: 60.2, R@5: 66.1, R@10: 70.9, R@20: 75.8\n",
            "2023-02-03 20:48:15   Experiment finished (without any errors)\n"
          ]
        }
      ],
      "source": [
        "!python /content/evalGeowarp.py --dataset_folder /content/small/ --resume_model /content/geowarp_model/best_model.pth #file in logs.zip"
      ]
    },
    {
      "cell_type": "markdown",
      "source": [
        "## Evaluation on tokyo-xs "
      ],
      "metadata": {
        "id": "N8-gQRxsDJsc"
      }
    },
    {
      "cell_type": "markdown",
      "source": [
        "Results 03/02/2023\n",
        "\n",
        "Test without warping: < test - #q: 315; #db: 12771 >: R@1: 70.5, R@5: 83.2, R@10: 88.9, R@20: 91.7\n",
        "\n",
        "Test after warping: < test - #q: 315; #db: 12771 >: R@1: 76.2, R@5: 83.2, R@10: 88.9, R@20: 91.7"
      ],
      "metadata": {
        "id": "5I5_VbHPAGRr"
      }
    },
    {
      "cell_type": "code",
      "source": [
        "!python /content/evalGeowarp.py --dataset_folder /content/tokyo_xs  --resume_model /content/geowarp_model/best_model.pth #file in logs.zip"
      ],
      "metadata": {
        "id": "_HLaXgJNDNAN",
        "colab": {
          "base_uri": "https://localhost:8080/"
        },
        "outputId": "e1b0c9ae-db1b-40a8-eb3c-4dc5185d7347"
      },
      "execution_count": null,
      "outputs": [
        {
          "output_type": "stream",
          "name": "stdout",
          "text": [
            "2023-02-01 13:53:26   /content/evalGeowarp.py --dataset_folder /content/tokyo_xs --resume_model /content/geowarp_model/best_model.pth\n",
            "2023-02-01 13:53:26   Arguments: Namespace(L=2, M=10, N=5, alpha=30, augmentation_device='cuda', backbone='ResNet18', batch_size=32, brightness=0.7, channels=[225, 128, 128, 64, 64, 64, 64], classifiers_lr=0.01, consistency_w=0.1, contrast=0.7, dataset_folder='/content/tokyo_xs', device='cuda', enable_laplace=False, epochs_num=50, fc_output_dim=512, features_wise_w=10, groups_num=8, hue=0.5, infer_batch_size=16, iterations_per_epoch=10000, k=0.6, kernel_sizes=[7, 5, 5, 5, 5, 5], loss_function='cosface', lr=1e-05, min_images_per_class=10, num_reranked_preds=5, num_workers=8, optim='sgd', positive_dist_threshold=25, qp_threshold=1.2, random_resized_crop=0.5, resume_model='/content/geowarp_model/best_model.pth', resume_train=None, saturation=0.7, save_dir='default', seed=0, ss_w=1, test_set_folder='/content/tokyo_xs/test', use_amp16=False)\n",
            "2023-02-01 13:53:26   The outputs are being saved in logs/default/2023-02-01_13-53-26\n",
            "2023-02-01 13:53:28   There are 1 GPUs and 12 CPUs.\n",
            "2023-02-01 13:53:28   Loading model from /content/geowarp_model/best_model.pth\n",
            "2023-02-01 13:53:28   Start testing\n",
            "100%|█████████████████████████████████████████████████████████████| 799/799 [00:26<00:00, 29.84it/s]\n",
            "100%|████████████████████████████████████████████████████████████| 315/315 [00:02<00:00, 113.14it/s]\n",
            "2023-02-01 13:53:58   Start re-ranking\n",
            "Testing: 100%|████████████████████████████████████████████████████| 315/315 [00:20<00:00, 15.31it/s]\n",
            "2023-02-01 13:54:19   Test without warping: < test - #q: 315; #db: 12771 >: R@1: 70.5, R@5: 83.2, R@10: 88.9, R@20: 91.7\n",
            "2023-02-01 13:54:19     Test after warping: < test - #q: 315; #db: 12771 >: R@1: 76.2, R@5: 83.2, R@10: 88.9, R@20: 91.7\n",
            "2023-02-01 13:54:19   Experiment finished (without any errors)\n"
          ]
        }
      ]
    },
    {
      "cell_type": "markdown",
      "source": [
        "## Evaluation on tokyo night"
      ],
      "metadata": {
        "id": "Zyf-DE8DDPzi"
      }
    },
    {
      "cell_type": "markdown",
      "source": [
        "Results 03/02/2023\n",
        "\n",
        "Test without warping: < test - #q: 105; #db: 12771 >: R@1: 52.4, R@5: 70.5, R@10: 81.0, R@20: 84.8\n",
        "\n",
        "\n",
        "Test after warping: < test - #q: 105; #db: 12771 >: R@1: 60.0, R@5: 70.5, R@10: 81.0, R@20: 84.8"
      ],
      "metadata": {
        "id": "Pwy9u0SHAPYX"
      }
    },
    {
      "cell_type": "code",
      "source": [
        "!python /content/evalGeowarp.py --dataset_folder /content/tokyo-night  --resume_model /content/geowarp_model/best_model.pth #file in logs.zip"
      ],
      "metadata": {
        "id": "0Rp5x7FmDSld",
        "colab": {
          "base_uri": "https://localhost:8080/"
        },
        "outputId": "b6ba8914-6010-49f1-e151-4ffe671a8dfc"
      },
      "execution_count": null,
      "outputs": [
        {
          "output_type": "stream",
          "name": "stdout",
          "text": [
            "2023-02-01 13:56:11   /content/evalGeowarp.py --dataset_folder /content/tokyo-night --resume_model /content/geowarp_model/best_model.pth\n",
            "2023-02-01 13:56:11   Arguments: Namespace(L=2, M=10, N=5, alpha=30, augmentation_device='cuda', backbone='ResNet18', batch_size=32, brightness=0.7, channels=[225, 128, 128, 64, 64, 64, 64], classifiers_lr=0.01, consistency_w=0.1, contrast=0.7, dataset_folder='/content/tokyo-night', device='cuda', enable_laplace=False, epochs_num=50, fc_output_dim=512, features_wise_w=10, groups_num=8, hue=0.5, infer_batch_size=16, iterations_per_epoch=10000, k=0.6, kernel_sizes=[7, 5, 5, 5, 5, 5], loss_function='cosface', lr=1e-05, min_images_per_class=10, num_reranked_preds=5, num_workers=8, optim='sgd', positive_dist_threshold=25, qp_threshold=1.2, random_resized_crop=0.5, resume_model='/content/geowarp_model/best_model.pth', resume_train=None, saturation=0.7, save_dir='default', seed=0, ss_w=1, test_set_folder='/content/tokyo-night/test', use_amp16=False)\n",
            "2023-02-01 13:56:11   The outputs are being saved in logs/default/2023-02-01_13-56-11\n",
            "2023-02-01 13:56:13   There are 1 GPUs and 12 CPUs.\n",
            "2023-02-01 13:56:13   Loading model from /content/geowarp_model/best_model.pth\n",
            "2023-02-01 13:56:13   Start testing\n",
            "100%|█████████████████████████████████████████████████████████████| 799/799 [00:26<00:00, 29.81it/s]\n",
            "100%|█████████████████████████████████████████████████████████████| 105/105 [00:01<00:00, 88.29it/s]\n",
            "2023-02-01 13:56:41   Start re-ranking\n",
            "Testing: 100%|████████████████████████████████████████████████████| 105/105 [00:06<00:00, 15.45it/s]\n",
            "2023-02-01 13:56:48   Test without warping: < test - #q: 105; #db: 12771 >: R@1: 52.4, R@5: 70.5, R@10: 81.0, R@20: 84.8\n",
            "2023-02-01 13:56:48     Test after warping: < test - #q: 105; #db: 12771 >: R@1: 60.0, R@5: 70.5, R@10: 81.0, R@20: 84.8\n",
            "2023-02-01 13:56:48   Experiment finished (without any errors)\n"
          ]
        }
      ]
    },
    {
      "cell_type": "markdown",
      "source": [
        "# Step 4: Data Augmentation - Only on tokyo night"
      ],
      "metadata": {
        "id": "VxBTJ91p31Mp"
      }
    },
    {
      "cell_type": "markdown",
      "source": [
        "## CosPlace"
      ],
      "metadata": {
        "id": "61HwDEJbJLEK"
      }
    },
    {
      "cell_type": "markdown",
      "source": [
        "Results 03/02/2023\n",
        "\n",
        "R@1: 52.4, R@5: 70.5, R@10: 78.1, R@20: 87.6"
      ],
      "metadata": {
        "id": "a2Vp6fwuAWfE"
      }
    },
    {
      "cell_type": "code",
      "source": [
        "!python evalNight.py --dataset_folder /content/tokyo-night/  --resume_model /content/logs/content/logs/default/trained_with_cosface/best_model.pth --night_test True #file in logs.zip"
      ],
      "metadata": {
        "colab": {
          "base_uri": "https://localhost:8080/"
        },
        "id": "TsM80RWZ1dZI",
        "outputId": "2fbeb5b2-d44e-43ec-81f1-7691daec1efe"
      },
      "execution_count": null,
      "outputs": [
        {
          "output_type": "stream",
          "name": "stdout",
          "text": [
            "2023-02-03 16:54:55   evalNight.py --dataset_folder /content/tokyo-night/ --resume_model /content/logs/content/logs/default/trained_with_cosface/best_model.pth --night_test True\n",
            "2023-02-03 16:54:55   Arguments: Namespace(L=2, M=10, N=5, alpha=30, augmentation_device='cuda', backbone='ResNet18', batch_size=32, brightness=0.7, channels=[225, 128, 128, 64, 64, 64, 64], classifiers_lr=0.01, consistency_w=0.1, contrast=0.7, dataset_folder='/content/tokyo-night/', device='cuda', epochs_num=50, fc_output_dim=512, features_wise_w=10, grl_param=None, groups_num=8, hue=0.5, infer_batch_size=16, iterations_per_epoch=10000, k=0.6, kernel_sizes=[7, 5, 5, 5, 5, 5], loss_function='cosface', lr=1e-05, min_images_per_class=10, multi_scale=False, multi_scale_method=None, night_brightness=0.1, night_test=True, num_reranked_preds=5, num_workers=8, positive_dist_threshold=25, qp_threshold=1.2, random_resized_crop=0.5, resume_model='/content/logs/content/logs/default/trained_with_cosface/best_model.pth', resume_train=None, saturation=0.7, save_dir='default', seed=0, select_resolutions=[1, 2, 5, 10], source_dir=None, ss_w=1, target_dir=None, test_method='hard_resize', test_set_folder='/content/tokyo-night/test', use_amp16=False)\n",
            "2023-02-03 16:54:55   The outputs are being saved in logs/default/2023-02-03_16-54-55\n",
            "2023-02-03 16:54:55   There are 1 GPUs and 2 CPUs.\n",
            "2023-02-03 16:54:55   Loading model from /content/logs/content/logs/default/trained_with_cosface/best_model.pth\n",
            "/usr/local/lib/python3.8/dist-packages/torch/utils/data/dataloader.py:554: UserWarning: This DataLoader will create 8 worker processes in total. Our suggested max number of worker in current system is 2, which is smaller than what this DataLoader is going to create. Please be aware that excessive worker creation might get DataLoader running slow or even freeze, lower the worker number to avoid potential slowness/freeze if necessary.\n",
            "  warnings.warn(_create_warning_msg(\n",
            "100%|█████████████████████████████████████████████████████████████| 799/799 [02:15<00:00,  5.88it/s]\n",
            "100%|█████████████████████████████████████████████████████████████| 105/105 [00:02<00:00, 49.02it/s]\n",
            "2023-02-03 16:57:15   < test - #q: 105; #db: 12771 >: R@1: 52.4, R@5: 70.5, R@10: 78.1, R@20: 87.6\n"
          ]
        }
      ]
    },
    {
      "cell_type": "markdown",
      "source": [
        "## SphereFace"
      ],
      "metadata": {
        "id": "PpNeBRVaJQDN"
      }
    },
    {
      "cell_type": "markdown",
      "source": [
        "Results 03/02/2023:\n",
        "\n",
        "R@1: 46.7, R@5: 72.4, R@10: 79.0, R@20: 83.8"
      ],
      "metadata": {
        "id": "VnXzrNUYJUev"
      }
    },
    {
      "cell_type": "code",
      "source": [
        "!python evalNight.py --dataset_folder /content/tokyo-night/  --resume_model /content/logs/content/logs/default/trained_with_sphereface/best_model.pth --night_test True #file in logs.zip"
      ],
      "metadata": {
        "colab": {
          "base_uri": "https://localhost:8080/"
        },
        "id": "KN0I8JMYJUzR",
        "outputId": "05c95288-276b-42ae-faaa-7c6d7ef8b6d2"
      },
      "execution_count": null,
      "outputs": [
        {
          "output_type": "stream",
          "name": "stdout",
          "text": [
            "2023-02-03 17:02:49   evalNight.py --dataset_folder /content/tokyo-night/ --resume_model /content/logs/content/logs/default/trained_with_sphereface/best_model.pth --night_test True\n",
            "2023-02-03 17:02:49   Arguments: Namespace(L=2, M=10, N=5, alpha=30, augmentation_device='cuda', backbone='ResNet18', batch_size=32, brightness=0.7, channels=[225, 128, 128, 64, 64, 64, 64], classifiers_lr=0.01, consistency_w=0.1, contrast=0.7, dataset_folder='/content/tokyo-night/', device='cuda', epochs_num=50, fc_output_dim=512, features_wise_w=10, grl_param=None, groups_num=8, hue=0.5, infer_batch_size=16, iterations_per_epoch=10000, k=0.6, kernel_sizes=[7, 5, 5, 5, 5, 5], loss_function='cosface', lr=1e-05, min_images_per_class=10, multi_scale=False, multi_scale_method=None, night_brightness=0.1, night_test=True, num_reranked_preds=5, num_workers=8, positive_dist_threshold=25, qp_threshold=1.2, random_resized_crop=0.5, resume_model='/content/logs/content/logs/default/trained_with_sphereface/best_model.pth', resume_train=None, saturation=0.7, save_dir='default', seed=0, select_resolutions=[1, 2, 5, 10], source_dir=None, ss_w=1, target_dir=None, test_method='hard_resize', test_set_folder='/content/tokyo-night/test', use_amp16=False)\n",
            "2023-02-03 17:02:49   The outputs are being saved in logs/default/2023-02-03_17-02-49\n",
            "2023-02-03 17:02:50   There are 1 GPUs and 2 CPUs.\n",
            "2023-02-03 17:02:50   Loading model from /content/logs/content/logs/default/trained_with_sphereface/best_model.pth\n",
            "/usr/local/lib/python3.8/dist-packages/torch/utils/data/dataloader.py:554: UserWarning: This DataLoader will create 8 worker processes in total. Our suggested max number of worker in current system is 2, which is smaller than what this DataLoader is going to create. Please be aware that excessive worker creation might get DataLoader running slow or even freeze, lower the worker number to avoid potential slowness/freeze if necessary.\n",
            "  warnings.warn(_create_warning_msg(\n",
            "100%|█████████████████████████████████████████████████████████████| 799/799 [02:13<00:00,  5.98it/s]\n",
            "100%|█████████████████████████████████████████████████████████████| 105/105 [00:02<00:00, 48.58it/s]\n",
            "2023-02-03 17:05:07   < test - #q: 105; #db: 12771 >: R@1: 46.7, R@5: 70.5, R@10: 76.2, R@20: 87.6\n"
          ]
        }
      ]
    },
    {
      "cell_type": "markdown",
      "source": [
        "## ArcFace"
      ],
      "metadata": {
        "id": "4JcCuU3TJvQ8"
      }
    },
    {
      "cell_type": "markdown",
      "source": [
        "Results 03/02/2023: \n",
        "\n",
        "R@1: 51.4, R@5: 67.6, R@10: 77.1, R@20: 81.0\n",
        "\n"
      ],
      "metadata": {
        "id": "hSIQnmKkJweU"
      }
    },
    {
      "cell_type": "code",
      "source": [
        "!python evalNight.py --dataset_folder /content/tokyo-night/  --resume_model /content/logs/content/logs/default/trained_with_arcface/best_model.pth --night_test True #file in logs.zip"
      ],
      "metadata": {
        "colab": {
          "base_uri": "https://localhost:8080/"
        },
        "id": "4hZ8N640JxIM",
        "outputId": "80afeb84-35c8-4e7d-eece-d173fada2a70"
      },
      "execution_count": null,
      "outputs": [
        {
          "output_type": "stream",
          "name": "stdout",
          "text": [
            "2023-02-03 16:59:48   evalNight.py --dataset_folder /content/tokyo-night/ --resume_model /content/logs/content/logs/default/trained_with_arcface/best_model.pth --night_test True\n",
            "2023-02-03 16:59:48   Arguments: Namespace(L=2, M=10, N=5, alpha=30, augmentation_device='cuda', backbone='ResNet18', batch_size=32, brightness=0.7, channels=[225, 128, 128, 64, 64, 64, 64], classifiers_lr=0.01, consistency_w=0.1, contrast=0.7, dataset_folder='/content/tokyo-night/', device='cuda', epochs_num=50, fc_output_dim=512, features_wise_w=10, grl_param=None, groups_num=8, hue=0.5, infer_batch_size=16, iterations_per_epoch=10000, k=0.6, kernel_sizes=[7, 5, 5, 5, 5, 5], loss_function='cosface', lr=1e-05, min_images_per_class=10, multi_scale=False, multi_scale_method=None, night_brightness=0.1, night_test=True, num_reranked_preds=5, num_workers=8, positive_dist_threshold=25, qp_threshold=1.2, random_resized_crop=0.5, resume_model='/content/logs/content/logs/default/trained_with_arcface/best_model.pth', resume_train=None, saturation=0.7, save_dir='default', seed=0, select_resolutions=[1, 2, 5, 10], source_dir=None, ss_w=1, target_dir=None, test_method='hard_resize', test_set_folder='/content/tokyo-night/test', use_amp16=False)\n",
            "2023-02-03 16:59:48   The outputs are being saved in logs/default/2023-02-03_16-59-48\n",
            "2023-02-03 16:59:49   There are 1 GPUs and 2 CPUs.\n",
            "2023-02-03 16:59:49   Loading model from /content/logs/content/logs/default/trained_with_arcface/best_model.pth\n",
            "/usr/local/lib/python3.8/dist-packages/torch/utils/data/dataloader.py:554: UserWarning: This DataLoader will create 8 worker processes in total. Our suggested max number of worker in current system is 2, which is smaller than what this DataLoader is going to create. Please be aware that excessive worker creation might get DataLoader running slow or even freeze, lower the worker number to avoid potential slowness/freeze if necessary.\n",
            "  warnings.warn(_create_warning_msg(\n",
            "100%|█████████████████████████████████████████████████████████████| 799/799 [02:11<00:00,  6.10it/s]\n",
            "100%|█████████████████████████████████████████████████████████████| 105/105 [00:02<00:00, 46.32it/s]\n",
            "2023-02-03 17:02:04   < test - #q: 105; #db: 12771 >: R@1: 51.4, R@5: 67.6, R@10: 77.1, R@20: 81.0\n"
          ]
        }
      ]
    },
    {
      "cell_type": "markdown",
      "source": [
        "# Step 4: Alternative backbone"
      ],
      "metadata": {
        "id": "4LAE5-5W-aPU"
      }
    },
    {
      "cell_type": "markdown",
      "source": [
        "Be sure that requirements.txt have been already installed otherwise run the following command:"
      ],
      "metadata": {
        "id": "loRtcKXh-vzI"
      }
    },
    {
      "cell_type": "code",
      "source": [
        "!pip install requirements.txt"
      ],
      "metadata": {
        "id": "-uoHK2Wo-fCC"
      },
      "execution_count": null,
      "outputs": []
    },
    {
      "cell_type": "code",
      "source": [
        "#If not downloaded, download cosplace code\n",
        "# download code of CosPlace\n",
        "!git clone \"https://github.com/gmberton/CosPlace\" \n",
        "#!rm -r \"/content/CosPlace\""
      ],
      "metadata": {
        "id": "IuGS3lF9_QAK",
        "colab": {
          "base_uri": "https://localhost:8080/"
        },
        "outputId": "52828a1a-9729-4372-b2cc-eb9de66e46f1"
      },
      "execution_count": null,
      "outputs": [
        {
          "output_type": "stream",
          "name": "stdout",
          "text": [
            "Cloning into 'CosPlace'...\n",
            "remote: Enumerating objects: 203, done.\u001b[K\n",
            "remote: Total 203 (delta 0), reused 0 (delta 0), pack-reused 203\u001b[K\n",
            "Receiving objects: 100% (203/203), 51.91 KiB | 138.00 KiB/s, done.\n",
            "Resolving deltas: 100% (112/112), done.\n"
          ]
        }
      ]
    },
    {
      "cell_type": "code",
      "source": [
        "#import code\n",
        "import os\n",
        "import sys\n",
        "import torch\n",
        "import logging\n",
        "import multiprocessing\n",
        "import numpy as np\n",
        "#import torchvision.transforms as T\n",
        "from tqdm import tqdm\n",
        "from datetime import datetime\n",
        "\n",
        "sys.path.append(\"/content/CosPlace/\")\n",
        "import CosPlace\n",
        "from CosPlace import *\n",
        "\n",
        "torch.backends.cudnn.benchmark = True  # Provides a speedup"
      ],
      "metadata": {
        "id": "XelerOT2_XD9"
      },
      "execution_count": null,
      "outputs": []
    },
    {
      "cell_type": "markdown",
      "source": [
        "Modified file(s):\n",
        "- network.py (added convnext_tiny) - in doubt i modified netwrok 2 too\n",
        "- parser (added convnext in backbone, adjusted optim)\n",
        "- train_alternativebackbone (removed grl_param)\n"
      ],
      "metadata": {
        "id": "1q71PHGJskQH"
      }
    },
    {
      "cell_type": "markdown",
      "source": [
        "## Train sf-xs (small) with Convnext_tiny"
      ],
      "metadata": {
        "id": "GjOS8lYEuUpl"
      }
    },
    {
      "cell_type": "markdown",
      "source": [
        "Results 03/02/2023\n",
        "\n",
        "R@1: 21.6, R@5: 36.7, R@10: 44.1, R@20: 50.2"
      ],
      "metadata": {
        "id": "gKSgU5jzAeoy"
      }
    },
    {
      "cell_type": "code",
      "source": [
        "!python /content/train_alternativebackbone.py --dataset_folder /content/small --groups_num 1 --epochs_num 3 --backbone convnext_tiny --grl_param 0.3\n",
        "#BE CAREFUL: THE MODEL IS ALREADY TRAINED AND IT IS IN geowarp_model BUT IT DOES NOT WORKS IF YOU DON'T TRAIN"
      ],
      "metadata": {
        "colab": {
          "base_uri": "https://localhost:8080/"
        },
        "id": "YswqEumDuT57",
        "outputId": "04119a35-9e29-4f05-dffe-8d0bffa21b2b"
      },
      "execution_count": null,
      "outputs": [
        {
          "output_type": "stream",
          "name": "stdout",
          "text": [
            "2023-02-03 21:03:38   /content/train_alternativebackbone.py --dataset_folder /content/small --groups_num 1 --iterations_per_epoch 1000 --epochs_num 3 --backbone convnext_tiny\n",
            "2023-02-03 21:03:38   Arguments: Namespace(L=2, M=10, N=5, alpha=30, augmentation_device='cuda', backbone='convnext_tiny', batch_size=32, brightness=0.7, channels=[225, 128, 128, 64, 64, 64, 64], classifiers_lr=0.01, consistency_w=0.1, contrast=0.7, dataset_folder='/content/small', device='cuda', epochs_num=3, fc_output_dim=512, features_wise_w=10, grl_param=None, groups_num=1, hue=0.5, infer_batch_size=16, iterations_per_epoch=1000, k=0.6, kernel_sizes=[7, 5, 5, 5, 5, 5], loss_function='cosface', lr=1e-05, min_images_per_class=10, multi_scale=False, multi_scale_method=None, night_brightness=0.1, night_test=False, num_reranked_preds=5, num_workers=8, optim='adam', positive_dist_threshold=25, qp_threshold=1.2, random_resized_crop=0.5, resume_model=None, resume_train=None, saturation=0.7, save_dir='default', seed=0, select_resolutions=[1, 2, 5, 10], source_dir=None, ss_w=1, target_dir=None, test_method='hard_resize', test_set_folder='/content/small/test', train_set_folder='/content/small/train', use_amp16=False, val_set_folder='/content/small/val')\n",
            "2023-02-03 21:03:38   The outputs are being saved in logs/default/2023-02-03_21-03-38\n",
            "2023-02-03 21:03:38   Gradient Reversal Layer is disabled\n",
            "/usr/local/lib/python3.8/dist-packages/torchvision/models/_utils.py:208: UserWarning: The parameter 'pretrained' is deprecated since 0.13 and may be removed in the future, please use 'weights' instead.\n",
            "  warnings.warn(\n",
            "/usr/local/lib/python3.8/dist-packages/torchvision/models/_utils.py:223: UserWarning: Arguments other than a weight enum or `None` for 'weights' are deprecated since 0.13 and may be removed in the future. The current behavior is equivalent to passing `weights=ConvNeXt_Tiny_Weights.IMAGENET1K_V1`. You can also use `weights=ConvNeXt_Tiny_Weights.DEFAULT` to get the most up-to-date weights.\n",
            "  warnings.warn(msg)\n",
            "2023-02-03 21:03:38   This network is pretrained with Imagenet\n",
            "2023-02-03 21:03:39   Train last layer of ConvNext, freeze the previous ones\n",
            "2023-02-03 21:03:39   There are 1 GPUs and 2 CPUs.\n",
            "2023-02-03 21:03:41   ADAM OPTIMIZER\n",
            "2023-02-03 21:03:41   Using cached dataset cache/small_M10_N5_mipc10.torch\n",
            "2023-02-03 21:03:41   Using cosface loss function.\n",
            "2023-02-03 21:03:41   Using 1 groups\n",
            "2023-02-03 21:03:41   The 1 groups have respectively the following number of classes [5965]\n",
            "2023-02-03 21:03:41   The 1 groups have respectively the following number of images [59650]\n",
            "2023-02-03 21:03:42   Validation set: < val - #q: 7993; #db: 8015 >\n",
            "2023-02-03 21:03:42   Test set: < test - #q: 1000; #db: 27191 >\n",
            "2023-02-03 21:03:42   Start training ...\n",
            "2023-02-03 21:03:42   There are 5965 classes for the first group, each epoch has 1000 iterations with batch_size 32, therefore the model sees each class (on average) 5.4 times per epoch\n",
            "/usr/local/lib/python3.8/dist-packages/torch/utils/data/dataloader.py:554: UserWarning: This DataLoader will create 8 worker processes in total. Our suggested max number of worker in current system is 2, which is smaller than what this DataLoader is going to create. Please be aware that excessive worker creation might get DataLoader running slow or even freeze, lower the worker number to avoid potential slowness/freeze if necessary.\n",
            "  warnings.warn(_create_warning_msg(\n",
            "  1%|▍                                                             | 8/1000 [00:15<31:48,  1.92s/it]\n",
            "2023-02-03 21:03:58   \n",
            "Traceback (most recent call last):\n",
            "  File \"/content/train_alternativebackbone.py\", line 163, in <module>\n",
            "    epoch_losses = np.append(epoch_losses, loss.item())\n",
            "KeyboardInterrupt\n",
            "\n",
            "2023-02-03 21:03:58   Experiment finished (with some errors)\n",
            "^C\n"
          ]
        }
      ]
    },
    {
      "cell_type": "markdown",
      "source": [
        "## Train on sf-xs with Efficient net v2s"
      ],
      "metadata": {
        "id": "atXGMzAzMsmg"
      }
    },
    {
      "cell_type": "markdown",
      "source": [
        "Results 04/02/2023\n",
        "\n",
        "SCARICARE MODELLO"
      ],
      "metadata": {
        "id": "WEVkMBvzXCwg"
      }
    },
    {
      "cell_type": "code",
      "source": [
        "!python /content/train.py --dataset_folder /content/small --groups_num 1 --epochs_num 3 --backbone efficientnet_v2_s --grl_param 0.3 --source_dir /content/small --target_dir /content/night_target "
      ],
      "metadata": {
        "colab": {
          "base_uri": "https://localhost:8080/"
        },
        "id": "JAfeIza3M1dm",
        "outputId": "bfefbe52-10fb-4f3a-d610-96f4e08ddd41"
      },
      "execution_count": null,
      "outputs": [
        {
          "output_type": "stream",
          "name": "stdout",
          "text": [
            "2023-02-04 16:56:55   /content/train.py --dataset_folder /content/small --groups_num 1 --backbone efficientnet_v2_s --grl_param 0.3 --source_dir /content/small --target_dir /content/night_target\n",
            "2023-02-04 16:56:55   Arguments: Namespace(L=2, M=10, N=5, alpha=30, augmentation_device='cuda', backbone='efficientnet_v2_s', batch_size=32, brightness=0.7, channels=[225, 128, 128, 64, 64, 64, 64], classifiers_lr=0.01, consistency_w=0.1, contrast=0.7, dataset_folder='/content/small', device='cuda', epochs_num=50, fc_output_dim=512, features_wise_w=10, grl_param=0.3, groups_num=1, hue=0.5, infer_batch_size=16, iterations_per_epoch=10000, k=0.6, kernel_sizes=[7, 5, 5, 5, 5, 5], loss_function='cosface', lr=1e-05, min_images_per_class=10, multi_scale=False, multi_scale_method='avg', night_brightness=0.1, night_test=False, num_reranked_preds=5, num_workers=8, optim='adam', positive_dist_threshold=25, qp_threshold=1.2, random_resized_crop=0.5, resize=[480, 640], resume_model=None, resume_train=None, saturation=0.7, save_dir='default', seed=0, select_resolutions=[0.526, 0.588, 1, 1.7, 1.9], source_dir='/content/small', ss_w=1, target_dir='/content/night_target', test_method='hard_resize', test_set_folder='/content/small/test', train_set_folder='/content/small/train', use_amp16=False, val_set_folder='/content/small/val', wd=None)\n",
            "2023-02-04 16:56:55   The outputs are being saved in logs/default/2023-02-04_16-56-55\n",
            "2023-02-04 16:56:55   Gradient Reversal Layer is enabled with parameter = 0.3\n",
            "/usr/local/lib/python3.8/dist-packages/torchvision/models/_utils.py:208: UserWarning: The parameter 'pretrained' is deprecated since 0.13 and may be removed in the future, please use 'weights' instead.\n",
            "  warnings.warn(\n",
            "/usr/local/lib/python3.8/dist-packages/torchvision/models/_utils.py:223: UserWarning: Arguments other than a weight enum or `None` for 'weights' are deprecated since 0.13 and may be removed in the future. The current behavior is equivalent to passing `weights=EfficientNet_V2_S_Weights.IMAGENET1K_V1`. You can also use `weights=EfficientNet_V2_S_Weights.DEFAULT` to get the most up-to-date weights.\n",
            "  warnings.warn(msg)\n",
            "Downloading: \"https://download.pytorch.org/models/efficientnet_v2_s-dd5fe13b.pth\" to /root/.cache/torch/hub/checkpoints/efficientnet_v2_s-dd5fe13b.pth\n",
            "100% 82.7M/82.7M [00:00<00:00, 95.5MB/s]\n",
            "2023-02-04 16:56:56   Using efficient net v2s\n",
            "2023-02-04 16:56:56   Model uses weights IMAGENET1K_V1\n",
            "2023-02-04 16:56:57   Train last two layers of EfficientNet, freeze the previous ones\n",
            "2023-02-04 16:56:57   There are 1 GPUs and 12 CPUs.\n",
            "2023-02-04 16:57:02   Cached dataset cache/small_M10_N5_mipc10.torch does not exist, I'll create it now.\n",
            "2023-02-04 16:57:02   Searching training images in /content/small/train\n",
            "2023-02-04 16:57:02   Found 59650 images\n",
            "2023-02-04 16:57:02   For each image, get its UTM east, UTM north and heading from its path\n",
            "2023-02-04 16:57:02   For each image, get class and group to which it belongs\n",
            "2023-02-04 16:57:02   Group together images belonging to the same class\n",
            "2023-02-04 16:57:02   Group together classes belonging to the same group\n",
            "2023-02-04 16:57:03   GrlDataset has 3 domain classes\n",
            "2023-02-04 16:57:03   Using cosface loss function.\n",
            "2023-02-04 16:57:03   Using 1 groups\n",
            "2023-02-04 16:57:03   The 1 groups have respectively the following number of classes [5965]\n",
            "2023-02-04 16:57:03   The 1 groups have respectively the following number of images [59650]\n",
            "2023-02-04 16:57:03   Validation set: < val - #q: 7993; #db: 8015 >\n",
            "2023-02-04 16:57:03   Test set: < test - #q: 1000; #db: 27191 >\n",
            "2023-02-04 16:57:03   Start training ...\n",
            "2023-02-04 16:57:03   There are 5965 classes for the first group, each epoch has 10000 iterations with batch_size 32, therefore the model sees each class (on average) 53.6 times per epoch\n",
            "100%|█████████████████████████████████████████████████████████| 10000/10000 [53:25<00:00,  3.12it/s]\n",
            "2023-02-04 17:50:30   Epoch 00 in 0:53:26, loss = 8.8910\n",
            "2023-02-04 17:50:30   Average GRL epoch loss (* alpha = 0.3): 0.1810\n",
            "2023-02-04 17:50:30   Extracting database descriptors for evaluation/testing\n",
            "100%|█████████████████████████████████████████████████████████████| 501/501 [00:22<00:00, 21.88it/s]\n",
            "2023-02-04 17:50:53   Extracting queries descriptors for evaluation/testing using batch size 1\n",
            "100%|███████████████████████████████████████████████████████████| 7993/7993 [05:34<00:00, 23.89it/s]\n",
            "2023-02-04 17:56:27   Calculating recalls\n",
            "2023-02-04 17:56:29   Epoch 00 in 0:59:25, < val - #q: 7993; #db: 8015 >: R@1: 83.2, R@5: 91.1\n",
            "100%|█████████████████████████████████████████████████████████| 10000/10000 [53:08<00:00,  3.14it/s]\n",
            "2023-02-04 18:49:39   Epoch 01 in 0:53:09, loss = 3.6255\n",
            "2023-02-04 18:49:39   Average GRL epoch loss (* alpha = 0.3): 0.3582\n",
            "2023-02-04 18:49:39   Extracting database descriptors for evaluation/testing\n",
            "100%|█████████████████████████████████████████████████████████████| 501/501 [00:23<00:00, 21.71it/s]\n",
            "2023-02-04 18:50:02   Extracting queries descriptors for evaluation/testing using batch size 1\n",
            "100%|███████████████████████████████████████████████████████████| 7993/7993 [05:36<00:00, 23.78it/s]\n",
            "2023-02-04 18:55:38   Calculating recalls\n",
            "2023-02-04 18:55:39   Epoch 01 in 0:59:09, < val - #q: 7993; #db: 8015 >: R@1: 86.7, R@5: 93.3\n",
            "100%|█████████████████████████████████████████████████████████| 10000/10000 [53:08<00:00,  3.14it/s]\n",
            "2023-02-04 19:48:50   Epoch 02 in 0:53:09, loss = 2.4832\n",
            "2023-02-04 19:48:50   Average GRL epoch loss (* alpha = 0.3): 0.5414\n",
            "2023-02-04 19:48:50   Extracting database descriptors for evaluation/testing\n",
            "100%|█████████████████████████████████████████████████████████████| 501/501 [00:22<00:00, 22.34it/s]\n",
            "2023-02-04 19:49:12   Extracting queries descriptors for evaluation/testing using batch size 1\n",
            "100%|███████████████████████████████████████████████████████████| 7993/7993 [05:35<00:00, 23.79it/s]\n",
            "2023-02-04 19:54:48   Calculating recalls\n",
            "2023-02-04 19:54:50   Epoch 02 in 0:59:09, < val - #q: 7993; #db: 8015 >: R@1: 87.7, R@5: 93.7\n",
            " 67%|███████████████████████████████████████                   | 6743/10000 [35:54<16:52,  3.22it/s]Exception ignored in: <generator object tqdm.__iter__ at 0x7f3029a72190>\n",
            "Traceback (most recent call last):\n",
            "  File \"/usr/local/lib/python3.8/dist-packages/tqdm/std.py\", line 1210, in __iter__\n",
            "    self.close()\n",
            "  File \"/usr/local/lib/python3.8/dist-packages/tqdm/std.py\", line 1316, in close\n",
            "    self.display(pos=0)\n",
            "  File \"/usr/local/lib/python3.8/dist-packages/tqdm/std.py\", line 1509, in display\n",
            "    self.sp(self.__str__() if msg is None else msg)\n",
            "  File \"/usr/local/lib/python3.8/dist-packages/tqdm/std.py\", line 1165, in __str__\n",
            "    return self.format_meter(**self.format_dict)\n",
            "  File \"/usr/local/lib/python3.8/dist-packages/tqdm/std.py\", line 507, in format_meter\n",
            "    l_bar += '{0:3.0f}%|'.format(percentage)\n",
            "KeyboardInterrupt: \n",
            "2023-02-04 20:30:46   \n",
            "Traceback (most recent call last):\n",
            "  File \"/content/train.py\", line 196, in <module>\n",
            "    domain_adapt_output = model(domain_adapt_images,force_grl=True)\n",
            "  File \"/usr/local/lib/python3.8/dist-packages/torch/nn/modules/module.py\", line 1194, in _call_impl\n",
            "    return forward_call(*input, **kwargs)\n",
            "  File \"/content/model/network.py\", line 49, in forward\n",
            "    x = self.backbone(x)\n",
            "  File \"/usr/local/lib/python3.8/dist-packages/torch/nn/modules/module.py\", line 1194, in _call_impl\n",
            "    return forward_call(*input, **kwargs)\n",
            "  File \"/usr/local/lib/python3.8/dist-packages/torch/nn/modules/container.py\", line 204, in forward\n",
            "    input = module(input)\n",
            "  File \"/usr/local/lib/python3.8/dist-packages/torch/nn/modules/module.py\", line 1194, in _call_impl\n",
            "    return forward_call(*input, **kwargs)\n",
            "  File \"/usr/local/lib/python3.8/dist-packages/torch/nn/modules/container.py\", line 204, in forward\n",
            "    input = module(input)\n",
            "  File \"/usr/local/lib/python3.8/dist-packages/torch/nn/modules/module.py\", line 1194, in _call_impl\n",
            "    return forward_call(*input, **kwargs)\n",
            "  File \"/usr/local/lib/python3.8/dist-packages/torchvision/models/efficientnet.py\", line 229, in forward\n",
            "    result += input\n",
            "KeyboardInterrupt\n",
            "\n",
            "2023-02-04 20:30:46   Experiment finished (with some errors)\n",
            "^C\n"
          ]
        }
      ]
    },
    {
      "cell_type": "code",
      "source": [
        "!python /content/train.py --dataset_folder /content/small --groups_num 1 --epochs_num 1 --iterations_per_epoch 10 --backbone efficientnet_v2_s --grl_param 0.3 --source_dir /content/small --target_dir /content/night_target "
      ],
      "metadata": {
        "colab": {
          "base_uri": "https://localhost:8080/"
        },
        "id": "y1H9VvIdVgzi",
        "outputId": "bdf0caf4-20b2-4b9f-a6ed-374aedf6d494"
      },
      "execution_count": null,
      "outputs": [
        {
          "output_type": "stream",
          "name": "stdout",
          "text": [
            "2023-02-05 06:18:50   /content/train.py --dataset_folder /content/small --groups_num 1 --epochs_num 1 --iterations_per_epoch 10 --backbone efficientnet_v2_s --grl_param 0.3 --source_dir /content/small --target_dir /content/night_target\n",
            "2023-02-05 06:18:50   Arguments: Namespace(L=2, M=10, N=5, alpha=30, augmentation_device='cuda', backbone='efficientnet_v2_s', batch_size=32, brightness=0.7, channels=[225, 128, 128, 64, 64, 64, 64], classifiers_lr=0.01, consistency_w=0.1, contrast=0.7, dataset_folder='/content/small', device='cuda', epochs_num=1, fc_output_dim=512, features_wise_w=10, grl_param=0.3, groups_num=1, hue=0.5, infer_batch_size=16, iterations_per_epoch=10, k=0.6, kernel_sizes=[7, 5, 5, 5, 5, 5], loss_function='cosface', lr=1e-05, min_images_per_class=10, multi_scale=False, multi_scale_method='avg', night_brightness=0.1, night_test=False, num_reranked_preds=5, num_workers=8, optim='adam', positive_dist_threshold=25, qp_threshold=1.2, random_resized_crop=0.5, resize=[480, 640], resume_model=None, resume_train=None, saturation=0.7, save_dir='default', seed=0, select_resolutions=[0.526, 0.588, 1, 1.7, 1.9], source_dir='/content/small', ss_w=1, target_dir='/content/night_target', test_method='hard_resize', test_set_folder='/content/small/test', train_set_folder='/content/small/train', use_amp16=False, val_set_folder='/content/small/val', wd=None)\n",
            "2023-02-05 06:18:50   The outputs are being saved in logs/default/2023-02-05_06-18-50\n",
            "2023-02-05 06:18:50   Gradient Reversal Layer is enabled with parameter = 0.3\n",
            "/usr/local/lib/python3.8/dist-packages/torchvision/models/_utils.py:208: UserWarning: The parameter 'pretrained' is deprecated since 0.13 and may be removed in the future, please use 'weights' instead.\n",
            "  warnings.warn(\n",
            "/usr/local/lib/python3.8/dist-packages/torchvision/models/_utils.py:223: UserWarning: Arguments other than a weight enum or `None` for 'weights' are deprecated since 0.13 and may be removed in the future. The current behavior is equivalent to passing `weights=EfficientNet_V2_S_Weights.IMAGENET1K_V1`. You can also use `weights=EfficientNet_V2_S_Weights.DEFAULT` to get the most up-to-date weights.\n",
            "  warnings.warn(msg)\n",
            "Downloading: \"https://download.pytorch.org/models/efficientnet_v2_s-dd5fe13b.pth\" to /root/.cache/torch/hub/checkpoints/efficientnet_v2_s-dd5fe13b.pth\n",
            "100% 82.7M/82.7M [00:00<00:00, 102MB/s]\n",
            "2023-02-05 06:18:53   Using efficient net v2s\n",
            "2023-02-05 06:18:53   Model uses weights IMAGENET1K_V1\n",
            "2023-02-05 06:18:54   Train last two layers of EfficientNet, freeze the previous ones\n",
            "2023-02-05 06:18:55   There are 1 GPUs and 2 CPUs.\n",
            "2023-02-05 06:18:56   Cached dataset cache/small_M10_N5_mipc10.torch does not exist, I'll create it now.\n",
            "2023-02-05 06:18:56   Searching training images in /content/small/train\n",
            "2023-02-05 06:18:56   Found 59650 images\n",
            "2023-02-05 06:18:56   For each image, get its UTM east, UTM north and heading from its path\n",
            "2023-02-05 06:18:57   For each image, get class and group to which it belongs\n",
            "2023-02-05 06:18:57   Group together images belonging to the same class\n",
            "2023-02-05 06:18:57   Group together classes belonging to the same group\n",
            "2023-02-05 06:18:57   GrlDataset has 3 domain classes\n",
            "2023-02-05 06:18:57   Using cosface loss function.\n",
            "2023-02-05 06:18:57   Using 1 groups\n",
            "2023-02-05 06:18:57   The 1 groups have respectively the following number of classes [5965]\n",
            "2023-02-05 06:18:57   The 1 groups have respectively the following number of images [59650]\n",
            "2023-02-05 06:18:58   Validation set: < val - #q: 7993; #db: 8015 >\n",
            "2023-02-05 06:18:58   Test set: < test - #q: 1000; #db: 27191 >\n",
            "2023-02-05 06:18:58   Start training ...\n",
            "2023-02-05 06:18:58   There are 5965 classes for the first group, each epoch has 10 iterations with batch_size 32, therefore the model sees each class (on average) 0.1 times per epoch\n",
            "/usr/local/lib/python3.8/dist-packages/torch/utils/data/dataloader.py:554: UserWarning: This DataLoader will create 8 worker processes in total. Our suggested max number of worker in current system is 2, which is smaller than what this DataLoader is going to create. Please be aware that excessive worker creation might get DataLoader running slow or even freeze, lower the worker number to avoid potential slowness/freeze if necessary.\n",
            "  warnings.warn(_create_warning_msg(\n",
            "100%|███████████████████████████████████████████████████████████████| 10/10 [00:34<00:00,  3.49s/it]\n",
            "2023-02-05 06:19:34   Epoch 00 in 0:00:36, loss = 37.7771\n",
            "2023-02-05 06:19:34   Average GRL epoch loss (* alpha = 0.3): 0.2119\n",
            "2023-02-05 06:19:34   Extracting database descriptors for evaluation/testing\n",
            "100%|█████████████████████████████████████████████████████████████| 501/501 [02:09<00:00,  3.86it/s]\n",
            "2023-02-05 06:21:44   Extracting queries descriptors for evaluation/testing using batch size 1\n",
            "100%|███████████████████████████████████████████████████████████| 7993/7993 [06:00<00:00, 22.18it/s]\n",
            "2023-02-05 06:27:45   Calculating recalls\n",
            "2023-02-05 06:27:46   Epoch 00 in 0:08:48, < val - #q: 7993; #db: 8015 >: R@1: 30.4, R@5: 45.9\n",
            "2023-02-05 06:27:48   Trained for 01 epochs, in total in 0:08:57\n",
            "2023-02-05 06:27:48   Now testing on the test set: < test - #q: 1000; #db: 27191 >\n",
            "2023-02-05 06:27:48   Extracting database descriptors for evaluation/testing\n",
            "100%|███████████████████████████████████████████████████████████| 1700/1700 [07:09<00:00,  3.95it/s]\n",
            "2023-02-05 06:34:58   Extracting queries descriptors for evaluation/testing using batch size 1\n",
            "100%|███████████████████████████████████████████████████████████| 1000/1000 [00:47<00:00, 21.24it/s]\n",
            "2023-02-05 06:35:45   Calculating recalls\n",
            "2023-02-05 06:35:46   < test - #q: 1000; #db: 27191 >: R@1: 11.2, R@5: 25.9, R@10: 32.1, R@20: 38.8\n",
            "2023-02-05 06:35:46   Experiment finished (without any errors)\n"
          ]
        }
      ]
    },
    {
      "cell_type": "code",
      "source": [
        "!python /content/evalGRL.py --dataset_folder /content/small/ --resume_model /content/logs/default/2023-02-05_06-18-50/best_model.pth --grl_param 0.3 #file in logs.zip"
      ],
      "metadata": {
        "colab": {
          "base_uri": "https://localhost:8080/"
        },
        "id": "gyZ_YdBSV2WG",
        "outputId": "399caca9-a010-4c75-a3b8-af0b47672935"
      },
      "execution_count": null,
      "outputs": [
        {
          "output_type": "stream",
          "name": "stdout",
          "text": [
            "2023-02-05 06:36:25   /content/evalGRL.py --dataset_folder /content/small/ --resume_model /content/logs/default/2023-02-05_06-18-50/best_model.pth --grl_param 0.3\n",
            "2023-02-05 06:36:25   Arguments: Namespace(L=2, M=10, N=5, alpha=30, augmentation_device='cuda', backbone='ResNet18', batch_size=32, brightness=0.7, channels=[225, 128, 128, 64, 64, 64, 64], classifiers_lr=0.01, consistency_w=0.1, contrast=0.7, dataset_folder='/content/small/', device='cuda', epochs_num=50, fc_output_dim=512, features_wise_w=10, grl_param=0.3, groups_num=8, hue=0.5, infer_batch_size=16, iterations_per_epoch=10000, k=0.6, kernel_sizes=[7, 5, 5, 5, 5, 5], loss_function='cosface', lr=1e-05, min_images_per_class=10, multi_scale=False, multi_scale_method='avg', night_brightness=0.1, night_test=False, num_reranked_preds=5, num_workers=8, optim='adam', positive_dist_threshold=25, qp_threshold=1.2, random_resized_crop=0.5, resize=[480, 640], resume_model='/content/logs/default/2023-02-05_06-18-50/best_model.pth', resume_train=None, saturation=0.7, save_dir='default', seed=0, select_resolutions=[0.526, 0.588, 1, 1.7, 1.9], source_dir=None, ss_w=1, target_dir=None, test_method='hard_resize', test_set_folder='/content/small/test', use_amp16=False, wd=None)\n",
            "2023-02-05 06:36:25   The outputs are being saved in logs/default/2023-02-05_06-36-25\n",
            "2023-02-05 06:36:25   Train only layer3 and layer4 of the ResNet18, freeze the previous ones\n",
            "2023-02-05 06:36:31   Test set: < test - #q: 1000; #db: 27191 >\n",
            "2023-02-05 06:36:32   \n",
            "Traceback (most recent call last):\n",
            "  File \"/content/evalGRL.py\", line 53, in <module>\n",
            "    model.load_state_dict(best_model_state_dict)\n",
            "  File \"/usr/local/lib/python3.8/dist-packages/torch/nn/modules/module.py\", line 1671, in load_state_dict\n",
            "    raise RuntimeError('Error(s) in loading state_dict for {}:\\n\\t{}'.format(\n",
            "RuntimeError: Error(s) in loading state_dict for GeoLocalizationNet:\n",
            "\tMissing key(s) in state_dict: \"backbone.0.weight\", \"backbone.1.weight\", \"backbone.1.bias\", \"backbone.1.running_mean\", \"backbone.1.running_var\", \"backbone.4.0.conv1.weight\", \"backbone.4.0.bn1.weight\", \"backbone.4.0.bn1.bias\", \"backbone.4.0.bn1.running_mean\", \"backbone.4.0.bn1.running_var\", \"backbone.4.0.conv2.weight\", \"backbone.4.0.bn2.weight\", \"backbone.4.0.bn2.bias\", \"backbone.4.0.bn2.running_mean\", \"backbone.4.0.bn2.running_var\", \"backbone.4.1.conv1.weight\", \"backbone.4.1.bn1.weight\", \"backbone.4.1.bn1.bias\", \"backbone.4.1.bn1.running_mean\", \"backbone.4.1.bn1.running_var\", \"backbone.4.1.conv2.weight\", \"backbone.4.1.bn2.weight\", \"backbone.4.1.bn2.bias\", \"backbone.4.1.bn2.running_mean\", \"backbone.4.1.bn2.running_var\", \"backbone.5.0.conv1.weight\", \"backbone.5.0.bn1.weight\", \"backbone.5.0.bn1.bias\", \"backbone.5.0.bn1.running_mean\", \"backbone.5.0.bn1.running_var\", \"backbone.5.0.conv2.weight\", \"backbone.5.0.bn2.weight\", \"backbone.5.0.bn2.bias\", \"backbone.5.0.bn2.running_mean\", \"backbone.5.0.bn2.running_var\", \"backbone.5.0.downsample.0.weight\", \"backbone.5.0.downsample.1.weight\", \"backbone.5.0.downsample.1.bias\", \"backbone.5.0.downsample.1.running_mean\", \"backbone.5.0.downsample.1.running_var\", \"backbone.5.1.conv1.weight\", \"backbone.5.1.bn1.weight\", \"backbone.5.1.bn1.bias\", \"backbone.5.1.bn1.running_mean\", \"backbone.5.1.bn1.running_var\", \"backbone.5.1.conv2.weight\", \"backbone.5.1.bn2.weight\", \"backbone.5.1.bn2.bias\", \"backbone.5.1.bn2.running_mean\", \"backbone.5.1.bn2.running_var\", \"backbone.6.0.conv1.weight\", \"backbone.6.0.bn1.weight\", \"backbone.6.0.bn1.bias\", \"backbone.6.0.bn1.running_mean\", \"backbone.6.0.bn1.running_var\", \"backbone.6.0.conv2.weight\", \"backbone.6.0.bn2.weight\", \"backbone.6.0.bn2.bias\", \"backbone.6.0.bn2.running_mean\", \"backbone.6.0.bn2.running_var\", \"backbone.6.0.downsample.0.weight\", \"backbone.6.0.downsample.1.weight\", \"backbone.6.0.downsample.1.bias\", \"backbone.6.0.downsample.1.running_mean\", \"backbone.6.0.downsample.1.running_var\", \"backbone.6.1.conv1.weight\", \"backbone.6.1.bn1.weight\", \"backbone.6.1.bn1.bias\", \"backbone.6.1.bn1.running_mean\", \"backbone.6.1.bn1.running_var\", \"backbone.6.1.conv2.weight\", \"backbone.6.1.bn2.weight\", \"backbone.6.1.bn2.bias\", \"backbone.6.1.bn2.running_mean\", \"backbone.6.1.bn2.running_var\", \"backbone.7.0.conv1.weight\", \"backbone.7.0.bn1.weight\", \"backbone.7.0.bn1.bias\", \"backbone.7.0.bn1.running_mean\", \"backbone.7.0.bn1.running_var\", \"backbone.7.0.conv2.weight\", \"backbone.7.0.bn2.weight\", \"backbone.7.0.bn2.bias\", \"backbone.7.0.bn2.running_mean\", \"backbone.7.0.bn2.running_var\", \"backbone.7.0.downsample.0.weight\", \"backbone.7.0.downsample.1.weight\", \"backbone.7.0.downsample.1.bias\", \"backbone.7.0.downsample.1.running_mean\", \"backbone.7.0.downsample.1.running_var\", \"backbone.7.1.conv1.weight\", \"backbone.7.1.bn1.weight\", \"backbone.7.1.bn1.bias\", \"backbone.7.1.bn1.running_mean\", \"backbone.7.1.bn1.running_var\", \"backbone.7.1.conv2.weight\", \"backbone.7.1.bn2.weight\", \"backbone.7.1.bn2.bias\", \"backbone.7.1.bn2.running_mean\", \"backbone.7.1.bn2.running_var\". \n",
            "\tUnexpected key(s) in state_dict: \"backbone.0.0.weight\", \"backbone.0.1.weight\", \"backbone.0.1.bias\", \"backbone.0.1.running_mean\", \"backbone.0.1.running_var\", \"backbone.0.1.num_batches_tracked\", \"backbone.1.0.block.0.0.weight\", \"backbone.1.0.block.0.1.weight\", \"backbone.1.0.block.0.1.bias\", \"backbone.1.0.block.0.1.running_mean\", \"backbone.1.0.block.0.1.running_var\", \"backbone.1.0.block.0.1.num_batches_tracked\", \"backbone.1.1.block.0.0.weight\", \"backbone.1.1.block.0.1.weight\", \"backbone.1.1.block.0.1.bias\", \"backbone.1.1.block.0.1.running_mean\", \"backbone.1.1.block.0.1.running_var\", \"backbone.1.1.block.0.1.num_batches_tracked\", \"backbone.2.0.block.0.0.weight\", \"backbone.2.0.block.0.1.weight\", \"backbone.2.0.block.0.1.bias\", \"backbone.2.0.block.0.1.running_mean\", \"backbone.2.0.block.0.1.running_var\", \"backbone.2.0.block.0.1.num_batches_tracked\", \"backbone.2.0.block.1.0.weight\", \"backbone.2.0.block.1.1.weight\", \"backbone.2.0.block.1.1.bias\", \"backbone.2.0.block.1.1.running_mean\", \"backbone.2.0.block.1.1.running_var\", \"backbone.2.0.block.1.1.num_batches_tracked\", \"backbone.2.1.block.0.0.weight\", \"backbone.2.1.block.0.1.weight\", \"backbone.2.1.block.0.1.bias\", \"backbone.2.1.block.0.1.running_mean\", \"backbone.2.1.block.0.1.running_var\", \"backbone.2.1.block.0.1.num_batches_tracked\", \"backbone.2.1.block.1.0.weight\", \"backbone.2.1.block.1.1.weight\", \"backbone.2.1.block.1.1.bias\", \"backbone.2.1.block.1.1.running_mean\", \"backbone.2.1.block.1.1.running_var\", \"backbone.2.1.block.1.1.num_batches_tracked\", \"backbone.2.2.block.0.0.weight\", \"backbone.2.2.block.0.1.weight\", \"backbone.2.2.block.0.1.bias\", \"backbone.2.2.block.0.1.running_mean\", \"backbone.2.2.block.0.1.running_var\", \"backbone.2.2.block.0.1.num_batches_tracked\", \"backbone.2.2.block.1.0.weight\", \"backbone.2.2.block.1.1.weight\", \"backbone.2.2.block.1.1.bias\", \"backbone.2.2.block.1.1.running_mean\", \"backbone.2.2.block.1.1.running_var\", \"backbone.2.2.block.1.1.num_batches_tracked\", \"backbone.2.3.block.0.0.weight\", \"backbone.2.3.block.0.1.weight\", \"backbone.2.3.block.0.1.bias\", \"backbone.2.3.block.0.1.running_mean\", \"backbone.2.3.block.0.1.running_var\", \"backbone.2.3.block.0.1.num_batches_tracked\", \"backbone.2.3.block.1.0.weight\", \"backbone.2.3.block.1.1.weight\", \"backbone.2.3.block.1.1.bias\", \"backbone.2.3.block.1.1.running_mean\", \"backbone.2.3.block.1.1.running_var\", \"backbone.2.3.block.1.1.num_batches_tracked\", \"backbone.3.0.block.0.0.weight\", \"backbone.3.0.block.0.1.weight\", \"backbone.3.0.block.0.1.bias\", \"backbone.3.0.block.0.1.running_mean\", \"backbone.3.0.block.0.1.running_var\", \"backbone.3.0.block.0.1.num_batches_tracked\", \"backbone.3.0.block.1.0.weight\", \"backbone.3.0.block.1.1.weight\", \"backbone.3.0.block.1.1.bias\", \"backbone.3.0.block.1.1.running_mean\", \"backbone.3.0.block.1.1.running_var\", \"backbone.3.0.block.1.1.num_batches_tracked\", \"backbone.3.1.block.0.0.weight\", \"backbone.3.1.block.0.1.weight\", \"backbone.3.1.block.0.1.bias\", \"backbone.3.1.block.0.1.running_mean\", \"backbone.3.1.block.0.1.running_var\", \"backbone.3.1.block.0.1.num_batches_tracked\", \"backbone.3.1.block.1.0.weight\", \"backbone.3.1.block.1.1.weight\", \"backbone.3.1.block.1.1.bias\", \"backbone.3.1.block.1.1.running_mean\", \"backbone.3.1.block.1.1.running_var\", \"backbone.3.1.block.1.1.num_batches_tracked\", \"backbone.3.2.block.0.0.weight\", \"backbone.3.2.block.0.1.weight\", \"backbone.3.2.block.0.1.bias\", \"backbone.3.2.block.0.1.running_mean\", \"backbone.3.2.block.0.1.running_var\", \"backbone.3.2.block.0.1.num_batches_tracked\", \"backbone.3.2.block.1.0.weight\", \"backbone.3.2.block.1.1.weight\", \"backbone.3.2.block.1.1.bias\", \"backbone.3.2.block.1.1.running_mean\", \"backbone.3.2.block.1.1.running_var\", \"backbone.3.2.block.1.1.num_batches_tracked\", \"backbone.3.3.block.0.0.weight\", \"backbone.3.3.block.0.1.weight\", \"backbone.3.3.block.0.1.bias\", \"backbone.3.3.block.0.1.running_mean\", \"backbone.3.3.block.0.1.running_var\", \"backbone.3.3.block.0.1.num_batches_tracked\", \"backbone.3.3.block.1.0.weight\", \"backbone.3.3.block.1.1.weight\", \"backbone.3.3.block.1.1.bias\", \"backbone.3.3.block.1.1.running_mean\", \"backbone.3.3.block.1.1.running_var\", \"backbone.3.3.block.1.1.num_batches_tracked\", \"backbone.4.2.block.0.0.weight\", \"backbone.4.2.block.0.1.weight\", \"backbone.4.2.block.0.1.bias\", \"backbone.4.2.block.0.1.running_mean\", \"backbone.4.2.block.0.1.running_var\", \"backbone.4.2.block.0.1.num_batches_tracked\", \"backbone.4.2.block.1.0.weight\", \"backbone.4.2.block.1.1.weight\", \"backbone.4.2.block.1.1.bias\", \"backbone.4.2.block.1.1.running_mean\", \"backbone.4.2.block.1.1.running_var\", \"backbone.4.2.block.1.1.num_batches_tracked\", \"backbone.4.2.block.2.fc1.weight\", \"backbone.4.2.block.2.fc1.bias\", \"backbone.4.2.block.2.fc2.weight\", \"backbone.4.2.block.2.fc2.bias\", \"backbone.4.2.block.3.0.weight\", \"backbone.4.2.block.3.1.weight\", \"backbone.4.2.block.3.1.bias\", \"backbone.4.2.block.3.1.running_mean\", \"backbone.4.2.block.3.1.running_var\", \"backbone.4.2.block.3.1.num_batches_tracked\", \"backbone.4.3.block.0.0.weight\", \"backbone.4.3.block.0.1.weight\", \"backbone.4.3.block.0.1.bias\", \"backbone.4.3.block.0.1.running_mean\", \"backbone.4.3.block.0.1.running_var\", \"backbone.4.3.block.0.1.num_batches_tracked\", \"backbone.4.3.block.1.0.weight\", \"backbone.4.3.block.1.1.weight\", \"backbone.4.3.block.1.1.bias\", \"backbone.4.3.block.1.1.running_mean\", \"backbone.4.3.block.1.1.running_var\", \"backbone.4.3.block.1.1.num_batches_tracked\", \"backbone.4.3.block.2.fc1.weight\", \"backbone.4.3.block.2.fc1.bias\", \"backbone.4.3.block.2.fc2.weight\", \"backbone.4.3.block.2.fc2.bias\", \"backbone.4.3.block.3.0.weight\", \"backbone.4.3.block.3.1.weight\", \"backbone.4.3.block.3.1.bias\", \"backbone.4.3.block.3.1.running_mean\", \"backbone.4.3.block.3.1.running_var\", \"backbone.4.3.block.3.1.num_batches_tracked\", \"backbone.4.4.block.0.0.weight\", \"backbone.4.4.block.0.1.weight\", \"backbone.4.4.block.0.1.bias\", \"backbone.4.4.block.0.1.running_mean\", \"backbone.4.4.block.0.1.running_var\", \"backbone.4.4.block.0.1.num_batches_tracked\", \"backbone.4.4.block.1.0.weight\", \"backbone.4.4.block.1.1.weight\", \"backbone.4.4.block.1.1.bias\", \"backbone.4.4.block.1.1.running_mean\", \"backbone.4.4.block.1.1.running_var\", \"backbone.4.4.block.1.1.num_batches_tracked\", \"backbone.4.4.block.2.fc1.weight\", \"backbone.4.4.block.2.fc1.bias\", \"backbone.4.4.block.2.fc2.weight\", \"backbone.4.4.block.2.fc2.bias\", \"backbone.4.4.block.3.0.weight\", \"backbone.4.4.block.3.1.weight\", \"backbone.4.4.block.3.1.bias\", \"backbone.4.4.block.3.1.running_mean\", \"backbone.4.4.block.3.1.running_var\", \"backbone.4.4.block.3.1.num_batches_tracked\", \"backbone.4.5.block.0.0.weight\", \"backbone.4.5.block.0.1.weight\", \"backbone.4.5.block.0.1.bias\", \"backbone.4.5.block.0.1.running_mean\", \"backbone.4.5.block.0.1.running_var\", \"backbone.4.5.block.0.1.num_batches_tracked\", \"backbone.4.5.block.1.0.weight\", \"backbone.4.5.block.1.1.weight\", \"backbone.4.5.block.1.1.bias\", \"backbone.4.5.block.1.1.running_mean\", \"backbone.4.5.block.1.1.running_var\", \"backbone.4.5.block.1.1.num_batches_tracked\", \"backbone.4.5.block.2.fc1.weight\", \"backbone.4.5.block.2.fc1.bias\", \"backbone.4.5.block.2.fc2.weight\", \"backbone.4.5.block.2.fc2.bias\", \"backbone.4.5.block.3.0.weight\", \"backbone.4.5.block.3.1.weight\", \"backbone.4.5.block.3.1.bias\", \"backbone.4.5.block.3.1.running_mean\", \"backbone.4.5.block.3.1.running_var\", \"backbone.4.5.block.3.1.num_batches_tracked\", \"backbone.4.0.block.0.0.weight\", \"backbone.4.0.block.0.1.weight\", \"backbone.4.0.block.0.1.bias\", \"backbone.4.0.block.0.1.running_mean\", \"backbone.4.0.block.0.1.running_var\", \"backbone.4.0.block.0.1.num_batches_tracked\", \"backbone.4.0.block.1.0.weight\", \"backbone.4.0.block.1.1.weight\", \"backbone.4.0.block.1.1.bias\", \"backbone.4.0.block.1.1.running_mean\", \"backbone.4.0.block.1.1.running_var\", \"backbone.4.0.block.1.1.num_batches_tracked\", \"backbone.4.0.block.2.fc1.weight\", \"backbone.4.0.block.2.fc1.bias\", \"backbone.4.0.block.2.fc2.weight\", \"backbone.4.0.block.2.fc2.bias\", \"backbone.4.0.block.3.0.weight\", \"backbone.4.0.block.3.1.weight\", \"backbone.4.0.block.3.1.bias\", \"backbone.4.0.block.3.1.running_mean\", \"backbone.4.0.block.3.1.running_var\", \"backbone.4.0.block.3.1.num_batches_tracked\", \"backbone.4.1.block.0.0.weight\", \"backbone.4.1.block.0.1.weight\", \"backbone.4.1.block.0.1.bias\", \"backbone.4.1.block.0.1.running_mean\", \"backbone.4.1.block.0.1.running_var\", \"backbone.4.1.block.0.1.num_batches_tracked\", \"backbone.4.1.block.1.0.weight\", \"backbone.4.1.block.1.1.weight\", \"backbone.4.1.block.1.1.bias\", \"backbone.4.1.block.1.1.running_mean\", \"backbone.4.1.block.1.1.running_var\", \"backbone.4.1.block.1.1.num_batches_tracked\", \"backbone.4.1.block.2.fc1.weight\", \"backbone.4.1.block.2.fc1.bias\", \"backbone.4.1.block.2.fc2.weight\", \"backbone.4.1.block.2.fc2.bias\", \"backbone.4.1.block.3.0.weight\", \"backbone.4.1.block.3.1.weight\", \"backbone.4.1.block.3.1.bias\", \"backbone.4.1.block.3.1.running_mean\", \"backbone.4.1.block.3.1.running_var\", \"backbone.4.1.block.3.1.num_batches_tracked\", \"backbone.5.2.block.0.0.weight\", \"backbone.5.2.block.0.1.weight\", \"backbone.5.2.block.0.1.bias\", \"backbone.5.2.block.0.1.running_mean\", \"backbone.5.2.block.0.1.running_var\", \"backbone.5.2.block.0.1.num_batches_tracked\", \"backbone.5.2.block.1.0.weight\", \"backbone.5.2.block.1.1.weight\", \"backbone.5.2.block.1.1.bias\", \"backbone.5.2.block.1.1.running_mean\", \"backbone.5.2.block.1.1.running_var\", \"backbone.5.2.block.1.1.num_batches_tracked\", \"backbone.5.2.block.2.fc1.weight\", \"backbone.5.2.block.2.fc1.bias\", \"backbone.5.2.block.2.fc2.weight\", \"backbone.5.2.block.2.fc2.bias\", \"backbone.5.2.block.3.0.weight\", \"backbone.5.2.block.3.1.weight\", \"backbone.5.2.block.3.1.bias\", \"backbone.5.2.block.3.1.running_mean\", \"backbone.5.2.block.3.1.running_var\", \"backbone.5.2.block.3.1.num_batches_tracked\", \"backbone.5.3.block.0.0.weight\", \"backbone.5.3.block.0.1.weight\", \"backbone.5.3.block.0.1.bias\", \"backbone.5.3.block.0.1.running_mean\", \"backbone.5.3.block.0.1.running_var\", \"backbone.5.3.block.0.1.num_batches_tracked\", \"backbone.5.3.block.1.0.weight\", \"backbone.5.3.block.1.1.weight\", \"backbone.5.3.block.1.1.bias\", \"backbone.5.3.block.1.1.running_mean\", \"backbone.5.3.block.1.1.running_var\", \"backbone.5.3.block.1.1.num_batches_tracked\", \"backbone.5.3.block.2.fc1.weight\", \"backbone.5.3.block.2.fc1.bias\", \"backbone.5.3.block.2.fc2.weight\", \"backbone.5.3.block.2.fc2.bias\", \"backbone.5.3.block.3.0.weight\", \"backbone.5.3.block.3.1.weight\", \"backbone.5.3.block.3.1.bias\", \"backbone.5.3.block.3.1.running_mean\", \"backbone.5.3.block.3.1.running_var\", \"backbone.5.3.block.3.1.num_batches_tracked\", \"backbone.5.4.block.0.0.weight\", \"backbone.5.4.block.0.1.weight\", \"backbone.5.4.block.0.1.bias\", \"backbone.5.4.block.0.1.running_mean\", \"backbone.5.4.block.0.1.running_var\", \"backbone.5.4.block.0.1.num_batches_tracked\", \"backbone.5.4.block.1.0.weight\", \"backbone.5.4.block.1.1.weight\", \"backbone.5.4.block.1.1.bias\", \"backbone.5.4.block.1.1.running_mean\", \"backbone.5.4.block.1.1.running_var\", \"backbone.5.4.block.1.1.num_batches_tracked\", \"backbone.5.4.block.2.fc1.weight\", \"backbone.5.4.block.2.fc1.bias\", \"backbone.5.4.block.2.fc2.weight\", \"backbone.5.4.block.2.fc2.bias\", \"backbone.5.4.block.3.0.weight\", \"backbone.5.4.block.3.1.weight\", \"backbone.5.4.block.3.1.bias\", \"backbone.5.4.block.3.1.running_mean\", \"backbone.5.4.block.3.1.running_var\", \"backbone.5.4.block.3.1.num_batches_tracked\", \"backbone.5.5.block.0.0.weight\", \"backbone.5.5.block.0.1.weight\", \"backbone.5.5.block.0.1.bias\", \"backbone.5.5.block.0.1.running_mean\", \"backbone.5.5.block.0.1.running_var\", \"backbone.5.5.block.0.1.num_batches_tracked\", \"backbone.5.5.block.1.0.weight\", \"backbone.5.5.block.1.1.weight\", \"backbone.5.5.block.1.1.bias\", \"backbone.5.5.block.1.1.running_mean\", \"backbone.5.5.block.1.1.running_var\", \"backbone.5.5.block.1.1.num_batches_tracked\", \"backbone.5.5.block.2.fc1.weight\", \"backbone.5.5.block.2.fc1.bias\", \"backbone.5.5.block.2.fc2.weight\", \"backbone.5.5.block.2.fc2.bias\", \"backbone.5.5.block.3.0.weight\", \"backbone.5.5.block.3.1.weight\", \"backbone.5.5.block.3.1.bias\", \"backbone.5.5.block.3.1.running_mean\", \"backbone.5.5.block.3.1.running_var\", \"backbone.5.5.block.3.1.num_batches_tracked\", \"backbone.5.6.block.0.0.weight\", \"backbone.5.6.block.0.1.weight\", \"backbone.5.6.block.0.1.bias\", \"backbone.5.6.block.0.1.running_mean\", \"backbone.5.6.block.0.1.running_var\", \"backbone.5.6.block.0.1.num_batches_tracked\", \"backbone.5.6.block.1.0.weight\", \"backbone.5.6.block.1.1.weight\", \"backbone.5.6.block.1.1.bias\", \"backbone.5.6.block.1.1.running_mean\", \"backbone.5.6.block.1.1.running_var\", \"backbone.5.6.block.1.1.num_batches_tracked\", \"backbone.5.6.block.2.fc1.weight\", \"backbone.5.6.block.2.fc1.bias\", \"backbone.5.6.block.2.fc2.weight\", \"backbone.5.6.block.2.fc2.bias\", \"backbone.5.6.block.3.0.weight\", \"backbone.5.6.block.3.1.weight\", \"backbone.5.6.block.3.1.bias\", \"backbone.5.6.block.3.1.running_mean\", \"backbone.5.6.block.3.1.running_var\", \"backbone.5.6.block.3.1.num_batches_tracked\", \"backbone.5.7.block.0.0.weight\", \"backbone.5.7.block.0.1.weight\", \"backbone.5.7.block.0.1.bias\", \"backbone.5.7.block.0.1.running_mean\", \"backbone.5.7.block.0.1.running_var\", \"backbone.5.7.block.0.1.num_batches_tracked\", \"backbone.5.7.block.1.0.weight\", \"backbone.5.7.block.1.1.weight\", \"backbone.5.7.block.1.1.bias\", \"backbone.5.7.block.1.1.running_mean\", \"backbone.5.7.block.1.1.running_var\", \"backbone.5.7.block.1.1.num_batches_tracked\", \"backbone.5.7.block.2.fc1.weight\", \"backbone.5.7.block.2.fc1.bias\", \"backbone.5.7.block.2.fc2.weight\", \"backbone.5.7.block.2.fc2.bias\", \"backbone.5.7.block.3.0.weight\", \"backbone.5.7.block.3.1.weight\", \"backbone.5.7.block.3.1.bias\", \"backbone.5.7.block.3.1.running_mean\", \"backbone.5.7.block.3.1.running_var\", \"backbone.5.7.block.3.1.num_batches_tracked\", \"backbone.5.8.block.0.0.weight\", \"backbone.5.8.block.0.1.weight\", \"backbone.5.8.block.0.1.bias\", \"backbone.5.8.block.0.1.running_mean\", \"backbone.5.8.block.0.1.running_var\", \"backbone.5.8.block.0.1.num_batches_tracked\", \"backbone.5.8.block.1.0.weight\", \"backbone.5.8.block.1.1.weight\", \"backbone.5.8.block.1.1.bias\", \"backbone.5.8.block.1.1.running_mean\", \"backbone.5.8.block.1.1.running_var\", \"backbone.5.8.block.1.1.num_batches_tracked\", \"backbone.5.8.block.2.fc1.weight\", \"backbone.5.8.block.2.fc1.bias\", \"backbone.5.8.block.2.fc2.weight\", \"backbone.5.8.block.2.fc2.bias\", \"backbone.5.8.block.3.0.weight\", \"backbone.5.8.block.3.1.weight\", \"backbone.5.8.block.3.1.bias\", \"backbone.5.8.block.3.1.running_mean\", \"backbone.5.8.block.3.1.running_var\", \"backbone.5.8.block.3.1.num_batches_tracked\", \"backbone.5.0.block.0.0.weight\", \"backbone.5.0.block.0.1.weight\", \"backbone.5.0.block.0.1.bias\", \"backbone.5.0.block.0.1.running_mean\", \"backbone.5.0.block.0.1.running_var\", \"backbone.5.0.block.0.1.num_batches_tracked\", \"backbone.5.0.block.1.0.weight\", \"backbone.5.0.block.1.1.weight\", \"backbone.5.0.block.1.1.bias\", \"backbone.5.0.block.1.1.running_mean\", \"backbone.5.0.block.1.1.running_var\", \"backbone.5.0.block.1.1.num_batches_tracked\", \"backbone.5.0.block.2.fc1.weight\", \"backbone.5.0.block.2.fc1.bias\", \"backbone.5.0.block.2.fc2.weight\", \"backbone.5.0.block.2.fc2.bias\", \"backbone.5.0.block.3.0.weight\", \"backbone.5.0.block.3.1.weight\", \"backbone.5.0.block.3.1.bias\", \"backbone.5.0.block.3.1.running_mean\", \"backbone.5.0.block.3.1.running_var\", \"backbone.5.0.block.3.1.num_batches_tracked\", \"backbone.5.1.block.0.0.weight\", \"backbone.5.1.block.0.1.weight\", \"backbone.5.1.block.0.1.bias\", \"backbone.5.1.block.0.1.running_mean\", \"backbone.5.1.block.0.1.running_var\", \"backbone.5.1.block.0.1.num_batches_tracked\", \"backbone.5.1.block.1.0.weight\", \"backbone.5.1.block.1.1.weight\", \"backbone.5.1.block.1.1.bias\", \"backbone.5.1.block.1.1.running_mean\", \"backbone.5.1.block.1.1.running_var\", \"backbone.5.1.block.1.1.num_batches_tracked\", \"backbone.5.1.block.2.fc1.weight\", \"backbone.5.1.block.2.fc1.bias\", \"backbone.5.1.block.2.fc2.weight\", \"backbone.5.1.block.2.fc2.bias\", \"backbone.5.1.block.3.0.weight\", \"backbone.5.1.block.3.1.weight\", \"backbone.5.1.block.3.1.bias\", \"backbone.5.1.block.3.1.running_mean\", \"backbone.5.1.block.3.1.running_var\", \"backbone.5.1.block.3.1.num_batches_tracked\", \"backbone.6.2.block.0.0.weight\", \"backbone.6.2.block.0.1.weight\", \"backbone.6.2.block.0.1.bias\", \"backbone.6.2.block.0.1.running_mean\", \"backbone.6.2.block.0.1.running_var\", \"backbone.6.2.block.0.1.num_batches_tracked\", \"backbone.6.2.block.1.0.weight\", \"backbone.6.2.block.1.1.weight\", \"backbone.6.2.block.1.1.bias\", \"backbone.6.2.block.1.1.running_mean\", \"backbone.6.2.block.1.1.running_var\", \"backbone.6.2.block.1.1.num_batches_tracked\", \"backbone.6.2.block.2.fc1.weight\", \"backbone.6.2.block.2.fc1.bias\", \"backbone.6.2.block.2.fc2.weight\", \"backbone.6.2.block.2.fc2.bias\", \"backbone.6.2.block.3.0.weight\", \"backbone.6.2.block.3.1.weight\", \"backbone.6.2.block.3.1.bias\", \"backbone.6.2.block.3.1.running_mean\", \"backbone.6.2.block.3.1.running_var\", \"backbone.6.2.block.3.1.num_batches_tracked\", \"backbone.6.3.block.0.0.weight\", \"backbone.6.3.block.0.1.weight\", \"backbone.6.3.block.0.1.bias\", \"backbone.6.3.block.0.1.running_mean\", \"backbone.6.3.block.0.1.running_var\", \"backbone.6.3.block.0.1.num_batches_tracked\", \"backbone.6.3.block.1.0.weight\", \"backbone.6.3.block.1.1.weight\", \"backbone.6.3.block.1.1.bias\", \"backbone.6.3.block.1.1.running_mean\", \"backbone.6.3.block.1.1.running_var\", \"backbone.6.3.block.1.1.num_batches_tracked\", \"backbone.6.3.block.2.fc1.weight\", \"backbone.6.3.block.2.fc1.bias\", \"backbone.6.3.block.2.fc2.weight\", \"backbone.6.3.block.2.fc2.bias\", \"backbone.6.3.block.3.0.weight\", \"backbone.6.3.block.3.1.weight\", \"backbone.6.3.block.3.1.bias\", \"backbone.6.3.block.3.1.running_mean\", \"backbone.6.3.block.3.1.running_var\", \"backbone.6.3.block.3.1.num_batches_tracked\", \"backbone.6.4.block.0.0.weight\", \"backbone.6.4.block.0.1.weight\", \"backbone.6.4.block.0.1.bias\", \"backbone.6.4.block.0.1.running_mean\", \"backbone.6.4.block.0.1.running_var\", \"backbone.6.4.block.0.1.num_batches_tracked\", \"backbone.6.4.block.1.0.weight\", \"backbone.6.4.block.1.1.weight\", \"backbone.6.4.block.1.1.bias\", \"backbone.6.4.block.1.1.running_mean\", \"backbone.6.4.block.1.1.running_var\", \"backbone.6.4.block.1.1.num_batches_tracked\", \"backbone.6.4.block.2.fc1.weight\", \"backbone.6.4.block.2.fc1.bias\", \"backbone.6.4.block.2.fc2.weight\", \"backbone.6.4.block.2.fc2.bias\", \"backbone.6.4.block.3.0.weight\", \"backbone.6.4.block.3.1.weight\", \"backbone.6.4.block.3.1.bias\", \"backbone.6.4.block.3.1.running_mean\", \"backbone.6.4.block.3.1.running_var\", \"backbone.6.4.block.3.1.num_batches_tracked\", \"backbone.6.5.block.0.0.weight\", \"backbone.6.5.block.0.1.weight\", \"backbone.6.5.block.0.1.bias\", \"backbone.6.5.block.0.1.running_mean\", \"backbone.6.5.block.0.1.running_var\", \"backbone.6.5.block.0.1.num_batches_tracked\", \"backbone.6.5.block.1.0.weight\", \"backbone.6.5.block.1.1.weight\", \"backbone.6.5.block.1.1.bias\", \"backbone.6.5.block.1.1.running_mean\", \"backbone.6.5.block.1.1.running_var\", \"backbone.6.5.block.1.1.num_batches_tracked\", \"backbone.6.5.block.2.fc1.weight\", \"backbone.6.5.block.2.fc1.bias\", \"backbone.6.5.block.2.fc2.weight\", \"backbone.6.5.block.2.fc2.bias\", \"backbone.6.5.block.3.0.weight\", \"backbone.6.5.block.3.1.weight\", \"backbone.6.5.block.3.1.bias\", \"backbone.6.5.block.3.1.running_mean\", \"backbone.6.5.block.3.1.running_var\", \"backbone.6.5.block.3.1.num_batches_tracked\", \"backbone.6.6.block.0.0.weight\", \"backbone.6.6.block.0.1.weight\", \"backbone.6.6.block.0.1.bias\", \"backbone.6.6.block.0.1.running_mean\", \"backbone.6.6.block.0.1.running_var\", \"backbone.6.6.block.0.1.num_batches_tracked\", \"backbone.6.6.block.1.0.weight\", \"backbone.6.6.block.1.1.weight\", \"backbone.6.6.block.1.1.bias\", \"backbone.6.6.block.1.1.running_mean\", \"backbone.6.6.block.1.1.running_var\", \"backbone.6.6.block.1.1.num_batches_tracked\", \"backbone.6.6.block.2.fc1.weight\", \"backbone.6.6.block.2.fc1.bias\", \"backbone.6.6.block.2.fc2.weight\", \"backbone.6.6.block.2.fc2.bias\", \"backbone.6.6.block.3.0.weight\", \"backbone.6.6.block.3.1.weight\", \"backbone.6.6.block.3.1.bias\", \"backbone.6.6.block.3.1.running_mean\", \"backbone.6.6.block.3.1.running_var\", \"backbone.6.6.block.3.1.num_batches_tracked\", \"backbone.6.7.block.0.0.weight\", \"backbone.6.7.block.0.1.weight\", \"backbone.6.7.block.0.1.bias\", \"backbone.6.7.block.0.1.running_mean\", \"backbone.6.7.block.0.1.running_var\", \"backbone.6.7.block.0.1.num_batches_tracked\", \"backbone.6.7.block.1.0.weight\", \"backbone.6.7.block.1.1.weight\", \"backbone.6.7.block.1.1.bias\", \"backbone.6.7.block.1.1.running_mean\", \"backbone.6.7.block.1.1.running_var\", \"backbone.6.7.block.1.1.num_batches_tracked\", \"backbone.6.7.block.2.fc1.weight\", \"backbone.6.7.block.2.fc1.bias\", \"backbone.6.7.block.2.fc2.weight\", \"backbone.6.7.block.2.fc2.bias\", \"backbone.6.7.block.3.0.weight\", \"backbone.6.7.block.3.1.weight\", \"backbone.6.7.block.3.1.bias\", \"backbone.6.7.block.3.1.running_mean\", \"backbone.6.7.block.3.1.running_var\", \"backbone.6.7.block.3.1.num_batches_tracked\", \"backbone.6.8.block.0.0.weight\", \"backbone.6.8.block.0.1.weight\", \"backbone.6.8.block.0.1.bias\", \"backbone.6.8.block.0.1.running_mean\", \"backbone.6.8.block.0.1.running_var\", \"backbone.6.8.block.0.1.num_batches_tracked\", \"backbone.6.8.block.1.0.weight\", \"backbone.6.8.block.1.1.weight\", \"backbone.6.8.block.1.1.bias\", \"backbone.6.8.block.1.1.running_mean\", \"backbone.6.8.block.1.1.running_var\", \"backbone.6.8.block.1.1.num_batches_tracked\", \"backbone.6.8.block.2.fc1.weight\", \"backbone.6.8.block.2.fc1.bias\", \"backbone.6.8.block.2.fc2.weight\", \"backbone.6.8.block.2.fc2.bias\", \"backbone.6.8.block.3.0.weight\", \"backbone.6.8.block.3.1.weight\", \"backbone.6.8.block.3.1.bias\", \"backbone.6.8.block.3.1.running_mean\", \"backbone.6.8.block.3.1.running_var\", \"backbone.6.8.block.3.1.num_batches_tracked\", \"backbone.6.9.block.0.0.weight\", \"backbone.6.9.block.0.1.weight\", \"backbone.6.9.block.0.1.bias\", \"backbone.6.9.block.0.1.running_mean\", \"backbone.6.9.block.0.1.running_var\", \"backbone.6.9.block.0.1.num_batches_tracked\", \"backbone.6.9.block.1.0.weight\", \"backbone.6.9.block.1.1.weight\", \"backbone.6.9.block.1.1.bias\", \"backbone.6.9.block.1.1.running_mean\", \"backbone.6.9.block.1.1.running_var\", \"backbone.6.9.block.1.1.num_batches_tracked\", \"backbone.6.9.block.2.fc1.weight\", \"backbone.6.9.block.2.fc1.bias\", \"backbone.6.9.block.2.fc2.weight\", \"backbone.6.9.block.2.fc2.bias\", \"backbone.6.9.block.3.0.weight\", \"backbone.6.9.block.3.1.weight\", \"backbone.6.9.block.3.1.bias\", \"backbone.6.9.block.3.1.running_mean\", \"backbone.6.9.block.3.1.running_var\", \"backbone.6.9.block.3.1.num_batches_tracked\", \"backbone.6.10.block.0.0.weight\", \"backbone.6.10.block.0.1.weight\", \"backbone.6.10.block.0.1.bias\", \"backbone.6.10.block.0.1.running_mean\", \"backbone.6.10.block.0.1.running_var\", \"backbone.6.10.block.0.1.num_batches_tracked\", \"backbone.6.10.block.1.0.weight\", \"backbone.6.10.block.1.1.weight\", \"backbone.6.10.block.1.1.bias\", \"backbone.6.10.block.1.1.running_mean\", \"backbone.6.10.block.1.1.running_var\", \"backbone.6.10.block.1.1.num_batches_tracked\", \"backbone.6.10.block.2.fc1.weight\", \"backbone.6.10.block.2.fc1.bias\", \"backbone.6.10.block.2.fc2.weight\", \"backbone.6.10.block.2.fc2.bias\", \"backbone.6.10.block.3.0.weight\", \"backbone.6.10.block.3.1.weight\", \"backbone.6.10.block.3.1.bias\", \"backbone.6.10.block.3.1.running_mean\", \"backbone.6.10.block.3.1.running_var\", \"backbone.6.10.block.3.1.num_batches_tracked\", \"backbone.6.11.block.0.0.weight\", \"backbone.6.11.block.0.1.weight\", \"backbone.6.11.block.0.1.bias\", \"backbone.6.11.block.0.1.running_mean\", \"backbone.6.11.block.0.1.running_var\", \"backbone.6.11.block.0.1.num_batches_tracked\", \"backbone.6.11.block.1.0.weight\", \"backbone.6.11.block.1.1.weight\", \"backbone.6.11.block.1.1.bias\", \"backbone.6.11.block.1.1.running_mean\", \"backbone.6.11.block.1.1.running_var\", \"backbone.6.11.block.1.1.num_batches_tracked\", \"backbone.6.11.block.2.fc1.weight\", \"backbone.6.11.block.2.fc1.bias\", \"backbone.6.11.block.2.fc2.weight\", \"backbone.6.11.block.2.fc2.bias\", \"backbone.6.11.block.3.0.weight\", \"backbone.6.11.block.3.1.weight\", \"backbone.6.11.block.3.1.bias\", \"backbone.6.11.block.3.1.running_mean\", \"backbone.6.11.block.3.1.running_var\", \"backbone.6.11.block.3.1.num_batches_tracked\", \"backbone.6.12.block.0.0.weight\", \"backbone.6.12.block.0.1.weight\", \"backbone.6.12.block.0.1.bias\", \"backbone.6.12.block.0.1.running_mean\", \"backbone.6.12.block.0.1.running_var\", \"backbone.6.12.block.0.1.num_batches_tracked\", \"backbone.6.12.block.1.0.weight\", \"backbone.6.12.block.1.1.weight\", \"backbone.6.12.block.1.1.bias\", \"backbone.6.12.block.1.1.running_mean\", \"backbone.6.12.block.1.1.running_var\", \"backbone.6.12.block.1.1.num_batches_tracked\", \"backbone.6.12.block.2.fc1.weight\", \"backbone.6.12.block.2.fc1.bias\", \"backbone.6.12.block.2.fc2.weight\", \"backbone.6.12.block.2.fc2.bias\", \"backbone.6.12.block.3.0.weight\", \"backbone.6.12.block.3.1.weight\", \"backbone.6.12.block.3.1.bias\", \"backbone.6.12.block.3.1.running_mean\", \"backbone.6.12.block.3.1.running_var\", \"backbone.6.12.block.3.1.num_batches_tracked\", \"backbone.6.13.block.0.0.weight\", \"backbone.6.13.block.0.1.weight\", \"backbone.6.13.block.0.1.bias\", \"backbone.6.13.block.0.1.running_mean\", \"backbone.6.13.block.0.1.running_var\", \"backbone.6.13.block.0.1.num_batches_tracked\", \"backbone.6.13.block.1.0.weight\", \"backbone.6.13.block.1.1.weight\", \"backbone.6.13.block.1.1.bias\", \"backbone.6.13.block.1.1.running_mean\", \"backbone.6.13.block.1.1.running_var\", \"backbone.6.13.block.1.1.num_batches_tracked\", \"backbone.6.13.block.2.fc1.weight\", \"backbone.6.13.block.2.fc1.bias\", \"backbone.6.13.block.2.fc2.weight\", \"backbone.6.13.block.2.fc2.bias\", \"backbone.6.13.block.3.0.weight\", \"backbone.6.13.block.3.1.weight\", \"backbone.6.13.block.3.1.bias\", \"backbone.6.13.block.3.1.running_mean\", \"backbone.6.13.block.3.1.running_var\", \"backbone.6.13.block.3.1.num_batches_tracked\", \"backbone.6.14.block.0.0.weight\", \"backbone.6.14.block.0.1.weight\", \"backbone.6.14.block.0.1.bias\", \"backbone.6.14.block.0.1.running_mean\", \"backbone.6.14.block.0.1.running_var\", \"backbone.6.14.block.0.1.num_batches_tracked\", \"backbone.6.14.block.1.0.weight\", \"backbone.6.14.block.1.1.weight\", \"backbone.6.14.block.1.1.bias\", \"backbone.6.14.block.1.1.running_mean\", \"backbone.6.14.block.1.1.running_var\", \"backbone.6.14.block.1.1.num_batches_tracked\", \"backbone.6.14.block.2.fc1.weight\", \"backbone.6.14.block.2.fc1.bias\", \"backbone.6.14.block.2.fc2.weight\", \"backbone.6.14.block.2.fc2.bias\", \"backbone.6.14.block.3.0.weight\", \"backbone.6.14.block.3.1.weight\", \"backbone.6.14.block.3.1.bias\", \"backbone.6.14.block.3.1.running_mean\", \"backbone.6.14.block.3.1.running_var\", \"backbone.6.14.block.3.1.num_batches_tracked\", \"backbone.6.0.block.0.0.weight\", \"backbone.6.0.block.0.1.weight\", \"backbone.6.0.block.0.1.bias\", \"backbone.6.0.block.0.1.running_mean\", \"backbone.6.0.block.0.1.running_var\", \"backbone.6.0.block.0.1.num_batches_tracked\", \"backbone.6.0.block.1.0.weight\", \"backbone.6.0.block.1.1.weight\", \"backbone.6.0.block.1.1.bias\", \"backbone.6.0.block.1.1.running_mean\", \"backbone.6.0.block.1.1.running_var\", \"backbone.6.0.block.1.1.num_batches_tracked\", \"backbone.6.0.block.2.fc1.weight\", \"backbone.6.0.block.2.fc1.bias\", \"backbone.6.0.block.2.fc2.weight\", \"backbone.6.0.block.2.fc2.bias\", \"backbone.6.0.block.3.0.weight\", \"backbone.6.0.block.3.1.weight\", \"backbone.6.0.block.3.1.bias\", \"backbone.6.0.block.3.1.running_mean\", \"backbone.6.0.block.3.1.running_var\", \"backbone.6.0.block.3.1.num_batches_tracked\", \"backbone.6.1.block.0.0.weight\", \"backbone.6.1.block.0.1.weight\", \"backbone.6.1.block.0.1.bias\", \"backbone.6.1.block.0.1.running_mean\", \"backbone.6.1.block.0.1.running_var\", \"backbone.6.1.block.0.1.num_batches_tracked\", \"backbone.6.1.block.1.0.weight\", \"backbone.6.1.block.1.1.weight\", \"backbone.6.1.block.1.1.bias\", \"backbone.6.1.block.1.1.running_mean\", \"backbone.6.1.block.1.1.running_var\", \"backbone.6.1.block.1.1.num_batches_tracked\", \"backbone.6.1.block.2.fc1.weight\", \"backbone.6.1.block.2.fc1.bias\", \"backbone.6.1.block.2.fc2.weight\", \"backbone.6.1.block.2.fc2.bias\", \"backbone.6.1.block.3.0.weight\", \"backbone.6.1.block.3.1.weight\", \"backbone.6.1.block.3.1.bias\", \"backbone.6.1.block.3.1.running_mean\", \"backbone.6.1.block.3.1.running_var\", \"backbone.6.1.block.3.1.num_batches_tracked\", \"backbone.7.0.weight\", \"backbone.7.1.weight\", \"backbone.7.1.bias\", \"backbone.7.1.running_mean\", \"backbone.7.1.running_var\", \"backbone.7.1.num_batches_tracked\". \n",
            "\tsize mismatch for aggregation.3.weight: copying a param with shape torch.Size([512, 1280]) from checkpoint, the shape in current model is torch.Size([512, 512]).\n",
            "\n",
            "2023-02-05 06:36:32   Experiment finished (with some errors)\n"
          ]
        }
      ]
    },
    {
      "cell_type": "markdown",
      "source": [
        "# Step 4: Ensemble"
      ],
      "metadata": {
        "id": "P30k-Qy-XuGX"
      }
    },
    {
      "cell_type": "markdown",
      "source": [
        "To improve the recalls we try to concatenate the descriptors obtained with different models (ensemble)."
      ],
      "metadata": {
        "id": "aQeE9OUhXwSu"
      }
    },
    {
      "cell_type": "markdown",
      "source": [
        "Before testing, check that there are these files:\n",
        "- model_ensembler.py (in network)\n",
        "- modify network.py\n",
        "- evalEnsembler.py\n"
      ],
      "metadata": {
        "id": "KhGDUXS4YXb1"
      }
    },
    {
      "cell_type": "code",
      "source": [
        "# download code of CosPlace\n",
        "!git clone \"https://github.com/gmberton/CosPlace\" \n",
        "#!rm -r \"/content/CosPlace\""
      ],
      "metadata": {
        "colab": {
          "base_uri": "https://localhost:8080/"
        },
        "id": "ZW7h08MQXwtE",
        "outputId": "7ad62dba-340a-4909-df4a-db446b0d52e6"
      },
      "execution_count": null,
      "outputs": [
        {
          "output_type": "stream",
          "name": "stdout",
          "text": [
            "Cloning into 'CosPlace'...\n",
            "remote: Enumerating objects: 203, done.\u001b[K\n",
            "remote: Total 203 (delta 0), reused 0 (delta 0), pack-reused 203\u001b[K\n",
            "Receiving objects: 100% (203/203), 51.91 KiB | 6.49 MiB/s, done.\n",
            "Resolving deltas: 100% (112/112), done.\n"
          ]
        }
      ]
    },
    {
      "cell_type": "markdown",
      "source": [
        "Might be useless"
      ],
      "metadata": {
        "id": "S4TA_2R_b3eH"
      }
    },
    {
      "cell_type": "code",
      "source": [
        "import os\n",
        "import sys\n",
        "import torch\n",
        "import logging\n",
        "import multiprocessing\n",
        "import numpy as np\n",
        "from tqdm import tqdm\n",
        "from datetime import datetime\n",
        "\n",
        "sys.path.append(\"/content/CosPlace/\")\n",
        "import CosPlace\n",
        "from CosPlace import *\n",
        "\n",
        "torch.backends.cudnn.benchmark = True  # Provides a speedup"
      ],
      "metadata": {
        "id": "YhM5dSr4b29A"
      },
      "execution_count": null,
      "outputs": []
    },
    {
      "cell_type": "markdown",
      "source": [
        "## Method 1 (model soup)"
      ],
      "metadata": {
        "id": "w8PkoLFC7as9"
      }
    },
    {
      "cell_type": "markdown",
      "source": [
        "### sf-xs "
      ],
      "metadata": {
        "id": "yVJMyrtMBT3d"
      }
    },
    {
      "cell_type": "markdown",
      "source": [
        "Results 03/02/2023 \n",
        "\n",
        "Potential greedy soup val acc 52.0, best so far 51.0.\n"
      ],
      "metadata": {
        "id": "buYCvFAiBXpY"
      }
    },
    {
      "cell_type": "code",
      "source": [
        "!cp -r /content/tokyo_xs/test/database /content/tokyo-night"
      ],
      "metadata": {
        "id": "y4f8AH5OJ0CV"
      },
      "execution_count": null,
      "outputs": []
    },
    {
      "cell_type": "code",
      "source": [
        "#Modificare cartella in base al test\n",
        "!python /content/evalEnsembler.py --dataset_folder /content/small/"
      ],
      "metadata": {
        "colab": {
          "base_uri": "https://localhost:8080/"
        },
        "id": "6-x5M-R2cHUo",
        "outputId": "e35855b7-fe5a-4253-8656-855e9c773d41"
      },
      "execution_count": null,
      "outputs": [
        {
          "output_type": "stream",
          "name": "stdout",
          "text": [
            "Traceback (most recent call last):\n",
            "  File \"/content/evalEnsembler.py\", line 75, in <module>\n",
            "    parser = parser.ArgumentParser()\n",
            "AttributeError: module 'parser' has no attribute 'ArgumentParser'\n"
          ]
        }
      ]
    },
    {
      "cell_type": "markdown",
      "source": [
        "### Tokyo xs"
      ],
      "metadata": {
        "id": "2jmEvT4WBcU6"
      }
    },
    {
      "cell_type": "markdown",
      "source": [
        "Results 03/02/2023\n",
        "\n",
        "Potential greedy soup val acc 67.3015873015873, best so far 68.25396825396825."
      ],
      "metadata": {
        "id": "IX24ZSzaBd8U"
      }
    },
    {
      "cell_type": "code",
      "source": [
        "#Modificare cartella in base al test\n",
        "!python /content/evalEnsembler.py --dataset_folder /content/tokyo_xs"
      ],
      "metadata": {
        "colab": {
          "base_uri": "https://localhost:8080/"
        },
        "id": "MVq8rPQn4L5s",
        "outputId": "12bc5da3-c802-43f1-f039-f496d04b60fd"
      },
      "execution_count": null,
      "outputs": [
        {
          "output_type": "stream",
          "name": "stdout",
          "text": [
            "/usr/local/lib/python3.8/dist-packages/torch/utils/data/dataloader.py:554: UserWarning: This DataLoader will create 8 worker processes in total. Our suggested max number of worker in current system is 2, which is smaller than what this DataLoader is going to create. Please be aware that excessive worker creation might get DataLoader running slow or even freeze, lower the worker number to avoid potential slowness/freeze if necessary.\n",
            "  warnings.warn(_create_warning_msg(\n",
            "100%|█████████████████████████████████████████████████████████████| 799/799 [02:02<00:00,  6.50it/s]\n",
            "100%|█████████████████████████████████████████████████████████████| 315/315 [00:06<00:00, 47.02it/s]\n",
            "Potential greedy soup val acc 68.25396825396825, best so far 1.2.\n",
            "Adding to soup.\n",
            "100%|█████████████████████████████████████████████████████████████| 799/799 [01:56<00:00,  6.84it/s]\n",
            "100%|█████████████████████████████████████████████████████████████| 315/315 [00:04<00:00, 68.26it/s]\n",
            "Potential greedy soup val acc 67.3015873015873, best so far 68.25396825396825.\n"
          ]
        }
      ]
    },
    {
      "cell_type": "markdown",
      "source": [
        "### Tokyo night"
      ],
      "metadata": {
        "id": "4d1GXiRABjy3"
      }
    },
    {
      "cell_type": "markdown",
      "source": [
        "Results 03/02/2023\n",
        "\n",
        "Potential greedy soup val acc 47.61904761904761, best so far 45.714285714285715."
      ],
      "metadata": {
        "id": "vlktjQwNBlkC"
      }
    },
    {
      "cell_type": "code",
      "source": [
        "#Modificare cartella in base al test\n",
        "!python /content/evalEnsembler.py --dataset_folder /content/tokyo-night"
      ],
      "metadata": {
        "colab": {
          "base_uri": "https://localhost:8080/"
        },
        "id": "dzzd3NgO5Ub3",
        "outputId": "ac529f7a-388d-4ee7-81a2-c00ab3adf335"
      },
      "execution_count": null,
      "outputs": [
        {
          "output_type": "stream",
          "name": "stdout",
          "text": [
            "/usr/local/lib/python3.8/dist-packages/torch/utils/data/dataloader.py:554: UserWarning: This DataLoader will create 8 worker processes in total. Our suggested max number of worker in current system is 2, which is smaller than what this DataLoader is going to create. Please be aware that excessive worker creation might get DataLoader running slow or even freeze, lower the worker number to avoid potential slowness/freeze if necessary.\n",
            "  warnings.warn(_create_warning_msg(\n",
            "100%|█████████████████████████████████████████████████████████████| 799/799 [02:03<00:00,  6.45it/s]\n",
            "100%|█████████████████████████████████████████████████████████████| 105/105 [00:02<00:00, 49.28it/s]\n",
            "Potential greedy soup val acc 45.714285714285715, best so far 1.2.\n",
            "Adding to soup.\n",
            "100%|█████████████████████████████████████████████████████████████| 799/799 [01:57<00:00,  6.79it/s]\n",
            "100%|█████████████████████████████████████████████████████████████| 105/105 [00:02<00:00, 36.33it/s]\n",
            "Potential greedy soup val acc 47.61904761904761, best so far 45.714285714285715.\n",
            "Adding to soup.\n"
          ]
        }
      ]
    },
    {
      "cell_type": "markdown",
      "source": [
        "## Method 2 (ensemble)"
      ],
      "metadata": {
        "id": "twPkItbR7dJw"
      }
    },
    {
      "cell_type": "markdown",
      "source": [
        "- evalensemble2.py needs to be added\n"
      ],
      "metadata": {
        "id": "ZPrn9m_57gBN"
      }
    },
    {
      "cell_type": "code",
      "source": [
        "# download code of CosPlace\n",
        "!git clone \"https://github.com/gmberton/CosPlace\" \n",
        "#!rm -r \"/content/CosPlace\""
      ],
      "metadata": {
        "id": "4UCuF16hAeUy"
      },
      "execution_count": null,
      "outputs": []
    },
    {
      "cell_type": "markdown",
      "source": [
        "### sf-xs, tokyo xs, tokyo night"
      ],
      "metadata": {
        "id": "UYrQa4avB5av"
      }
    },
    {
      "cell_type": "markdown",
      "source": [
        "Results 03/02/2023\n",
        "\n",
        "sf-xs: R@1: 35.6, R@5: 47.7, R@10: 54.1, R@20: 59.0\n",
        "\n",
        "tokyo xs: R@1: 43.2, R@5: 61.9, R@10: 68.9, R@20: 78.7\n",
        "\n",
        "tokyo night: R@1: 35.2, R@5: 53.3, R@10: 62.9, R@20: 68.6\n",
        "\n",
        "Arcface+cosplace+sphereface"
      ],
      "metadata": {
        "id": "qC3OI4JIB7oQ"
      }
    },
    {
      "cell_type": "code",
      "source": [
        "!python /content/evalensemble2.py --dataset_folder /content/small"
      ],
      "metadata": {
        "colab": {
          "base_uri": "https://localhost:8080/"
        },
        "id": "972VMxA0CIwx",
        "outputId": "da99bd4b-2809-474b-d93d-613100facab1"
      },
      "execution_count": null,
      "outputs": [
        {
          "output_type": "stream",
          "name": "stdout",
          "text": [
            "/usr/local/lib/python3.8/dist-packages/torch/utils/data/dataloader.py:554: UserWarning: This DataLoader will create 8 worker processes in total. Our suggested max number of worker in current system is 2, which is smaller than what this DataLoader is going to create. Please be aware that excessive worker creation might get DataLoader running slow or even freeze, lower the worker number to avoid potential slowness/freeze if necessary.\n",
            "  warnings.warn(_create_warning_msg(\n",
            "100%|███████████████████████████████████████████████████████████| 1700/1700 [06:00<00:00,  4.72it/s]\n",
            "100%|███████████████████████████████████████████████████████████| 1000/1000 [00:29<00:00, 33.61it/s]\n",
            "R@1: 35.6, R@5: 47.7, R@10: 54.1, R@20: 59.0\n",
            "Traceback (most recent call last):\n",
            "  File \"/content/evalensemble2.py\", line 63, in <module>\n",
            "    test_ds = TestDataset(test_set_folder, queries_folder=\"queries_v1\",\n",
            "  File \"/content/datasets/test_dataset.py\", line 113, in __init__\n",
            "    raise FileNotFoundError(f\"Folder {self.queries_folder} does not exist\")\n",
            "FileNotFoundError: Folder /content/tokyo_xs/test/queries_v1 does not exist\n"
          ]
        }
      ]
    },
    {
      "cell_type": "markdown",
      "source": [
        "# Step 4: Multi scale"
      ],
      "metadata": {
        "id": "GKpEYf8hAz5C"
      }
    },
    {
      "cell_type": "markdown",
      "source": [
        "- test.py modified\n",
        "\n",
        "\n",
        "\n",
        "```\n",
        "\n",
        "import faiss\n",
        "import torch\n",
        "import logging\n",
        "import numpy as np\n",
        "from tqdm import tqdm\n",
        "from typing import Tuple\n",
        "from argparse import Namespace\n",
        "from torch.utils.data.dataset import Subset\n",
        "from torch.utils.data import DataLoader, Dataset\n",
        "import torchvision.transforms as transforms\n",
        "from PIL import Image\n",
        "from dataset_warp import compute_warping\n",
        "\n",
        "\n",
        "# Compute R@1, R@5, R@10, R@20\n",
        "RECALL_VALUES = [1, 5, 10, 20]\n",
        "\n",
        "\n",
        "def test(args: Namespace, eval_ds: Dataset, model: torch.nn.Module) -> Tuple[np.ndarray, str]:\n",
        "    \"\"\"Compute descriptors of the given dataset and compute the recalls.\"\"\"\n",
        "    \n",
        "    model = model.eval()\n",
        "    if args.multi_scale:\n",
        "        logging.info(f\"Test with multi-scale, the multi-scale method is: {args.multi_scale_method}\")\n",
        "    with torch.no_grad():\n",
        "        logging.debug(\"Extracting database descriptors for evaluation/testing\")\n",
        "        database_subset_ds = Subset(eval_ds, list(range(eval_ds.database_num)))\n",
        "        database_dataloader = DataLoader(dataset=database_subset_ds, num_workers=args.num_workers,\n",
        "                                         batch_size=args.infer_batch_size, pin_memory=(args.device == \"cuda\"))\n",
        "        all_descriptors = np.empty((len(eval_ds), args.fc_output_dim), dtype=\"float32\")\n",
        "        for images, indices in tqdm(database_dataloader, ncols=100):\n",
        "            descriptors = model(images.to(args.device))\n",
        "            descriptors = descriptors.cpu().numpy()\n",
        "            all_descriptors[indices.numpy(), :] = descriptors\n",
        "        \n",
        "        logging.debug(\"Extracting queries descriptors for evaluation/testing using batch size 1\")\n",
        "        queries_infer_batch_size = 1\n",
        "        queries_subset_ds = Subset(eval_ds, list(range(eval_ds.database_num, eval_ds.database_num+eval_ds.queries_num)))\n",
        "        queries_dataloader = DataLoader(dataset=queries_subset_ds, num_workers=args.num_workers,\n",
        "                                        batch_size=queries_infer_batch_size, pin_memory=(args.device == \"cuda\"))\n",
        "        for images, indices in tqdm(queries_dataloader, ncols=100):\n",
        "            #descriptors = model(images.to(args.device))\n",
        "            \n",
        "            #\n",
        "            if args.multi_scale and args.multi_scale_method == 'avg':\n",
        "                H = args.resize[0]\n",
        "                W = args.resize[1]\n",
        "                HxW = args.resize   \n",
        "                original = images \n",
        "                # create the resolution lists \n",
        "                H_list = [int(H/i) for i in args.select_resolutions]             \n",
        "                W_list = [int(W/i) for i in args.select_resolutions]\n",
        "                \n",
        "                multi_scale = []\n",
        "                for i, j in zip(H_list, W_list):\n",
        "                    size = (i, j)                                                   # size resolution of the resize\n",
        "                    tra = torch.nn.Sequential(transforms.Resize(size))              # creating the transformation \n",
        "                    tra2 = torch.nn.Sequential(transforms.Resize(HxW))\n",
        "                    tmp_query = tra(original)                                       # transforming the img\n",
        "                    img = tra2(tmp_query)\n",
        "                    descriptors = model(img.to(args.device))\n",
        "                    multi_scale.append(descriptors)\n",
        "                feature = torch.stack(multi_scale, -1)\n",
        "                descriptors = torch.mean(feature.type(torch.float32), dim=-1)\n",
        "            \n",
        "            elif args.multi_scale and args.multi_scale_method == 'sum':\n",
        "                H = args.resize[0]\n",
        "                W = args.resize[1]\n",
        "                HxW = args.resize   \n",
        "                original = images \n",
        "                # create the resolution lists \n",
        "                H_list = [int(H/i) for i in args.select_resolutions]             \n",
        "                W_list = [int(W/i) for i in args.select_resolutions]\n",
        "                \n",
        "                multi_scale = []\n",
        "                for i, j in zip(H_list, W_list):\n",
        "                    size = (i, j)                                                   # size resolution of the resize\n",
        "                    tra = torch.nn.Sequential(transforms.Resize(size))              # creating the transformation \n",
        "                    tra2 = torch.nn.Sequential(transforms.Resize(HxW))\n",
        "                    tmp_query = tra(original)                                       # transforming the img\n",
        "                    img = tra2(tmp_query)\n",
        "                    feature_ms = model(img.to(args.device))\n",
        "                    multi_scale.append(feature_ms)\n",
        "                feature = torch.stack(multi_scale, -1)\n",
        "                descriptors = torch.sum(feature.type(torch.float32), dim=-1)\n",
        "            elif args.multi_scale and args.multi_scale_method == 'max':\n",
        "                H = args.resize[0]\n",
        "                W = args.resize[1]\n",
        "                HxW = args.resize   \n",
        "                original = images \n",
        "                # create the resolution lists \n",
        "                H_list = [int(H/i) for i in args.select_resolutions]             \n",
        "                W_list = [int(W/i) for i in args.select_resolutions]\n",
        "                \n",
        "                multi_scale = []\n",
        "                for i, j in zip(H_list, W_list):\n",
        "                    size = (i, j)                                                   # size resolution of the resize\n",
        "                    tra = torch.nn.Sequential(transforms.Resize(size))              # creating the transformation \n",
        "                    tra2 = torch.nn.Sequential(transforms.Resize(HxW))\n",
        "                    tmp_query = tra(original)                                       # transforming the img\n",
        "                    img = tra2(tmp_query)\n",
        "                    feature_ms = model(img.to(args.device))\n",
        "                    multi_scale.append(feature_ms)\n",
        "                feature = torch.stack(multi_scale, -1)\n",
        "                descriptors, max_index = torch.max(feature.type(torch.float32), dim=-1)\n",
        "                del max_index\n",
        "            elif args.multi_scale and args.multi_scale_method == 'min':\n",
        "                H = args.resize[0]\n",
        "                W = args.resize[1]\n",
        "                HxW = args.resize   \n",
        "                original = images\n",
        "                # create the resolution lists \n",
        "                H_list = [int(H/i) for i in args.select_resolutions]             \n",
        "                W_list = [int(W/i) for i in args.select_resolutions]\n",
        "                \n",
        "                multi_scale = []\n",
        "                for i, j in zip(H_list, W_list):\n",
        "                    size = (i, j)                                                   # size resolution of the resize\n",
        "                    tra = torch.nn.Sequential(transforms.Resize(size))              # creating the transformation \n",
        "                    tra2 = torch.nn.Sequential(transforms.Resize(HxW))\n",
        "                    tmp_query = tra(original)                                       # transforming the img\n",
        "                    img = tra2(tmp_query)\n",
        "                    feature_ms = model(img.to(args.device))\n",
        "                    multi_scale.append(feature_ms)\n",
        "                feature = torch.stack(multi_scale, -1)\n",
        "                descriptors, min_index = torch.min(feature.type(torch.float32), dim=-1)\n",
        "                del min_index\n",
        "            else:\n",
        "                descriptor = model(images.to(args.device))\n",
        "            descriptors = descriptors.cpu().numpy()\n",
        "            all_descriptors[indices.numpy(), :] = descriptors\n",
        "    queries_descriptors = all_descriptors[eval_ds.database_num:]\n",
        "    database_descriptors = all_descriptors[:eval_ds.database_num]\n",
        "    \n",
        "    # Use a kNN to find predictions\n",
        "    faiss_index = faiss.IndexFlatL2(args.fc_output_dim)\n",
        "    faiss_index.add(database_descriptors)\n",
        "    del database_descriptors, all_descriptors\n",
        "    \n",
        "    logging.debug(\"Calculating recalls\")\n",
        "    _, predictions = faiss_index.search(queries_descriptors, max(RECALL_VALUES))\n",
        "    \n",
        "    #### For each query, check if the predictions are correct\n",
        "    positives_per_query = eval_ds.get_positives()\n",
        "    recalls = np.zeros(len(RECALL_VALUES))\n",
        "    for query_index, preds in enumerate(predictions):\n",
        "        for i, n in enumerate(RECALL_VALUES):\n",
        "            if np.any(np.in1d(preds[:n], positives_per_query[query_index])):\n",
        "                recalls[i:] += 1\n",
        "                break\n",
        "    # Divide by queries_num and multiply by 100, so the recalls are in percentages\n",
        "    recalls = recalls / eval_ds.queries_num * 100\n",
        "    recalls_str = \", \".join([f\"R@{val}: {rec:.1f}\" for val, rec in zip(RECALL_VALUES, recalls)])\n",
        "    return recalls, recalls_str\n",
        "\n",
        "\n",
        "# test usato per calcolare recall e recall_str è uguale a quello sopra, solo che la rete è diversa quindi devo chiamre il model diversamente\n",
        "def use_geowarp(args: Namespace, eval_ds: Dataset, model: torch.nn.Module):\n",
        "    \"\"\"Compute descriptors of the given dataset and compute the recalls.\"\"\"\n",
        "    \n",
        "    model = model.eval()                                                        # si mette il modello in evaluation mode\n",
        "    with torch.no_grad():                                                       # all'interno del ciclo, il gradient è disabilitato (requires_grad=False)\n",
        "        logging.debug(\"Extracting database descriptors for evaluation/testing\")\n",
        "        database_subset_ds = Subset(eval_ds, list(range(eval_ds.database_num)))                       # subset del dataset da valutare non considerando le immagini di query\n",
        "        database_dataloader = DataLoader(dataset=database_subset_ds, num_workers=args.num_workers,\n",
        "                                         batch_size=args.infer_batch_size, pin_memory=(args.device == \"cuda\"))    # creazione del dataloader in grado di iterare sul dataset\n",
        "        all_descriptors = np.empty((len(eval_ds), args.fc_output_dim), dtype=\"float32\")   \n",
        "                                # ritorna un vettore non inizializzato con una riga per ogni sample da valutare\n",
        "        for images, indices in tqdm(database_dataloader, ncols=100):                                              # è un numero di colonne pari alla dimensione di descrittori\n",
        "            images.to(args.device)\n",
        "            descriptors = model(\"features_extractor\", [images, \"global\"])                                          # mette le immagini su device e ne calcola il risultato del MODELLO -> i descrittori\n",
        "            descriptors = descriptors.cpu().numpy()                                                               # porta i descrittori su cpu e li traforma da tensori ad array\n",
        "            all_descriptors[indices.numpy(), :] = descriptors                                                     # riempie l'array mettendo ad ogni indice il descrittore calcolato\n",
        "        \n",
        "        logging.debug(\"Extracting queries descriptors for evaluation/testing using batch size 1\")\n",
        "        queries_infer_batch_size = 1                                                                              # sembra che venga valutata un'immagine per volta\n",
        "        queries_subset_ds = Subset(eval_ds, list(range(eval_ds.database_num, eval_ds.database_num+eval_ds.queries_num)))    # in questo caso, crea un subset con sole query\n",
        "        queries_dataloader = DataLoader(dataset=queries_subset_ds, num_workers=args.num_workers, batch_size=queries_infer_batch_size, pin_memory=(args.device == \"cuda\"))            # crea il dataloader associato a questo secondo subset\n",
        "        for images, indices in tqdm(queries_dataloader, ncols=100):                            \n",
        "            images.to(args.device)\n",
        "            descriptors = model(\"features_extractor\", [images, \"global\"])                         # fa lo stesso lavoro precedente, calcolando per ogni immagine di query il descrittore\n",
        "            descriptors = descriptors.cpu().numpy()\n",
        "            all_descriptors[indices.numpy(), :] = descriptors                 # rimepiendo il vettore all_descriptors \n",
        "    \n",
        "    queries_descriptors = all_descriptors[eval_ds.database_num:]              # divide i descrittori delle queries\n",
        "    database_descriptors = all_descriptors[:eval_ds.database_num]             # dai descrittori del database di immagini da classificare\n",
        "    \n",
        "    # Use a kNN to find predictions     ----    faiss (Facebook AI Similarity Search) è una libreria di Facebook che permette di effetuare una ricerca tra somiglianze in maniera efficiente\n",
        "                                                             # faiss.IndexFlatL2 misura la l2 distance (o distanza euclidea) tra tutti i vettori dati e il quey vector \n",
        "    faiss_index = faiss.IndexFlatL2(args.fc_output_dim)      # qui sembra che lo stia inizializzando con la dimensione dei descrittori  \n",
        "    faiss_index.add(database_descriptors)                    # dopodiché ci aggiunge tutti i descrittori delle immagini di test \n",
        "    del database_descriptors, all_descriptors                # elimina roba non piiù utile\n",
        "    \n",
        "    logging.debug(\"Calculating recalls\")\n",
        "    _, predictions = faiss_index.search(queries_descriptors, max(RECALL_VALUES))   # effettua la ricerca con i descrittori delle query con i valori di recall specificati\n",
        "                                                                        # questa parte quindi è svolta unicamente da questa libreria, che calcola la distanza euclidea (quindi la vicinanza)\n",
        "                                                                        # per ogni k (preso da RECALL_VALUES) immagini con le immagini di query. Più k è alto è più ho possibilità di prendere la \n",
        "                                                                        # più vicina (lo si vede dopo)\n",
        "    #### For each query, check if the predictions are correct\n",
        "    positives_per_query = eval_ds.get_positives()               # per ogni query, restituisce l'immagine reale del dataset più vicina (credo, devo ancora guardare test_dataset)\n",
        "    recalls = np.zeros(len(RECALL_VALUES))                      # vettore di recalls inizializzato a zero\n",
        "    for query_index, preds in enumerate(predictions):           # per ogni predizione, prende indice e relativa predizione\n",
        "        for i, n in enumerate(RECALL_VALUES):                   # per ogni valore delle recall values (sono 5 valori)\n",
        "            if np.any(np.in1d(preds[:n], positives_per_query[query_index])):    # controlla che ogni valore nel primo 1Darray (quindi penso descrittore, non immagine) sia contenuto \n",
        "                                                                                # nel secondo. Quindi per ogni n controlla se le predizioni fino ad n (le n più vicine) contengono \n",
        "                                                                                # la relativa immagine di query (np.any -> almeno 1)\n",
        "                recalls[i:] += 1                                                # se si, aumenta la relativa recall\n",
        "                break                                                           # ed esce perché tanto l'ha già trovata. Quindi si favoriscono recall più basse\n",
        "    # Divide by queries_num and multiply by 100, so the recalls are in percentages\n",
        "    recalls = recalls / eval_ds.queries_num * 100                               # valori di recall espressi in percentuale (cioè quante query in percentuale sono cadute in quel valore di recall)   \n",
        "    recalls_str = \", \".join([f\"R@{val}: {rec:.1f}\" for val, rec in zip(RECALL_VALUES, recalls)])     # valori di recall in stringa\n",
        "    return recalls, recalls_str, predictions\n",
        "\n",
        "\n",
        "base_transform = transforms.Compose([\n",
        "            transforms.ToTensor(),\n",
        "            transforms.Normalize(mean=[0.485, 0.456, 0.406], std=[0.229, 0.224, 0.225]),    # stessa mean e std del train\n",
        "])\n",
        "\n",
        "def open_image(path):\n",
        "    return Image.open(path).convert(\"RGB\")\n",
        "\n",
        "def use_rerank(model, predictions, test_dataset, num_reranked_predictions=5, test_batch_size=16):\n",
        "    \"\"\"Compute the test by warping the query-prediction pairs.\n",
        "    \n",
        "    Parameters\n",
        "    ----------\n",
        "    model : network.Network\n",
        "    predictions : np.array of int, containing the first 20 predictions for each query, with shape [queries_num, 20].\n",
        "    test_dataset : dataset_geoloc.GeolocDataset, which contains the test-time images (queries and gallery).\n",
        "    num_reranked_predictions : int, how many predictions to re-rank.\n",
        "    test_batch_size : int.\n",
        "    \n",
        "    Returns\n",
        "    -------\n",
        "    recalls : np.array of int, containing R@1, R@5, r@10, r@20.\n",
        "    recalls_pretty_str : str, pretty-printed recalls\n",
        "    \"\"\"\n",
        "    \n",
        "    model = model.eval()\n",
        "    reranked_predictions = predictions.copy()\n",
        "    with torch.no_grad():\n",
        "        for num_q in tqdm(range(test_dataset.queries_num), desc=\"Testing\", ncols=100):\n",
        "\n",
        "            dot_prods_wqp = np.zeros((num_reranked_predictions))\n",
        "            query_path = test_dataset.queries_paths[num_q]\n",
        "\n",
        "            for i1 in range(0, num_reranked_predictions, test_batch_size):\n",
        "\n",
        "                batch_indexes = list(range(num_reranked_predictions))[i1:i1+test_batch_size]\n",
        "                current_batch_size = len(batch_indexes)\n",
        "                pil_image = open_image(query_path)\n",
        "                query = base_transform(pil_image)\n",
        "                query_repeated_twice = torch.repeat_interleave(query.unsqueeze(0), current_batch_size, 0)\n",
        "                \n",
        "                preds = []\n",
        "                for i in batch_indexes:\n",
        "                    pred_path = test_dataset.database_paths[predictions[num_q, i]]\n",
        "                    pil_image = open_image(pred_path)\n",
        "                    query = base_transform(pil_image)\n",
        "                    preds.append(query)\n",
        "                preds = torch.stack(preds)\n",
        "                \n",
        "                warped_pair = compute_warping(model, query_repeated_twice.cuda(), preds.cuda())\n",
        "                q_features = model(\"features_extractor\", [warped_pair[0], \"local\"])\n",
        "                p_features = model(\"features_extractor\", [warped_pair[1], \"local\"])\n",
        "                # Sum along all axes except for B. wqp stands for warped query-prediction\n",
        "                dot_prod_wqp = (q_features * p_features).sum(list(range(1, len(p_features.shape)))).cpu().numpy()\n",
        "                \n",
        "                dot_prods_wqp[i1:i1+test_batch_size] = dot_prod_wqp\n",
        "            \n",
        "            reranking_indexes = dot_prods_wqp.argsort()[::-1]\n",
        "            reranked_predictions[num_q, :num_reranked_predictions] = predictions[num_q][reranking_indexes]\n",
        "    \n",
        "    ground_truths = test_dataset.get_positives()\n",
        "    recalls = np.zeros(len(RECALL_VALUES))  \n",
        "    for query_index, preds in enumerate(reranked_predictions): \n",
        "        for i, n in enumerate(RECALL_VALUES):\n",
        "            if np.any(np.in1d(preds[:n], ground_truths[query_index])): \n",
        "                recalls[i:] += 1   \n",
        "                break  \n",
        "    recalls = recalls / test_dataset.queries_num * 100\n",
        "    recalls_str = \", \".join([f\"R@{val}: {rec:.1f}\" for val, rec in zip(RECALL_VALUES, recalls)])\n",
        "    return recalls, recalls_str\n",
        "```\n",
        "\n",
        "\n",
        "\n",
        "\n"
      ],
      "metadata": {
        "id": "N7EdPKcjA5AH"
      }
    },
    {
      "cell_type": "markdown",
      "source": [
        "Add this line to parser.py\n",
        "\n",
        "\n",
        "```\n",
        "# Multi scale parameters \n",
        "    parser.add_argument(\"--multi_scale\", action='store_true', help=\"Use multi scale\")\n",
        "    parser.add_argument(\"--select_resolutions\", type=float, default=[0.526, 0.588, 1, 1.7, 1.9], nargs=\"+\", help=\"Usage: --select_resolution 1 2 4 6\")\n",
        "    parser.add_argument(\"--multi_scale_method\", type=str, default=None, choices=[\"avg\", \"sum\", \"max\", \"min\"],\n",
        "                        help=\"Usage:--multi_scale_method=avg\")\n",
        "\n",
        "parser.add_argument('--resize', type=int, default=[480, 640], nargs=2, help=\"Resizing shape for images (HxW).\")\n",
        "```\n",
        "\n"
      ],
      "metadata": {
        "id": "QJPW8rSPDsjf"
      }
    },
    {
      "cell_type": "markdown",
      "source": [
        "check descriptors and feature_ms"
      ],
      "metadata": {
        "id": "vOWjSTHEKYHm"
      }
    },
    {
      "cell_type": "code",
      "source": [
        "!python /content/eval.py --dataset_folder /content/tokyo-night --multi_scale --multi_scale_method=avg --select_resolution 0.526 0.588 1 1.7 1.9 --resume_model /content/logs/content/logs/default/cosplace_with_grl/best_model.pth --grl_param 0.3 #file in logs.zip "
      ],
      "metadata": {
        "colab": {
          "base_uri": "https://localhost:8080/"
        },
        "id": "QnmxmfBoC2a9",
        "outputId": "c276bbad-00b5-48a9-bd44-4956fb1f56e9"
      },
      "execution_count": null,
      "outputs": [
        {
          "output_type": "stream",
          "name": "stdout",
          "text": [
            "2023-03-06 14:48:16   /content/eval.py --dataset_folder /content/tokyo-night --multi_scale --multi_scale_method=avg --select_resolution 0.526 0.588 1 1.7 1.9 --resume_model /content/logs/content/logs/default/cosplace_with_grl/best_model.pth --grl_param 0.3\n",
            "2023-03-06 14:48:16   Arguments: Namespace(L=2, M=10, N=5, alpha=30, augmentation_device='cuda', backbone='ResNet18', batch_size=32, brightness=0.7, channels=[225, 128, 128, 64, 64, 64, 64], classifiers_lr=0.01, consistency_w=0.1, contrast=0.7, dataset_folder='/content/tokyo-night', device='cuda', epochs_num=50, fc_output_dim=512, features_wise_w=10, geowarp_model_path=None, grl_model_path=None, grl_param=0.3, groups_num=8, hue=0.5, infer_batch_size=16, iterations_per_epoch=10000, k=0.6, kernel_sizes=[7, 5, 5, 5, 5, 5], loss_function='cosface', lr=1e-05, min_images_per_class=10, multi_scale=True, multi_scale_method='avg', night_brightness=0.1, night_test=False, num_reranked_preds=5, num_workers=8, optim='adam', positive_dist_threshold=25, qp_threshold=1.2, random_resized_crop=0.5, resize=[480, 640], resume_model='/content/logs/content/logs/default/cosplace_with_grl/best_model.pth', resume_train=None, saturation=0.7, save_dir='default', seed=0, select_resolutions=[0.526, 0.588, 1.0, 1.7, 1.9], source_dir=None, ss_w=1, target_dir=None, test_method='hard_resize', test_set_folder='/content/tokyo-night/test', use_amp16=False, wd=None)\n",
            "2023-03-06 14:48:16   The outputs are being saved in logs/default/2023-03-06_14-48-16\n",
            "2023-03-06 14:48:17   There are 1 GPUs and 2 CPUs.\n",
            "2023-03-06 14:48:17   Loading model from /content/logs/content/logs/default/cosplace_with_grl/best_model.pth\n",
            "2023-03-06 14:48:19   Test with multi-scale, the multi-scale method is: avg\n",
            "/usr/local/lib/python3.8/dist-packages/torch/utils/data/dataloader.py:554: UserWarning: This DataLoader will create 8 worker processes in total. Our suggested max number of worker in current system is 2, which is smaller than what this DataLoader is going to create. Please be aware that excessive worker creation might get DataLoader running slow or even freeze, lower the worker number to avoid potential slowness/freeze if necessary.\n",
            "  warnings.warn(_create_warning_msg(\n",
            "100%|█████████████████████████████████████████████████████████████| 799/799 [16:26<00:00,  1.23s/it]\n",
            "100%|█████████████████████████████████████████████████████████████| 105/105 [00:02<00:00, 35.87it/s]\n",
            "2023-03-06 15:04:48   < test - #q: 105; #db: 12771 >: R@1: 59.0, R@5: 76.2, R@10: 82.9, R@20: 85.7\n"
          ]
        }
      ]
    },
    {
      "cell_type": "code",
      "source": [
        "!python /content/evalGeowarp.py --dataset_folder /content/tokyo-night --multi_scale --multi_scale_method=avg --select_resolution 0.526 0.588 1 1.7 1.9 --resume_model /content/eff2vs_geowarp/best_model.pth --backbone efficientnet_v2_s --night_brightness 0.2 --night_test True #file in logs.zip "
      ],
      "metadata": {
        "colab": {
          "base_uri": "https://localhost:8080/"
        },
        "id": "1nwVURbndN6S",
        "outputId": "8a8c1aec-1d96-4114-c024-b84540fc5dd4"
      },
      "execution_count": null,
      "outputs": [
        {
          "output_type": "stream",
          "name": "stdout",
          "text": [
            "2023-03-06 15:59:33   /content/evalGeowarp.py --dataset_folder /content/tokyo-night --multi_scale --multi_scale_method=avg --select_resolution 0.526 0.588 1 1.7 1.9 --resume_model /content/eff2vs_geowarp/best_model.pth --backbone efficientnet_v2_s --night_brightness 0.2 --night_test True\n",
            "2023-03-06 15:59:33   Arguments: Namespace(L=2, M=10, N=5, alpha=30, augmentation_device='cuda', backbone='efficientnet_v2_s', batch_size=32, brightness=0.7, channels=[225, 128, 128, 64, 64, 64, 64], classifiers_lr=0.01, consistency_w=0.1, contrast=0.7, dataset_folder='/content/tokyo-night', device='cuda', epochs_num=50, fc_output_dim=512, features_wise_w=10, geowarp_model_path=None, grl_model_path=None, grl_param=None, groups_num=8, hue=0.5, infer_batch_size=16, iterations_per_epoch=10000, k=0.6, kernel_sizes=[7, 5, 5, 5, 5, 5], loss_function='cosface', lr=1e-05, min_images_per_class=10, multi_scale=True, multi_scale_method='avg', night_brightness=0.2, night_test=True, num_reranked_preds=5, num_workers=8, optim='adam', positive_dist_threshold=25, qp_threshold=1.2, random_resized_crop=0.5, resize=[480, 640], resume_model='/content/eff2vs_geowarp/best_model.pth', resume_train=None, saturation=0.7, save_dir='default', seed=0, select_resolutions=[0.526, 0.588, 1.0, 1.7, 1.9], source_dir=None, ss_w=1, target_dir=None, test_method='hard_resize', test_set_folder='/content/tokyo-night/test', use_amp16=False, wd=None)\n",
            "2023-03-06 15:59:33   The outputs are being saved in logs/default/2023-03-06_15-59-33\n",
            "/usr/local/lib/python3.8/dist-packages/torchvision/models/_utils.py:208: UserWarning: The parameter 'pretrained' is deprecated since 0.13 and may be removed in the future, please use 'weights' instead.\n",
            "  warnings.warn(\n",
            "/usr/local/lib/python3.8/dist-packages/torchvision/models/_utils.py:223: UserWarning: Arguments other than a weight enum or `None` for 'weights' are deprecated since 0.13 and may be removed in the future. The current behavior is equivalent to passing `weights=EfficientNet_V2_S_Weights.IMAGENET1K_V1`. You can also use `weights=EfficientNet_V2_S_Weights.DEFAULT` to get the most up-to-date weights.\n",
            "  warnings.warn(msg)\n",
            "2023-03-06 15:59:34   Using efficient net v2s\n",
            "2023-03-06 15:59:34   Model uses weights IMAGENET1K_V1\n",
            "2023-03-06 15:59:37   There are 1 GPUs and 2 CPUs.\n",
            "2023-03-06 15:59:37   Loading model from /content/eff2vs_geowarp/best_model.pth\n",
            "2023-03-06 15:59:37   Start testing\n",
            "2023-03-06 15:59:37   Test with multi-scale, the multi-scale method is: avg\n",
            "/usr/local/lib/python3.8/dist-packages/torch/utils/data/dataloader.py:554: UserWarning: This DataLoader will create 8 worker processes in total. Our suggested max number of worker in current system is 2, which is smaller than what this DataLoader is going to create. Please be aware that excessive worker creation might get DataLoader running slow or even freeze, lower the worker number to avoid potential slowness/freeze if necessary.\n",
            "  warnings.warn(_create_warning_msg(\n",
            "100%|█████████████████████████████████████████████████████████████| 799/799 [25:34<00:00,  1.92s/it]\n",
            "100%|█████████████████████████████████████████████████████████████| 105/105 [00:06<00:00, 16.67it/s]\n",
            "2023-03-06 16:25:18   Start re-ranking\n",
            "Testing: 100%|████████████████████████████████████████████████████| 105/105 [00:46<00:00,  2.27it/s]\n",
            "2023-03-06 16:26:04   Test without warping: < test - #q: 105; #db: 12771 >: R@1: 68.6, R@5: 83.8, R@10: 90.5, R@20: 94.3\n",
            "2023-03-06 16:26:04     Test after warping: < test - #q: 105; #db: 12771 >: R@1: 75.2, R@5: 83.8, R@10: 90.5, R@20: 94.3\n",
            "2023-03-06 16:26:04   Experiment finished (without any errors)\n"
          ]
        }
      ]
    },
    {
      "cell_type": "markdown",
      "source": [
        "## Multiscale and GRL"
      ],
      "metadata": {
        "id": "cyG4z9rLZoz1"
      }
    },
    {
      "cell_type": "code",
      "source": [
        "!python /content/eval.py --dataset_folder /content/tokyo-night --multi_scale --multi_scale_method=avg --select_resolution 0.526 0.588 1 1.7 1.9 --resume_model /content/eff2vs_grl/eff2vs_grl.pth --backbone efficientnet_v2_s --grl_param 0.3 --night_test True --night_brightness 0.2"
      ],
      "metadata": {
        "colab": {
          "base_uri": "https://localhost:8080/"
        },
        "id": "a2f6yNDJZrdz",
        "outputId": "ed3ab57a-b01b-4f7a-ad0e-9371b2639dd1"
      },
      "execution_count": null,
      "outputs": [
        {
          "output_type": "stream",
          "name": "stdout",
          "text": [
            "2023-03-07 14:12:02   /content/eval.py --dataset_folder /content/tokyo-night --multi_scale --multi_scale_method=avg --select_resolution 0.526 0.588 1 1.7 1.9 --resume_model /content/eff2vs_grl/eff2vs_grl.pth --backbone efficientnet_v2_s --grl_param 0.3 --night_test True --night_brightness 0.2\n",
            "2023-03-07 14:12:02   Arguments: Namespace(L=2, M=10, N=5, alpha=30, augmentation_device='cuda', backbone='efficientnet_v2_s', batch_size=32, brightness=0.7, channels=[225, 128, 128, 64, 64, 64, 64], classifiers_lr=0.01, consistency_w=0.1, contrast=0.7, dataset_folder='/content/tokyo-night', device='cuda', epochs_num=50, fc_output_dim=512, features_wise_w=10, geowarp_model_path=None, grl_model_path=None, grl_param=0.3, groups_num=8, hue=0.5, infer_batch_size=16, iterations_per_epoch=10000, k=0.6, kernel_sizes=[7, 5, 5, 5, 5, 5], loss_function='cosface', lr=1e-05, min_images_per_class=10, multi_scale=True, multi_scale_method='avg', night_brightness=0.2, night_test=True, num_reranked_preds=5, num_workers=8, optim='adam', positive_dist_threshold=25, qp_threshold=1.2, random_resized_crop=0.5, resize=[480, 640], resume_model='/content/eff2vs_grl/eff2vs_grl.pth', resume_train=None, saturation=0.7, save_dir='default', seed=0, select_resolutions=[0.526, 0.588, 1.0, 1.7, 1.9], source_dir=None, ss_w=1, target_dir=None, test_method='hard_resize', test_set_folder='/content/tokyo-night/test', use_amp16=False, wd=None)\n",
            "2023-03-07 14:12:02   The outputs are being saved in logs/default/2023-03-07_14-12-02\n",
            "/usr/local/lib/python3.8/dist-packages/torchvision/models/_utils.py:208: UserWarning: The parameter 'pretrained' is deprecated since 0.13 and may be removed in the future, please use 'weights' instead.\n",
            "  warnings.warn(\n",
            "/usr/local/lib/python3.8/dist-packages/torchvision/models/_utils.py:223: UserWarning: Arguments other than a weight enum or `None` for 'weights' are deprecated since 0.13 and may be removed in the future. The current behavior is equivalent to passing `weights=EfficientNet_V2_S_Weights.IMAGENET1K_V1`. You can also use `weights=EfficientNet_V2_S_Weights.DEFAULT` to get the most up-to-date weights.\n",
            "  warnings.warn(msg)\n",
            "2023-03-07 14:12:02   Using efficient net v2s\n",
            "2023-03-07 14:12:02   Model uses weights IMAGENET1K_V1\n",
            "2023-03-07 14:12:03   There are 1 GPUs and 2 CPUs.\n",
            "2023-03-07 14:12:03   Loading model from /content/eff2vs_grl/eff2vs_grl.pth\n",
            "2023-03-07 14:12:08   Test with multi-scale, the multi-scale method is: avg\n",
            "/usr/local/lib/python3.8/dist-packages/torch/utils/data/dataloader.py:554: UserWarning: This DataLoader will create 8 worker processes in total. Our suggested max number of worker in current system is 2, which is smaller than what this DataLoader is going to create. Please be aware that excessive worker creation might get DataLoader running slow or even freeze, lower the worker number to avoid potential slowness/freeze if necessary.\n",
            "  warnings.warn(_create_warning_msg(\n",
            "100%|█████████████████████████████████████████████████████████████| 799/799 [25:51<00:00,  1.94s/it]\n",
            "100%|█████████████████████████████████████████████████████████████| 105/105 [00:05<00:00, 20.65it/s]\n",
            "2023-03-07 14:38:05   < test - #q: 105; #db: 12771 >: R@1: 68.6, R@5: 86.7, R@10: 91.4, R@20: 93.3\n"
          ]
        }
      ]
    },
    {
      "cell_type": "code",
      "source": [
        "!python /content/eval.py --dataset_folder /content/tokyo_xs/ --multi_scale --multi_scale_method=avg --select_resolution 0.526 0.588 1 1.7 1.9 --resume_model /content/eff2vs_grl/eff2vs_grl.pth --backbone efficientnet_v2_s --grl_param 0.3"
      ],
      "metadata": {
        "colab": {
          "base_uri": "https://localhost:8080/"
        },
        "id": "_Mx_E5oYg0ot",
        "outputId": "e5db2579-fa1c-416a-c130-1f8e8dd31554"
      },
      "execution_count": null,
      "outputs": [
        {
          "output_type": "stream",
          "name": "stdout",
          "text": [
            "2023-03-07 14:40:46   /content/eval.py --dataset_folder /content/tokyo_xs/ --multi_scale --multi_scale_method=avg --select_resolution 0.526 0.588 1 1.7 1.9 --resume_model /content/eff2vs_grl/eff2vs_grl.pth --backbone efficientnet_v2_s --grl_param 0.3\n",
            "2023-03-07 14:40:46   Arguments: Namespace(L=2, M=10, N=5, alpha=30, augmentation_device='cuda', backbone='efficientnet_v2_s', batch_size=32, brightness=0.7, channels=[225, 128, 128, 64, 64, 64, 64], classifiers_lr=0.01, consistency_w=0.1, contrast=0.7, dataset_folder='/content/tokyo_xs/', device='cuda', epochs_num=50, fc_output_dim=512, features_wise_w=10, geowarp_model_path=None, grl_model_path=None, grl_param=0.3, groups_num=8, hue=0.5, infer_batch_size=16, iterations_per_epoch=10000, k=0.6, kernel_sizes=[7, 5, 5, 5, 5, 5], loss_function='cosface', lr=1e-05, min_images_per_class=10, multi_scale=True, multi_scale_method='avg', night_brightness=0.1, night_test=False, num_reranked_preds=5, num_workers=8, optim='adam', positive_dist_threshold=25, qp_threshold=1.2, random_resized_crop=0.5, resize=[480, 640], resume_model='/content/eff2vs_grl/eff2vs_grl.pth', resume_train=None, saturation=0.7, save_dir='default', seed=0, select_resolutions=[0.526, 0.588, 1.0, 1.7, 1.9], source_dir=None, ss_w=1, target_dir=None, test_method='hard_resize', test_set_folder='/content/tokyo_xs/test', use_amp16=False, wd=None)\n",
            "2023-03-07 14:40:46   The outputs are being saved in logs/default/2023-03-07_14-40-46\n",
            "/usr/local/lib/python3.8/dist-packages/torchvision/models/_utils.py:208: UserWarning: The parameter 'pretrained' is deprecated since 0.13 and may be removed in the future, please use 'weights' instead.\n",
            "  warnings.warn(\n",
            "/usr/local/lib/python3.8/dist-packages/torchvision/models/_utils.py:223: UserWarning: Arguments other than a weight enum or `None` for 'weights' are deprecated since 0.13 and may be removed in the future. The current behavior is equivalent to passing `weights=EfficientNet_V2_S_Weights.IMAGENET1K_V1`. You can also use `weights=EfficientNet_V2_S_Weights.DEFAULT` to get the most up-to-date weights.\n",
            "  warnings.warn(msg)\n",
            "2023-03-07 14:40:46   Using efficient net v2s\n",
            "2023-03-07 14:40:46   Model uses weights IMAGENET1K_V1\n",
            "2023-03-07 14:40:47   There are 1 GPUs and 2 CPUs.\n",
            "2023-03-07 14:40:47   Loading model from /content/eff2vs_grl/eff2vs_grl.pth\n",
            "2023-03-07 14:40:49   Test with multi-scale, the multi-scale method is: avg\n",
            "/usr/local/lib/python3.8/dist-packages/torch/utils/data/dataloader.py:554: UserWarning: This DataLoader will create 8 worker processes in total. Our suggested max number of worker in current system is 2, which is smaller than what this DataLoader is going to create. Please be aware that excessive worker creation might get DataLoader running slow or even freeze, lower the worker number to avoid potential slowness/freeze if necessary.\n",
            "  warnings.warn(_create_warning_msg(\n",
            "100%|█████████████████████████████████████████████████████████████| 799/799 [25:55<00:00,  1.95s/it]\n",
            "100%|█████████████████████████████████████████████████████████████| 315/315 [00:15<00:00, 20.80it/s]\n",
            "2023-03-07 15:07:00   < test - #q: 315; #db: 12771 >: R@1: 79.7, R@5: 92.1, R@10: 94.0, R@20: 96.2\n"
          ]
        }
      ]
    },
    {
      "cell_type": "code",
      "source": [
        "!python /content/eval.py --dataset_folder /content/small/ --multi_scale --multi_scale_method=avg --select_resolution 0.526 0.588 1 1.7 1.9 --resume_model /content/eff2vs_grl/eff2vs_grl.pth --backbone efficientnet_v2_s --grl_param 0.3"
      ],
      "metadata": {
        "colab": {
          "base_uri": "https://localhost:8080/"
        },
        "id": "2yziyP4lnYLV",
        "outputId": "87bd49eb-a74b-455a-d9ce-4f9e3880a9dd"
      },
      "execution_count": null,
      "outputs": [
        {
          "output_type": "stream",
          "name": "stdout",
          "text": [
            "2023-03-07 15:08:21   /content/eval.py --dataset_folder /content/small/ --multi_scale --multi_scale_method=avg --select_resolution 0.526 0.588 1 1.7 1.9 --resume_model /content/eff2vs_grl/eff2vs_grl.pth --backbone efficientnet_v2_s --grl_param 0.3\n",
            "2023-03-07 15:08:21   Arguments: Namespace(L=2, M=10, N=5, alpha=30, augmentation_device='cuda', backbone='efficientnet_v2_s', batch_size=32, brightness=0.7, channels=[225, 128, 128, 64, 64, 64, 64], classifiers_lr=0.01, consistency_w=0.1, contrast=0.7, dataset_folder='/content/small/', device='cuda', epochs_num=50, fc_output_dim=512, features_wise_w=10, geowarp_model_path=None, grl_model_path=None, grl_param=0.3, groups_num=8, hue=0.5, infer_batch_size=16, iterations_per_epoch=10000, k=0.6, kernel_sizes=[7, 5, 5, 5, 5, 5], loss_function='cosface', lr=1e-05, min_images_per_class=10, multi_scale=True, multi_scale_method='avg', night_brightness=0.1, night_test=False, num_reranked_preds=5, num_workers=8, optim='adam', positive_dist_threshold=25, qp_threshold=1.2, random_resized_crop=0.5, resize=[480, 640], resume_model='/content/eff2vs_grl/eff2vs_grl.pth', resume_train=None, saturation=0.7, save_dir='default', seed=0, select_resolutions=[0.526, 0.588, 1.0, 1.7, 1.9], source_dir=None, ss_w=1, target_dir=None, test_method='hard_resize', test_set_folder='/content/small/test', use_amp16=False, wd=None)\n",
            "2023-03-07 15:08:21   The outputs are being saved in logs/default/2023-03-07_15-08-21\n",
            "/usr/local/lib/python3.8/dist-packages/torchvision/models/_utils.py:208: UserWarning: The parameter 'pretrained' is deprecated since 0.13 and may be removed in the future, please use 'weights' instead.\n",
            "  warnings.warn(\n",
            "/usr/local/lib/python3.8/dist-packages/torchvision/models/_utils.py:223: UserWarning: Arguments other than a weight enum or `None` for 'weights' are deprecated since 0.13 and may be removed in the future. The current behavior is equivalent to passing `weights=EfficientNet_V2_S_Weights.IMAGENET1K_V1`. You can also use `weights=EfficientNet_V2_S_Weights.DEFAULT` to get the most up-to-date weights.\n",
            "  warnings.warn(msg)\n",
            "2023-03-07 15:08:21   Using efficient net v2s\n",
            "2023-03-07 15:08:21   Model uses weights IMAGENET1K_V1\n",
            "2023-03-07 15:08:23   There are 1 GPUs and 2 CPUs.\n",
            "2023-03-07 15:08:23   Loading model from /content/eff2vs_grl/eff2vs_grl.pth\n",
            "2023-03-07 15:08:26   Test with multi-scale, the multi-scale method is: avg\n",
            "/usr/local/lib/python3.8/dist-packages/torch/utils/data/dataloader.py:554: UserWarning: This DataLoader will create 8 worker processes in total. Our suggested max number of worker in current system is 2, which is smaller than what this DataLoader is going to create. Please be aware that excessive worker creation might get DataLoader running slow or even freeze, lower the worker number to avoid potential slowness/freeze if necessary.\n",
            "  warnings.warn(_create_warning_msg(\n",
            "100%|███████████████████████████████████████████████████████████| 1700/1700 [54:42<00:00,  1.93s/it]\n",
            "100%|███████████████████████████████████████████████████████████| 1000/1000 [00:46<00:00, 21.49it/s]\n",
            "2023-03-07 16:03:55   < test - #q: 1000; #db: 27191 >: R@1: 61.9, R@5: 73.2, R@10: 77.3, R@20: 81.7\n"
          ]
        }
      ]
    },
    {
      "cell_type": "markdown",
      "source": [
        "#Step 4: First Type of DA"
      ],
      "metadata": {
        "id": "bUgmgnYx4bYz"
      }
    },
    {
      "cell_type": "code",
      "source": [
        "for factor in [0.1, 0.15, 0.2, 0.3, 0.4]:\n",
        "  print(f\"______________________________________________________________FACTOR{factor}\")\n",
        "  print(f\"_________________________STANDARD\")\n",
        "  #!python eval.py --dataset_folder /content/tokyo-night/  --resume_model /content/logs/content/logs/default/trained_with_cosface/best_model.pth --night_test True --night_brightness $factor #file in logs.zip\n",
        "  print(f\"______________________________________________________________FACTOR{factor}\")\n",
        "  print(f\"_________________________GRL\")\n",
        "  !python eval.py --dataset_folder /content/tokyo-night/  --resume_model /content/logs/content/logs/default/cosplace_with_grl/best_model.pth --grl_param 0.3 --night_test True --night_brightness $factor #file in logs.zip"
      ],
      "metadata": {
        "id": "nFmBxaSD4hCA",
        "colab": {
          "base_uri": "https://localhost:8080/"
        },
        "outputId": "7016e033-69cb-4a7b-e1ad-0c5a6ce3708d"
      },
      "execution_count": null,
      "outputs": [
        {
          "output_type": "stream",
          "name": "stdout",
          "text": [
            "______________________________________________________________FACTOR0.1\n",
            "_________________________STANDARD\n",
            "______________________________________________________________FACTOR0.1\n",
            "_________________________GRL\n",
            "2023-02-04 15:43:16   eval.py --dataset_folder /content/tokyo-night/ --resume_model /content/logs/content/logs/default/cosplace_with_grl/best_model.pth --grl_param 0.3 --night_test True --night_brightness 0.1\n",
            "2023-02-04 15:43:16   Arguments: Namespace(L=2, M=10, N=5, alpha=30, augmentation_device='cuda', backbone='ResNet18', batch_size=32, brightness=0.7, channels=[225, 128, 128, 64, 64, 64, 64], classifiers_lr=0.01, consistency_w=0.1, contrast=0.7, dataset_folder='/content/tokyo-night/', device='cuda', epochs_num=50, fc_output_dim=512, features_wise_w=10, grl_param=0.3, groups_num=8, hue=0.5, infer_batch_size=16, iterations_per_epoch=10000, k=0.6, kernel_sizes=[7, 5, 5, 5, 5, 5], loss_function='cosface', lr=1e-05, min_images_per_class=10, multi_scale=False, multi_scale_method=None, night_brightness=0.1, night_test=True, num_reranked_preds=5, num_workers=8, positive_dist_threshold=25, qp_threshold=1.2, random_resized_crop=0.5, resume_model='/content/logs/content/logs/default/cosplace_with_grl/best_model.pth', resume_train=None, saturation=0.7, save_dir='default', seed=0, select_resolutions=[1, 2, 5, 10], source_dir=None, ss_w=1, target_dir=None, test_method='hard_resize', test_set_folder='/content/tokyo-night/test', use_amp16=False)\n",
            "2023-02-04 15:43:16   The outputs are being saved in logs/default/2023-02-04_15-43-16\n",
            "2023-02-04 15:43:17   There are 1 GPUs and 2 CPUs.\n",
            "2023-02-04 15:43:17   Loading model from /content/logs/content/logs/default/cosplace_with_grl/best_model.pth\n",
            "/usr/local/lib/python3.8/dist-packages/torch/utils/data/dataloader.py:554: UserWarning: This DataLoader will create 8 worker processes in total. Our suggested max number of worker in current system is 2, which is smaller than what this DataLoader is going to create. Please be aware that excessive worker creation might get DataLoader running slow or even freeze, lower the worker number to avoid potential slowness/freeze if necessary.\n",
            "  warnings.warn(_create_warning_msg(\n",
            "100%|█████████████████████████████████████████████████████████████| 799/799 [02:37<00:00,  5.08it/s]\n",
            "100%|█████████████████████████████████████████████████████████████| 105/105 [00:02<00:00, 37.31it/s]\n",
            "2023-02-04 15:45:58   < test - #q: 105; #db: 12771 >: R@1: 60.0, R@5: 78.1, R@10: 81.9, R@20: 87.6\n",
            "______________________________________________________________FACTOR0.15\n",
            "_________________________STANDARD\n",
            "______________________________________________________________FACTOR0.15\n",
            "_________________________GRL\n",
            "2023-02-04 15:46:01   eval.py --dataset_folder /content/tokyo-night/ --resume_model /content/logs/content/logs/default/cosplace_with_grl/best_model.pth --grl_param 0.3 --night_test True --night_brightness 0.15\n",
            "2023-02-04 15:46:01   Arguments: Namespace(L=2, M=10, N=5, alpha=30, augmentation_device='cuda', backbone='ResNet18', batch_size=32, brightness=0.7, channels=[225, 128, 128, 64, 64, 64, 64], classifiers_lr=0.01, consistency_w=0.1, contrast=0.7, dataset_folder='/content/tokyo-night/', device='cuda', epochs_num=50, fc_output_dim=512, features_wise_w=10, grl_param=0.3, groups_num=8, hue=0.5, infer_batch_size=16, iterations_per_epoch=10000, k=0.6, kernel_sizes=[7, 5, 5, 5, 5, 5], loss_function='cosface', lr=1e-05, min_images_per_class=10, multi_scale=False, multi_scale_method=None, night_brightness=0.15, night_test=True, num_reranked_preds=5, num_workers=8, positive_dist_threshold=25, qp_threshold=1.2, random_resized_crop=0.5, resume_model='/content/logs/content/logs/default/cosplace_with_grl/best_model.pth', resume_train=None, saturation=0.7, save_dir='default', seed=0, select_resolutions=[1, 2, 5, 10], source_dir=None, ss_w=1, target_dir=None, test_method='hard_resize', test_set_folder='/content/tokyo-night/test', use_amp16=False)\n",
            "2023-02-04 15:46:01   The outputs are being saved in logs/default/2023-02-04_15-46-01\n",
            "2023-02-04 15:46:02   There are 1 GPUs and 2 CPUs.\n",
            "2023-02-04 15:46:02   Loading model from /content/logs/content/logs/default/cosplace_with_grl/best_model.pth\n",
            "/usr/local/lib/python3.8/dist-packages/torch/utils/data/dataloader.py:554: UserWarning: This DataLoader will create 8 worker processes in total. Our suggested max number of worker in current system is 2, which is smaller than what this DataLoader is going to create. Please be aware that excessive worker creation might get DataLoader running slow or even freeze, lower the worker number to avoid potential slowness/freeze if necessary.\n",
            "  warnings.warn(_create_warning_msg(\n",
            "100%|█████████████████████████████████████████████████████████████| 799/799 [02:34<00:00,  5.16it/s]\n",
            "100%|█████████████████████████████████████████████████████████████| 105/105 [00:02<00:00, 45.74it/s]\n",
            "2023-02-04 15:48:41   < test - #q: 105; #db: 12771 >: R@1: 60.0, R@5: 80.0, R@10: 83.8, R@20: 86.7\n",
            "______________________________________________________________FACTOR0.2\n",
            "_________________________STANDARD\n",
            "______________________________________________________________FACTOR0.2\n",
            "_________________________GRL\n",
            "2023-02-04 15:48:44   eval.py --dataset_folder /content/tokyo-night/ --resume_model /content/logs/content/logs/default/cosplace_with_grl/best_model.pth --grl_param 0.3 --night_test True --night_brightness 0.2\n",
            "2023-02-04 15:48:44   Arguments: Namespace(L=2, M=10, N=5, alpha=30, augmentation_device='cuda', backbone='ResNet18', batch_size=32, brightness=0.7, channels=[225, 128, 128, 64, 64, 64, 64], classifiers_lr=0.01, consistency_w=0.1, contrast=0.7, dataset_folder='/content/tokyo-night/', device='cuda', epochs_num=50, fc_output_dim=512, features_wise_w=10, grl_param=0.3, groups_num=8, hue=0.5, infer_batch_size=16, iterations_per_epoch=10000, k=0.6, kernel_sizes=[7, 5, 5, 5, 5, 5], loss_function='cosface', lr=1e-05, min_images_per_class=10, multi_scale=False, multi_scale_method=None, night_brightness=0.2, night_test=True, num_reranked_preds=5, num_workers=8, positive_dist_threshold=25, qp_threshold=1.2, random_resized_crop=0.5, resume_model='/content/logs/content/logs/default/cosplace_with_grl/best_model.pth', resume_train=None, saturation=0.7, save_dir='default', seed=0, select_resolutions=[1, 2, 5, 10], source_dir=None, ss_w=1, target_dir=None, test_method='hard_resize', test_set_folder='/content/tokyo-night/test', use_amp16=False)\n",
            "2023-02-04 15:48:44   The outputs are being saved in logs/default/2023-02-04_15-48-44\n",
            "2023-02-04 15:48:45   There are 1 GPUs and 2 CPUs.\n",
            "2023-02-04 15:48:45   Loading model from /content/logs/content/logs/default/cosplace_with_grl/best_model.pth\n",
            "/usr/local/lib/python3.8/dist-packages/torch/utils/data/dataloader.py:554: UserWarning: This DataLoader will create 8 worker processes in total. Our suggested max number of worker in current system is 2, which is smaller than what this DataLoader is going to create. Please be aware that excessive worker creation might get DataLoader running slow or even freeze, lower the worker number to avoid potential slowness/freeze if necessary.\n",
            "  warnings.warn(_create_warning_msg(\n",
            "100%|█████████████████████████████████████████████████████████████| 799/799 [02:36<00:00,  5.09it/s]\n",
            "100%|█████████████████████████████████████████████████████████████| 105/105 [00:02<00:00, 38.22it/s]\n",
            "2023-02-04 15:51:26   < test - #q: 105; #db: 12771 >: R@1: 58.1, R@5: 81.0, R@10: 83.8, R@20: 87.6\n",
            "______________________________________________________________FACTOR0.3\n",
            "_________________________STANDARD\n",
            "______________________________________________________________FACTOR0.3\n",
            "_________________________GRL\n",
            "2023-02-04 15:51:29   eval.py --dataset_folder /content/tokyo-night/ --resume_model /content/logs/content/logs/default/cosplace_with_grl/best_model.pth --grl_param 0.3 --night_test True --night_brightness 0.3\n",
            "2023-02-04 15:51:29   Arguments: Namespace(L=2, M=10, N=5, alpha=30, augmentation_device='cuda', backbone='ResNet18', batch_size=32, brightness=0.7, channels=[225, 128, 128, 64, 64, 64, 64], classifiers_lr=0.01, consistency_w=0.1, contrast=0.7, dataset_folder='/content/tokyo-night/', device='cuda', epochs_num=50, fc_output_dim=512, features_wise_w=10, grl_param=0.3, groups_num=8, hue=0.5, infer_batch_size=16, iterations_per_epoch=10000, k=0.6, kernel_sizes=[7, 5, 5, 5, 5, 5], loss_function='cosface', lr=1e-05, min_images_per_class=10, multi_scale=False, multi_scale_method=None, night_brightness=0.3, night_test=True, num_reranked_preds=5, num_workers=8, positive_dist_threshold=25, qp_threshold=1.2, random_resized_crop=0.5, resume_model='/content/logs/content/logs/default/cosplace_with_grl/best_model.pth', resume_train=None, saturation=0.7, save_dir='default', seed=0, select_resolutions=[1, 2, 5, 10], source_dir=None, ss_w=1, target_dir=None, test_method='hard_resize', test_set_folder='/content/tokyo-night/test', use_amp16=False)\n",
            "2023-02-04 15:51:29   The outputs are being saved in logs/default/2023-02-04_15-51-29\n",
            "2023-02-04 15:51:30   There are 1 GPUs and 2 CPUs.\n",
            "2023-02-04 15:51:30   Loading model from /content/logs/content/logs/default/cosplace_with_grl/best_model.pth\n",
            "/usr/local/lib/python3.8/dist-packages/torch/utils/data/dataloader.py:554: UserWarning: This DataLoader will create 8 worker processes in total. Our suggested max number of worker in current system is 2, which is smaller than what this DataLoader is going to create. Please be aware that excessive worker creation might get DataLoader running slow or even freeze, lower the worker number to avoid potential slowness/freeze if necessary.\n",
            "  warnings.warn(_create_warning_msg(\n",
            "100%|█████████████████████████████████████████████████████████████| 799/799 [02:34<00:00,  5.17it/s]\n",
            "100%|█████████████████████████████████████████████████████████████| 105/105 [00:02<00:00, 40.02it/s]\n",
            "2023-02-04 15:54:09   < test - #q: 105; #db: 12771 >: R@1: 57.1, R@5: 80.0, R@10: 84.8, R@20: 88.6\n",
            "______________________________________________________________FACTOR0.4\n",
            "_________________________STANDARD\n",
            "______________________________________________________________FACTOR0.4\n",
            "_________________________GRL\n",
            "2023-02-04 15:54:12   eval.py --dataset_folder /content/tokyo-night/ --resume_model /content/logs/content/logs/default/cosplace_with_grl/best_model.pth --grl_param 0.3 --night_test True --night_brightness 0.4\n",
            "2023-02-04 15:54:12   Arguments: Namespace(L=2, M=10, N=5, alpha=30, augmentation_device='cuda', backbone='ResNet18', batch_size=32, brightness=0.7, channels=[225, 128, 128, 64, 64, 64, 64], classifiers_lr=0.01, consistency_w=0.1, contrast=0.7, dataset_folder='/content/tokyo-night/', device='cuda', epochs_num=50, fc_output_dim=512, features_wise_w=10, grl_param=0.3, groups_num=8, hue=0.5, infer_batch_size=16, iterations_per_epoch=10000, k=0.6, kernel_sizes=[7, 5, 5, 5, 5, 5], loss_function='cosface', lr=1e-05, min_images_per_class=10, multi_scale=False, multi_scale_method=None, night_brightness=0.4, night_test=True, num_reranked_preds=5, num_workers=8, positive_dist_threshold=25, qp_threshold=1.2, random_resized_crop=0.5, resume_model='/content/logs/content/logs/default/cosplace_with_grl/best_model.pth', resume_train=None, saturation=0.7, save_dir='default', seed=0, select_resolutions=[1, 2, 5, 10], source_dir=None, ss_w=1, target_dir=None, test_method='hard_resize', test_set_folder='/content/tokyo-night/test', use_amp16=False)\n",
            "2023-02-04 15:54:12   The outputs are being saved in logs/default/2023-02-04_15-54-12\n",
            "2023-02-04 15:54:12   There are 1 GPUs and 2 CPUs.\n",
            "2023-02-04 15:54:12   Loading model from /content/logs/content/logs/default/cosplace_with_grl/best_model.pth\n",
            "/usr/local/lib/python3.8/dist-packages/torch/utils/data/dataloader.py:554: UserWarning: This DataLoader will create 8 worker processes in total. Our suggested max number of worker in current system is 2, which is smaller than what this DataLoader is going to create. Please be aware that excessive worker creation might get DataLoader running slow or even freeze, lower the worker number to avoid potential slowness/freeze if necessary.\n",
            "  warnings.warn(_create_warning_msg(\n",
            "100%|█████████████████████████████████████████████████████████████| 799/799 [02:36<00:00,  5.12it/s]\n",
            "100%|█████████████████████████████████████████████████████████████| 105/105 [00:03<00:00, 30.49it/s]\n",
            "2023-02-04 15:56:54   < test - #q: 105; #db: 12771 >: R@1: 60.0, R@5: 80.0, R@10: 84.8, R@20: 88.6\n"
          ]
        }
      ]
    },
    {
      "cell_type": "markdown",
      "source": [
        "# Evaluation with EffientNetV2s"
      ],
      "metadata": {
        "id": "CPYJfT3spvqV"
      }
    },
    {
      "cell_type": "markdown",
      "source": [
        "## EffientNetV2s + GRL on sf-xs(test)"
      ],
      "metadata": {
        "id": "y-5CP5dPp3h0"
      }
    },
    {
      "cell_type": "code",
      "source": [
        "!python eval.py --dataset_folder /content/small/  --resume_model /content/best_model.pth --backbone efficientnet_v2_s --grl_param 0.3 #file in logs.zip"
      ],
      "metadata": {
        "id": "JUSczjPt5Qzs",
        "outputId": "95c3d42e-f8f9-4ad8-b293-568e8979e0d1",
        "colab": {
          "base_uri": "https://localhost:8080/"
        }
      },
      "execution_count": null,
      "outputs": [
        {
          "output_type": "stream",
          "name": "stdout",
          "text": [
            "2023-02-05 09:43:04   eval.py --dataset_folder /content/small/ --resume_model /content/best_model.pth --backbone efficientnet_v2_s --grl_param 0.3\n",
            "2023-02-05 09:43:04   Arguments: Namespace(L=2, M=10, N=5, alpha=30, augmentation_device='cuda', backbone='efficientnet_v2_s', batch_size=32, brightness=0.7, channels=[225, 128, 128, 64, 64, 64, 64], classifiers_lr=0.01, consistency_w=0.1, contrast=0.7, dataset_folder='/content/small/', device='cuda', epochs_num=50, fc_output_dim=512, features_wise_w=10, grl_param=0.3, groups_num=8, hue=0.5, infer_batch_size=16, iterations_per_epoch=10000, k=0.6, kernel_sizes=[7, 5, 5, 5, 5, 5], loss_function='cosface', lr=1e-05, min_images_per_class=10, multi_scale=False, multi_scale_method='avg', night_brightness=0.1, night_test=False, num_reranked_preds=5, num_workers=8, optim='adam', positive_dist_threshold=25, qp_threshold=1.2, random_resized_crop=0.5, resize=[480, 640], resume_model='/content/best_model.pth', resume_train=None, saturation=0.7, save_dir='default', seed=0, select_resolutions=[0.526, 0.588, 1, 1.7, 1.9], source_dir=None, ss_w=1, target_dir=None, test_method='hard_resize', test_set_folder='/content/small/test', use_amp16=False, wd=None)\n",
            "2023-02-05 09:43:04   The outputs are being saved in logs/default/2023-02-05_09-43-04\n",
            "/usr/local/lib/python3.8/dist-packages/torchvision/models/_utils.py:208: UserWarning: The parameter 'pretrained' is deprecated since 0.13 and may be removed in the future, please use 'weights' instead.\n",
            "  warnings.warn(\n",
            "/usr/local/lib/python3.8/dist-packages/torchvision/models/_utils.py:223: UserWarning: Arguments other than a weight enum or `None` for 'weights' are deprecated since 0.13 and may be removed in the future. The current behavior is equivalent to passing `weights=EfficientNet_V2_S_Weights.IMAGENET1K_V1`. You can also use `weights=EfficientNet_V2_S_Weights.DEFAULT` to get the most up-to-date weights.\n",
            "  warnings.warn(msg)\n",
            "2023-02-05 09:43:05   Using efficient net v2s\n",
            "2023-02-05 09:43:05   Model uses weights IMAGENET1K_V1\n",
            "2023-02-05 09:43:06   There are 1 GPUs and 2 CPUs.\n",
            "2023-02-05 09:43:06   Loading model from /content/best_model.pth\n",
            "/usr/local/lib/python3.8/dist-packages/torch/utils/data/dataloader.py:554: UserWarning: This DataLoader will create 8 worker processes in total. Our suggested max number of worker in current system is 2, which is smaller than what this DataLoader is going to create. Please be aware that excessive worker creation might get DataLoader running slow or even freeze, lower the worker number to avoid potential slowness/freeze if necessary.\n",
            "  warnings.warn(_create_warning_msg(\n",
            "100%|███████████████████████████████████████████████████████████| 1700/1700 [07:14<00:00,  3.92it/s]\n",
            "100%|███████████████████████████████████████████████████████████| 1000/1000 [00:45<00:00, 22.02it/s]\n",
            "2023-02-05 09:51:08   < test - #q: 1000; #db: 27191 >: R@1: 63.0, R@5: 74.2, R@10: 78.7, R@20: 82.8\n"
          ]
        }
      ]
    },
    {
      "cell_type": "markdown",
      "source": [
        "## EffientNetV2s + GRL on tokyo_xs"
      ],
      "metadata": {
        "id": "uyM4-CLHqAbW"
      }
    },
    {
      "cell_type": "code",
      "source": [
        "!python eval.py --dataset_folder /content/tokyo_xs/  --resume_model /content/best_model.pth --backbone efficientnet_v2_s --grl_param 0.3 #file in logs.zip"
      ],
      "metadata": {
        "id": "odwFxSoL-0Zu",
        "outputId": "54b01939-04d4-42e0-e4d0-a44280826e8e",
        "colab": {
          "base_uri": "https://localhost:8080/"
        }
      },
      "execution_count": null,
      "outputs": [
        {
          "output_type": "stream",
          "name": "stdout",
          "text": [
            "2023-02-05 09:53:01   eval.py --dataset_folder /content/tokyo_xs/ --resume_model /content/best_model.pth --backbone efficientnet_v2_s --grl_param 0.3\n",
            "2023-02-05 09:53:01   Arguments: Namespace(L=2, M=10, N=5, alpha=30, augmentation_device='cuda', backbone='efficientnet_v2_s', batch_size=32, brightness=0.7, channels=[225, 128, 128, 64, 64, 64, 64], classifiers_lr=0.01, consistency_w=0.1, contrast=0.7, dataset_folder='/content/tokyo_xs/', device='cuda', epochs_num=50, fc_output_dim=512, features_wise_w=10, grl_param=0.3, groups_num=8, hue=0.5, infer_batch_size=16, iterations_per_epoch=10000, k=0.6, kernel_sizes=[7, 5, 5, 5, 5, 5], loss_function='cosface', lr=1e-05, min_images_per_class=10, multi_scale=False, multi_scale_method='avg', night_brightness=0.1, night_test=False, num_reranked_preds=5, num_workers=8, optim='adam', positive_dist_threshold=25, qp_threshold=1.2, random_resized_crop=0.5, resize=[480, 640], resume_model='/content/best_model.pth', resume_train=None, saturation=0.7, save_dir='default', seed=0, select_resolutions=[0.526, 0.588, 1, 1.7, 1.9], source_dir=None, ss_w=1, target_dir=None, test_method='hard_resize', test_set_folder='/content/tokyo_xs/test', use_amp16=False, wd=None)\n",
            "2023-02-05 09:53:01   The outputs are being saved in logs/default/2023-02-05_09-53-01\n",
            "/usr/local/lib/python3.8/dist-packages/torchvision/models/_utils.py:208: UserWarning: The parameter 'pretrained' is deprecated since 0.13 and may be removed in the future, please use 'weights' instead.\n",
            "  warnings.warn(\n",
            "/usr/local/lib/python3.8/dist-packages/torchvision/models/_utils.py:223: UserWarning: Arguments other than a weight enum or `None` for 'weights' are deprecated since 0.13 and may be removed in the future. The current behavior is equivalent to passing `weights=EfficientNet_V2_S_Weights.IMAGENET1K_V1`. You can also use `weights=EfficientNet_V2_S_Weights.DEFAULT` to get the most up-to-date weights.\n",
            "  warnings.warn(msg)\n",
            "2023-02-05 09:53:01   Using efficient net v2s\n",
            "2023-02-05 09:53:01   Model uses weights IMAGENET1K_V1\n",
            "2023-02-05 09:53:02   There are 1 GPUs and 2 CPUs.\n",
            "2023-02-05 09:53:02   Loading model from /content/best_model.pth\n",
            "/usr/local/lib/python3.8/dist-packages/torch/utils/data/dataloader.py:554: UserWarning: This DataLoader will create 8 worker processes in total. Our suggested max number of worker in current system is 2, which is smaller than what this DataLoader is going to create. Please be aware that excessive worker creation might get DataLoader running slow or even freeze, lower the worker number to avoid potential slowness/freeze if necessary.\n",
            "  warnings.warn(_create_warning_msg(\n",
            "100%|█████████████████████████████████████████████████████████████| 799/799 [04:07<00:00,  3.23it/s]\n",
            "100%|█████████████████████████████████████████████████████████████| 315/315 [00:14<00:00, 22.04it/s]\n",
            "2023-02-05 09:57:26   < test - #q: 315; #db: 12771 >: R@1: 81.0, R@5: 91.4, R@10: 94.6, R@20: 96.8\n"
          ]
        }
      ]
    },
    {
      "cell_type": "markdown",
      "source": [
        "## EffientNetV2s + GRL on tokyo_night"
      ],
      "metadata": {
        "id": "4lemTRHaqHyN"
      }
    },
    {
      "cell_type": "code",
      "source": [
        "!python eval.py --dataset_folder /content/tokyo-night/  --resume_model /content/best_model.pth --backbone efficientnet_v2_s --grl_param 0.3 --night_test True --night_brightness 0.2 #file in logs.zip"
      ],
      "metadata": {
        "id": "p_FFesGy-497",
        "outputId": "60d85784-8820-4a1c-cdd7-42ed88155e07",
        "colab": {
          "base_uri": "https://localhost:8080/"
        }
      },
      "execution_count": null,
      "outputs": [
        {
          "output_type": "stream",
          "name": "stdout",
          "text": [
            "2023-02-05 09:58:05   eval.py --dataset_folder /content/tokyo-night/ --resume_model /content/best_model.pth --backbone efficientnet_v2_s --grl_param 0.3 --night_test True --night_brightness 0.2\n",
            "2023-02-05 09:58:05   Arguments: Namespace(L=2, M=10, N=5, alpha=30, augmentation_device='cuda', backbone='efficientnet_v2_s', batch_size=32, brightness=0.7, channels=[225, 128, 128, 64, 64, 64, 64], classifiers_lr=0.01, consistency_w=0.1, contrast=0.7, dataset_folder='/content/tokyo-night/', device='cuda', epochs_num=50, fc_output_dim=512, features_wise_w=10, grl_param=0.3, groups_num=8, hue=0.5, infer_batch_size=16, iterations_per_epoch=10000, k=0.6, kernel_sizes=[7, 5, 5, 5, 5, 5], loss_function='cosface', lr=1e-05, min_images_per_class=10, multi_scale=False, multi_scale_method='avg', night_brightness=0.2, night_test=True, num_reranked_preds=5, num_workers=8, optim='adam', positive_dist_threshold=25, qp_threshold=1.2, random_resized_crop=0.5, resize=[480, 640], resume_model='/content/best_model.pth', resume_train=None, saturation=0.7, save_dir='default', seed=0, select_resolutions=[0.526, 0.588, 1, 1.7, 1.9], source_dir=None, ss_w=1, target_dir=None, test_method='hard_resize', test_set_folder='/content/tokyo-night/test', use_amp16=False, wd=None)\n",
            "2023-02-05 09:58:05   The outputs are being saved in logs/default/2023-02-05_09-58-05\n",
            "/usr/local/lib/python3.8/dist-packages/torchvision/models/_utils.py:208: UserWarning: The parameter 'pretrained' is deprecated since 0.13 and may be removed in the future, please use 'weights' instead.\n",
            "  warnings.warn(\n",
            "/usr/local/lib/python3.8/dist-packages/torchvision/models/_utils.py:223: UserWarning: Arguments other than a weight enum or `None` for 'weights' are deprecated since 0.13 and may be removed in the future. The current behavior is equivalent to passing `weights=EfficientNet_V2_S_Weights.IMAGENET1K_V1`. You can also use `weights=EfficientNet_V2_S_Weights.DEFAULT` to get the most up-to-date weights.\n",
            "  warnings.warn(msg)\n",
            "2023-02-05 09:58:06   Using efficient net v2s\n",
            "2023-02-05 09:58:06   Model uses weights IMAGENET1K_V1\n",
            "2023-02-05 09:58:07   There are 1 GPUs and 2 CPUs.\n",
            "2023-02-05 09:58:07   Loading model from /content/best_model.pth\n",
            "/usr/local/lib/python3.8/dist-packages/torch/utils/data/dataloader.py:554: UserWarning: This DataLoader will create 8 worker processes in total. Our suggested max number of worker in current system is 2, which is smaller than what this DataLoader is going to create. Please be aware that excessive worker creation might get DataLoader running slow or even freeze, lower the worker number to avoid potential slowness/freeze if necessary.\n",
            "  warnings.warn(_create_warning_msg(\n",
            "100%|█████████████████████████████████████████████████████████████| 799/799 [04:06<00:00,  3.24it/s]\n",
            "100%|█████████████████████████████████████████████████████████████| 105/105 [00:06<00:00, 17.15it/s]\n",
            "2023-02-05 10:02:21   < test - #q: 105; #db: 12771 >: R@1: 73.3, R@5: 84.8, R@10: 90.5, R@20: 93.3\n"
          ]
        }
      ]
    },
    {
      "cell_type": "code",
      "source": [
        "!python eval.py --dataset_folder /content/tokyo-night/  --resume_model /content/best_model.pth --backbone efficientnet_v2_s --grl_param 0.3 #file in logs.zip"
      ],
      "metadata": {
        "id": "8xzYaTr6Bp1q"
      },
      "execution_count": null,
      "outputs": []
    },
    {
      "cell_type": "markdown",
      "source": [
        "# Step 4: Different backbone - Training of EfficientNetV2s (with no other change)"
      ],
      "metadata": {
        "id": "8MwD472tqNDW"
      }
    },
    {
      "cell_type": "code",
      "source": [
        "!python /content/train.py --dataset_folder /content/small --groups_num 1 --epochs_num 3 --backbone efficientnet_v2_s "
      ],
      "metadata": {
        "colab": {
          "base_uri": "https://localhost:8080/"
        },
        "id": "BIkMdKgtnfjH",
        "outputId": "035c40ad-60ea-454b-906d-89a99ecdbf89"
      },
      "execution_count": null,
      "outputs": [
        {
          "output_type": "stream",
          "name": "stdout",
          "text": [
            "2023-02-27 16:09:55   /content/train.py --dataset_folder /content/small --groups_num 1 --epochs_num 3 --backbone efficientnet_v2_s\n",
            "2023-02-27 16:09:55   Arguments: Namespace(L=2, M=10, N=5, alpha=30, augmentation_device='cuda', backbone='efficientnet_v2_s', batch_size=32, brightness=0.7, channels=[225, 128, 128, 64, 64, 64, 64], classifiers_lr=0.01, consistency_w=0.1, contrast=0.7, dataset_folder='/content/small', device='cuda', epochs_num=3, fc_output_dim=512, features_wise_w=10, grl_param=None, groups_num=1, hue=0.5, infer_batch_size=16, iterations_per_epoch=10000, k=0.6, kernel_sizes=[7, 5, 5, 5, 5, 5], loss_function='cosface', lr=1e-05, min_images_per_class=10, multi_scale=False, multi_scale_method='avg', night_brightness=0.1, night_test=False, num_reranked_preds=5, num_workers=8, optim='adam', positive_dist_threshold=25, qp_threshold=1.2, random_resized_crop=0.5, resize=[480, 640], resume_model=None, resume_train=None, saturation=0.7, save_dir='default', seed=0, select_resolutions=[0.526, 0.588, 1, 1.7, 1.9], source_dir=None, ss_w=1, target_dir=None, test_method='hard_resize', test_set_folder='/content/small/test', train_set_folder='/content/small/train', use_amp16=False, val_set_folder='/content/small/val', wd=None)\n",
            "2023-02-27 16:09:55   The outputs are being saved in logs/default/2023-02-27_16-09-55\n",
            "2023-02-27 16:09:55   Gradient Reversal Layer is disabled\n",
            "/usr/local/lib/python3.8/dist-packages/torchvision/models/_utils.py:208: UserWarning: The parameter 'pretrained' is deprecated since 0.13 and may be removed in the future, please use 'weights' instead.\n",
            "  warnings.warn(\n",
            "/usr/local/lib/python3.8/dist-packages/torchvision/models/_utils.py:223: UserWarning: Arguments other than a weight enum or `None` for 'weights' are deprecated since 0.13 and may be removed in the future. The current behavior is equivalent to passing `weights=EfficientNet_V2_S_Weights.IMAGENET1K_V1`. You can also use `weights=EfficientNet_V2_S_Weights.DEFAULT` to get the most up-to-date weights.\n",
            "  warnings.warn(msg)\n",
            "2023-02-27 16:09:55   Using efficient net v2s\n",
            "2023-02-27 16:09:55   Model uses weights IMAGENET1K_V1\n",
            "2023-02-27 16:09:56   Train last two layers of EfficientNet, freeze the previous ones\n",
            "2023-02-27 16:09:57   There are 1 GPUs and 12 CPUs.\n",
            "2023-02-27 16:09:58   Using cached dataset cache/small_M10_N5_mipc10.torch\n",
            "2023-02-27 16:09:58   Using cosface loss function.\n",
            "2023-02-27 16:09:58   Using 1 groups\n",
            "2023-02-27 16:09:58   The 1 groups have respectively the following number of classes [5965]\n",
            "2023-02-27 16:09:58   The 1 groups have respectively the following number of images [59650]\n",
            "2023-02-27 16:09:59   Validation set: < val - #q: 7993; #db: 8015 >\n",
            "2023-02-27 16:09:59   Test set: < test - #q: 1000; #db: 27191 >\n",
            "2023-02-27 16:09:59   Start training ...\n",
            "2023-02-27 16:09:59   There are 5965 classes for the first group, each epoch has 10000 iterations with batch_size 32, therefore the model sees each class (on average) 53.6 times per epoch\n",
            "100%|█████████████████████████████████████████████████████████| 10000/10000 [33:43<00:00,  4.94it/s]\n",
            "2023-02-27 16:43:42   Epoch 00 in 0:33:43, loss = 8.8771\n",
            "2023-02-27 16:43:42   Extracting database descriptors for evaluation/testing\n",
            "100%|█████████████████████████████████████████████████████████████| 501/501 [00:23<00:00, 21.11it/s]\n",
            "2023-02-27 16:44:06   Extracting queries descriptors for evaluation/testing using batch size 1\n",
            "100%|███████████████████████████████████████████████████████████| 7993/7993 [05:44<00:00, 23.19it/s]\n",
            "2023-02-27 16:49:51   Calculating recalls\n",
            "2023-02-27 16:49:52   Epoch 00 in 0:39:53, < val - #q: 7993; #db: 8015 >: R@1: 83.1, R@5: 91.1\n",
            "100%|█████████████████████████████████████████████████████████| 10000/10000 [33:45<00:00,  4.94it/s]\n",
            "2023-02-27 17:23:39   Epoch 01 in 0:33:46, loss = 3.6247\n",
            "2023-02-27 17:23:39   Extracting database descriptors for evaluation/testing\n",
            "100%|█████████████████████████████████████████████████████████████| 501/501 [00:23<00:00, 21.13it/s]\n",
            "2023-02-27 17:24:02   Extracting queries descriptors for evaluation/testing using batch size 1\n",
            "100%|███████████████████████████████████████████████████████████| 7993/7993 [05:45<00:00, 23.15it/s]\n",
            "2023-02-27 17:29:48   Calculating recalls\n",
            "2023-02-27 17:29:49   Epoch 01 in 0:39:56, < val - #q: 7993; #db: 8015 >: R@1: 86.7, R@5: 93.2\n",
            "100%|█████████████████████████████████████████████████████████| 10000/10000 [33:47<00:00,  4.93it/s]\n",
            "2023-02-27 18:03:38   Epoch 02 in 0:33:48, loss = 2.4675\n",
            "2023-02-27 18:03:38   Extracting database descriptors for evaluation/testing\n",
            "100%|█████████████████████████████████████████████████████████████| 501/501 [00:23<00:00, 21.34it/s]\n",
            "2023-02-27 18:04:02   Extracting queries descriptors for evaluation/testing using batch size 1\n",
            "100%|███████████████████████████████████████████████████████████| 7993/7993 [05:46<00:00, 23.09it/s]\n",
            "2023-02-27 18:09:48   Calculating recalls\n",
            "2023-02-27 18:09:49   Epoch 02 in 0:39:59, < val - #q: 7993; #db: 8015 >: R@1: 87.8, R@5: 93.7\n",
            "2023-02-27 18:09:50   Trained for 03 epochs, in total in 1:59:54\n",
            "2023-02-27 18:09:50   Now testing on the test set: < test - #q: 1000; #db: 27191 >\n",
            "2023-02-27 18:09:50   Extracting database descriptors for evaluation/testing\n",
            "100%|███████████████████████████████████████████████████████████| 1700/1700 [01:18<00:00, 21.70it/s]\n",
            "2023-02-27 18:11:08   Extracting queries descriptors for evaluation/testing using batch size 1\n",
            "100%|███████████████████████████████████████████████████████████| 1000/1000 [00:42<00:00, 23.27it/s]\n",
            "2023-02-27 18:11:51   Calculating recalls\n",
            "2023-02-27 18:11:52   < test - #q: 1000; #db: 27191 >: R@1: 63.9, R@5: 74.7, R@10: 79.4, R@20: 82.9\n",
            "2023-02-27 18:11:52   Experiment finished (without any errors)\n"
          ]
        }
      ]
    },
    {
      "cell_type": "markdown",
      "source": [
        "## Test with EfficientNetV2s (no GRL) "
      ],
      "metadata": {
        "id": "fRm4SQi9hTmL"
      }
    },
    {
      "cell_type": "markdown",
      "source": [
        "### Test on sf-xs"
      ],
      "metadata": {
        "id": "5xpCyStChaEK"
      }
    },
    {
      "cell_type": "code",
      "source": [
        "!python eval.py --dataset_folder /content/small/  --resume_model /content/eff2vs/best_model.pth  --backbone efficientnet_v2_s #file in logs.zip"
      ],
      "metadata": {
        "colab": {
          "base_uri": "https://localhost:8080/"
        },
        "id": "VD_j9DVQhb7s",
        "outputId": "41483bcd-15e5-4c24-e398-9c8cc57e492a"
      },
      "execution_count": null,
      "outputs": [
        {
          "output_type": "stream",
          "name": "stdout",
          "text": [
            "2023-02-28 10:56:07   eval.py --dataset_folder /content/small/ --resume_model /content/eff2vs/best_model.pth --backbone efficientnet_v2_s\n",
            "2023-02-28 10:56:07   Arguments: Namespace(L=2, M=10, N=5, alpha=30, augmentation_device='cuda', backbone='efficientnet_v2_s', batch_size=32, brightness=0.7, channels=[225, 128, 128, 64, 64, 64, 64], classifiers_lr=0.01, consistency_w=0.1, contrast=0.7, dataset_folder='/content/small/', device='cuda', epochs_num=50, fc_output_dim=512, features_wise_w=10, grl_param=None, groups_num=8, hue=0.5, infer_batch_size=16, iterations_per_epoch=10000, k=0.6, kernel_sizes=[7, 5, 5, 5, 5, 5], loss_function='cosface', lr=1e-05, min_images_per_class=10, multi_scale=False, multi_scale_method='avg', night_brightness=0.1, night_test=False, num_reranked_preds=5, num_workers=8, optim='adam', positive_dist_threshold=25, qp_threshold=1.2, random_resized_crop=0.5, resize=[480, 640], resume_model='/content/eff2vs/best_model.pth', resume_train=None, saturation=0.7, save_dir='default', seed=0, select_resolutions=[0.526, 0.588, 1, 1.7, 1.9], source_dir=None, ss_w=1, target_dir=None, test_method='hard_resize', test_set_folder='/content/small/test', use_amp16=False, wd=None)\n",
            "2023-02-28 10:56:07   The outputs are being saved in logs/default/2023-02-28_10-56-07\n",
            "/usr/local/lib/python3.8/dist-packages/torchvision/models/_utils.py:208: UserWarning: The parameter 'pretrained' is deprecated since 0.13 and may be removed in the future, please use 'weights' instead.\n",
            "  warnings.warn(\n",
            "/usr/local/lib/python3.8/dist-packages/torchvision/models/_utils.py:223: UserWarning: Arguments other than a weight enum or `None` for 'weights' are deprecated since 0.13 and may be removed in the future. The current behavior is equivalent to passing `weights=EfficientNet_V2_S_Weights.IMAGENET1K_V1`. You can also use `weights=EfficientNet_V2_S_Weights.DEFAULT` to get the most up-to-date weights.\n",
            "  warnings.warn(msg)\n",
            "Downloading: \"https://download.pytorch.org/models/efficientnet_v2_s-dd5fe13b.pth\" to /root/.cache/torch/hub/checkpoints/efficientnet_v2_s-dd5fe13b.pth\n",
            "100% 82.7M/82.7M [00:01<00:00, 60.6MB/s]\n",
            "2023-02-28 10:56:10   Using efficient net v2s\n",
            "2023-02-28 10:56:10   Model uses weights IMAGENET1K_V1\n",
            "2023-02-28 10:56:12   There are 1 GPUs and 2 CPUs.\n",
            "2023-02-28 10:56:12   Loading model from /content/eff2vs/best_model.pth\n",
            "/usr/local/lib/python3.8/dist-packages/torch/utils/data/dataloader.py:554: UserWarning: This DataLoader will create 8 worker processes in total. Our suggested max number of worker in current system is 2, which is smaller than what this DataLoader is going to create. Please be aware that excessive worker creation might get DataLoader running slow or even freeze, lower the worker number to avoid potential slowness/freeze if necessary.\n",
            "  warnings.warn(_create_warning_msg(\n",
            "100%|███████████████████████████████████████████████████████████| 1700/1700 [07:16<00:00,  3.89it/s]\n",
            "100%|███████████████████████████████████████████████████████████| 1000/1000 [00:45<00:00, 21.77it/s]\n",
            "2023-02-28 11:04:20   < test - #q: 1000; #db: 27191 >: R@1: 62.5, R@5: 74.5, R@10: 78.3, R@20: 81.5\n"
          ]
        }
      ]
    },
    {
      "cell_type": "markdown",
      "source": [
        "### Test on tokyo-xs"
      ],
      "metadata": {
        "id": "0xoGmmnfhcfC"
      }
    },
    {
      "cell_type": "markdown",
      "source": [
        "Rinominare queries in queries_v1"
      ],
      "metadata": {
        "id": "2iyQ3AYYs2dF"
      }
    },
    {
      "cell_type": "code",
      "source": [
        "!python eval.py --dataset_folder /content/tokyo_xs/  --resume_model /content/eff2vs/best_model.pth --backbone efficientnet_v2_s #file in logs.zip"
      ],
      "metadata": {
        "colab": {
          "base_uri": "https://localhost:8080/"
        },
        "id": "-bVwp_VwheHb",
        "outputId": "fc69fa3d-24fd-44fc-9cc6-0d3679c93a67"
      },
      "execution_count": null,
      "outputs": [
        {
          "output_type": "stream",
          "name": "stdout",
          "text": [
            "2023-02-28 11:06:13   eval.py --dataset_folder /content/tokyo_xs/ --resume_model /content/eff2vs/best_model.pth --backbone efficientnet_v2_s\n",
            "2023-02-28 11:06:13   Arguments: Namespace(L=2, M=10, N=5, alpha=30, augmentation_device='cuda', backbone='efficientnet_v2_s', batch_size=32, brightness=0.7, channels=[225, 128, 128, 64, 64, 64, 64], classifiers_lr=0.01, consistency_w=0.1, contrast=0.7, dataset_folder='/content/tokyo_xs/', device='cuda', epochs_num=50, fc_output_dim=512, features_wise_w=10, grl_param=None, groups_num=8, hue=0.5, infer_batch_size=16, iterations_per_epoch=10000, k=0.6, kernel_sizes=[7, 5, 5, 5, 5, 5], loss_function='cosface', lr=1e-05, min_images_per_class=10, multi_scale=False, multi_scale_method='avg', night_brightness=0.1, night_test=False, num_reranked_preds=5, num_workers=8, optim='adam', positive_dist_threshold=25, qp_threshold=1.2, random_resized_crop=0.5, resize=[480, 640], resume_model='/content/eff2vs/best_model.pth', resume_train=None, saturation=0.7, save_dir='default', seed=0, select_resolutions=[0.526, 0.588, 1, 1.7, 1.9], source_dir=None, ss_w=1, target_dir=None, test_method='hard_resize', test_set_folder='/content/tokyo_xs/test', use_amp16=False, wd=None)\n",
            "2023-02-28 11:06:13   The outputs are being saved in logs/default/2023-02-28_11-06-13\n",
            "/usr/local/lib/python3.8/dist-packages/torchvision/models/_utils.py:208: UserWarning: The parameter 'pretrained' is deprecated since 0.13 and may be removed in the future, please use 'weights' instead.\n",
            "  warnings.warn(\n",
            "/usr/local/lib/python3.8/dist-packages/torchvision/models/_utils.py:223: UserWarning: Arguments other than a weight enum or `None` for 'weights' are deprecated since 0.13 and may be removed in the future. The current behavior is equivalent to passing `weights=EfficientNet_V2_S_Weights.IMAGENET1K_V1`. You can also use `weights=EfficientNet_V2_S_Weights.DEFAULT` to get the most up-to-date weights.\n",
            "  warnings.warn(msg)\n",
            "2023-02-28 11:06:13   Using efficient net v2s\n",
            "2023-02-28 11:06:13   Model uses weights IMAGENET1K_V1\n",
            "2023-02-28 11:06:15   There are 1 GPUs and 2 CPUs.\n",
            "2023-02-28 11:06:15   Loading model from /content/eff2vs/best_model.pth\n",
            "/usr/local/lib/python3.8/dist-packages/torch/utils/data/dataloader.py:554: UserWarning: This DataLoader will create 8 worker processes in total. Our suggested max number of worker in current system is 2, which is smaller than what this DataLoader is going to create. Please be aware that excessive worker creation might get DataLoader running slow or even freeze, lower the worker number to avoid potential slowness/freeze if necessary.\n",
            "  warnings.warn(_create_warning_msg(\n",
            "100%|█████████████████████████████████████████████████████████████| 799/799 [04:03<00:00,  3.27it/s]\n",
            "100%|█████████████████████████████████████████████████████████████| 315/315 [00:14<00:00, 21.87it/s]\n",
            "2023-02-28 11:10:36   < test - #q: 315; #db: 12771 >: R@1: 80.0, R@5: 90.8, R@10: 94.3, R@20: 96.2\n"
          ]
        }
      ]
    },
    {
      "cell_type": "markdown",
      "source": [
        "### Test on tokyo-night"
      ],
      "metadata": {
        "id": "uJv-xdKbheVy"
      }
    },
    {
      "cell_type": "code",
      "source": [
        "!python eval.py --dataset_folder /content/tokyo-night/  --resume_model /content/eff2vs/best_model.pth --backbone efficientnet_v2_s --night_test True --night_brightness 0.2 #file in logs.zip"
      ],
      "metadata": {
        "colab": {
          "base_uri": "https://localhost:8080/"
        },
        "id": "8F5x0Aj4hggC",
        "outputId": "8b64dcf6-2aed-411d-a10e-2540b3394375"
      },
      "execution_count": null,
      "outputs": [
        {
          "output_type": "stream",
          "name": "stdout",
          "text": [
            "2023-02-28 11:11:43   eval.py --dataset_folder /content/tokyo-night/ --resume_model /content/eff2vs/best_model.pth --backbone efficientnet_v2_s --night_test True --night_brightness 0.2\n",
            "2023-02-28 11:11:43   Arguments: Namespace(L=2, M=10, N=5, alpha=30, augmentation_device='cuda', backbone='efficientnet_v2_s', batch_size=32, brightness=0.7, channels=[225, 128, 128, 64, 64, 64, 64], classifiers_lr=0.01, consistency_w=0.1, contrast=0.7, dataset_folder='/content/tokyo-night/', device='cuda', epochs_num=50, fc_output_dim=512, features_wise_w=10, grl_param=None, groups_num=8, hue=0.5, infer_batch_size=16, iterations_per_epoch=10000, k=0.6, kernel_sizes=[7, 5, 5, 5, 5, 5], loss_function='cosface', lr=1e-05, min_images_per_class=10, multi_scale=False, multi_scale_method='avg', night_brightness=0.2, night_test=True, num_reranked_preds=5, num_workers=8, optim='adam', positive_dist_threshold=25, qp_threshold=1.2, random_resized_crop=0.5, resize=[480, 640], resume_model='/content/eff2vs/best_model.pth', resume_train=None, saturation=0.7, save_dir='default', seed=0, select_resolutions=[0.526, 0.588, 1, 1.7, 1.9], source_dir=None, ss_w=1, target_dir=None, test_method='hard_resize', test_set_folder='/content/tokyo-night/test', use_amp16=False, wd=None)\n",
            "2023-02-28 11:11:43   The outputs are being saved in logs/default/2023-02-28_11-11-43\n",
            "/usr/local/lib/python3.8/dist-packages/torchvision/models/_utils.py:208: UserWarning: The parameter 'pretrained' is deprecated since 0.13 and may be removed in the future, please use 'weights' instead.\n",
            "  warnings.warn(\n",
            "/usr/local/lib/python3.8/dist-packages/torchvision/models/_utils.py:223: UserWarning: Arguments other than a weight enum or `None` for 'weights' are deprecated since 0.13 and may be removed in the future. The current behavior is equivalent to passing `weights=EfficientNet_V2_S_Weights.IMAGENET1K_V1`. You can also use `weights=EfficientNet_V2_S_Weights.DEFAULT` to get the most up-to-date weights.\n",
            "  warnings.warn(msg)\n",
            "2023-02-28 11:11:43   Using efficient net v2s\n",
            "2023-02-28 11:11:43   Model uses weights IMAGENET1K_V1\n",
            "2023-02-28 11:11:44   There are 1 GPUs and 2 CPUs.\n",
            "2023-02-28 11:11:44   Loading model from /content/eff2vs/best_model.pth\n",
            "/usr/local/lib/python3.8/dist-packages/torch/utils/data/dataloader.py:554: UserWarning: This DataLoader will create 8 worker processes in total. Our suggested max number of worker in current system is 2, which is smaller than what this DataLoader is going to create. Please be aware that excessive worker creation might get DataLoader running slow or even freeze, lower the worker number to avoid potential slowness/freeze if necessary.\n",
            "  warnings.warn(_create_warning_msg(\n",
            "100%|█████████████████████████████████████████████████████████████| 799/799 [04:04<00:00,  3.27it/s]\n",
            "100%|█████████████████████████████████████████████████████████████| 105/105 [00:06<00:00, 16.14it/s]\n",
            "2023-02-28 11:15:57   < test - #q: 105; #db: 12771 >: R@1: 73.3, R@5: 87.6, R@10: 90.5, R@20: 94.3\n"
          ]
        }
      ]
    },
    {
      "cell_type": "code",
      "source": [
        "!python eval.py --dataset_folder /content/tokyo-night/  --resume_model /content/eff2vs/best_model.pth --backbone efficientnet_v2_s "
      ],
      "metadata": {
        "colab": {
          "base_uri": "https://localhost:8080/"
        },
        "id": "-vLXk1Seqix9",
        "outputId": "3575f361-9332-4505-8532-ec0af1ad19ab"
      },
      "execution_count": null,
      "outputs": [
        {
          "output_type": "stream",
          "name": "stdout",
          "text": [
            "2023-02-28 11:16:09   eval.py --dataset_folder /content/tokyo-night/ --resume_model /content/eff2vs/best_model.pth --backbone efficientnet_v2_s\n",
            "2023-02-28 11:16:09   Arguments: Namespace(L=2, M=10, N=5, alpha=30, augmentation_device='cuda', backbone='efficientnet_v2_s', batch_size=32, brightness=0.7, channels=[225, 128, 128, 64, 64, 64, 64], classifiers_lr=0.01, consistency_w=0.1, contrast=0.7, dataset_folder='/content/tokyo-night/', device='cuda', epochs_num=50, fc_output_dim=512, features_wise_w=10, grl_param=None, groups_num=8, hue=0.5, infer_batch_size=16, iterations_per_epoch=10000, k=0.6, kernel_sizes=[7, 5, 5, 5, 5, 5], loss_function='cosface', lr=1e-05, min_images_per_class=10, multi_scale=False, multi_scale_method='avg', night_brightness=0.1, night_test=False, num_reranked_preds=5, num_workers=8, optim='adam', positive_dist_threshold=25, qp_threshold=1.2, random_resized_crop=0.5, resize=[480, 640], resume_model='/content/eff2vs/best_model.pth', resume_train=None, saturation=0.7, save_dir='default', seed=0, select_resolutions=[0.526, 0.588, 1, 1.7, 1.9], source_dir=None, ss_w=1, target_dir=None, test_method='hard_resize', test_set_folder='/content/tokyo-night/test', use_amp16=False, wd=None)\n",
            "2023-02-28 11:16:09   The outputs are being saved in logs/default/2023-02-28_11-16-09\n",
            "/usr/local/lib/python3.8/dist-packages/torchvision/models/_utils.py:208: UserWarning: The parameter 'pretrained' is deprecated since 0.13 and may be removed in the future, please use 'weights' instead.\n",
            "  warnings.warn(\n",
            "/usr/local/lib/python3.8/dist-packages/torchvision/models/_utils.py:223: UserWarning: Arguments other than a weight enum or `None` for 'weights' are deprecated since 0.13 and may be removed in the future. The current behavior is equivalent to passing `weights=EfficientNet_V2_S_Weights.IMAGENET1K_V1`. You can also use `weights=EfficientNet_V2_S_Weights.DEFAULT` to get the most up-to-date weights.\n",
            "  warnings.warn(msg)\n",
            "2023-02-28 11:16:10   Using efficient net v2s\n",
            "2023-02-28 11:16:10   Model uses weights IMAGENET1K_V1\n",
            "2023-02-28 11:16:11   There are 1 GPUs and 2 CPUs.\n",
            "2023-02-28 11:16:11   Loading model from /content/eff2vs/best_model.pth\n",
            "/usr/local/lib/python3.8/dist-packages/torch/utils/data/dataloader.py:554: UserWarning: This DataLoader will create 8 worker processes in total. Our suggested max number of worker in current system is 2, which is smaller than what this DataLoader is going to create. Please be aware that excessive worker creation might get DataLoader running slow or even freeze, lower the worker number to avoid potential slowness/freeze if necessary.\n",
            "  warnings.warn(_create_warning_msg(\n",
            "100%|█████████████████████████████████████████████████████████████| 799/799 [04:04<00:00,  3.27it/s]\n",
            "100%|█████████████████████████████████████████████████████████████| 105/105 [00:04<00:00, 22.65it/s]\n",
            "2023-02-28 11:20:22   < test - #q: 105; #db: 12771 >: R@1: 70.5, R@5: 85.7, R@10: 91.4, R@20: 93.3\n"
          ]
        }
      ]
    },
    {
      "cell_type": "markdown",
      "source": [
        "# Step 4: Different backbone - EfficientNetV2s + GeoWarp"
      ],
      "metadata": {
        "id": "fUxjeTtBwY4u"
      }
    },
    {
      "cell_type": "markdown",
      "source": [
        "## Training GeoWarp with EfficientNetV2s "
      ],
      "metadata": {
        "id": "QaTVgI4zxYrv"
      }
    },
    {
      "cell_type": "code",
      "source": [
        "!python /content/train_geowarp.py --dataset_folder /content/small --groups_num 1 --epochs_num 3 --backbone efficientnet_v2_s\n",
        "#BE CAREFUL: THE MODEL IS ALREADY TRAINED AND IT IS IN geowarp_model"
      ],
      "metadata": {
        "id": "pOuSq3iExcqX",
        "colab": {
          "base_uri": "https://localhost:8080/"
        },
        "outputId": "ed623c9c-bcca-41c4-9461-4a203294c6b8"
      },
      "execution_count": null,
      "outputs": [
        {
          "output_type": "stream",
          "name": "stdout",
          "text": [
            "2023-02-28 15:41:22   /content/train_geowarp.py --dataset_folder /content/small --groups_num 1 --epochs_num 3 --backbone efficientnet_v2_s\n",
            "2023-02-28 15:41:22   Arguments: Namespace(L=2, M=10, N=5, alpha=30, augmentation_device='cuda', backbone='efficientnet_v2_s', batch_size=32, brightness=0.7, channels=[225, 128, 128, 64, 64, 64, 64], classifiers_lr=0.01, consistency_w=0.1, contrast=0.7, dataset_folder='/content/small', device='cuda', epochs_num=3, fc_output_dim=512, features_wise_w=10, grl_param=None, groups_num=1, hue=0.5, infer_batch_size=16, iterations_per_epoch=10000, k=0.6, kernel_sizes=[7, 5, 5, 5, 5, 5], loss_function='cosface', lr=1e-05, min_images_per_class=10, multi_scale=False, multi_scale_method='avg', night_brightness=0.1, night_test=False, num_reranked_preds=5, num_workers=8, optim='adam', positive_dist_threshold=25, qp_threshold=1.2, random_resized_crop=0.5, resize=[480, 640], resume_model=None, resume_train=None, saturation=0.7, save_dir='default', seed=0, select_resolutions=[0.526, 0.588, 1, 1.7, 1.9], source_dir=None, ss_w=1, target_dir=None, test_method='hard_resize', test_set_folder='/content/small/test', train_set_folder='/content/small/train', use_amp16=False, val_set_folder='/content/small/val', wd=None)\n",
            "2023-02-28 15:41:22   The outputs are being saved in logs/default/2023-02-28_15-41-22\n",
            "/usr/local/lib/python3.8/dist-packages/torchvision/models/_utils.py:208: UserWarning: The parameter 'pretrained' is deprecated since 0.13 and may be removed in the future, please use 'weights' instead.\n",
            "  warnings.warn(\n",
            "/usr/local/lib/python3.8/dist-packages/torchvision/models/_utils.py:223: UserWarning: Arguments other than a weight enum or `None` for 'weights' are deprecated since 0.13 and may be removed in the future. The current behavior is equivalent to passing `weights=EfficientNet_V2_S_Weights.IMAGENET1K_V1`. You can also use `weights=EfficientNet_V2_S_Weights.DEFAULT` to get the most up-to-date weights.\n",
            "  warnings.warn(msg)\n",
            "Downloading: \"https://download.pytorch.org/models/efficientnet_v2_s-dd5fe13b.pth\" to /root/.cache/torch/hub/checkpoints/efficientnet_v2_s-dd5fe13b.pth\n",
            "100% 82.7M/82.7M [00:00<00:00, 208MB/s]\n",
            "2023-02-28 15:41:23   Using efficient net v2s\n",
            "2023-02-28 15:41:23   Model uses weights IMAGENET1K_V1\n",
            "2023-02-28 15:41:23   Train last two layers of EfficientNet, freeze the previous ones\n",
            "2023-02-28 15:41:24   There are 1 GPUs and 12 CPUs.\n",
            "2023-02-28 15:41:24   WARNING: --resume_fe is set to None, meaning that the Feature Extractor is not initialized!\n",
            "2023-02-28 15:41:28   Cached dataset cache/small_M10_N5_mipc10.torch does not exist, I'll create it now.\n",
            "2023-02-28 15:41:28   Searching training images in /content/small/train\n",
            "2023-02-28 15:41:28   Found 59650 images\n",
            "2023-02-28 15:41:28   For each image, get its UTM east, UTM north and heading from its path\n",
            "2023-02-28 15:41:28   For each image, get class and group to which it belongs\n",
            "2023-02-28 15:41:29   Group together images belonging to the same class\n",
            "2023-02-28 15:41:29   Group together classes belonging to the same group\n",
            "2023-02-28 15:41:29   Validation set: < val - #q: 7993; #db: 8015 >\n",
            "2023-02-28 15:41:29   Test set: < test - #q: 1000; #db: 27191 >\n",
            "2023-02-28 15:41:29   Using cosface loss function.\n",
            "100%|███████████████████████████████████████████████████████| 10000/10000 [1:09:27<00:00,  2.40it/s]\n",
            "2023-02-28 16:50:57   Epoch 00 in 1:09:28, loss = 4.4542\n",
            "2023-02-28 16:50:57   Extracting database descriptors for evaluation/testing\n",
            "100%|█████████████████████████████████████████████████████████████| 501/501 [00:26<00:00, 19.18it/s]\n",
            "2023-02-28 16:51:23   Extracting queries descriptors for evaluation/testing using batch size 1\n",
            "100%|███████████████████████████████████████████████████████████| 7993/7993 [06:10<00:00, 21.55it/s]\n",
            "2023-02-28 16:57:34   Calculating recalls\n",
            "2023-02-28 16:57:36   Epoch 00 in 1:16:06, < val - #q: 7993; #db: 8015 >: R@1: 80.1, R@5: 89.4\n",
            "100%|███████████████████████████████████████████████████████| 10000/10000 [1:10:05<00:00,  2.38it/s]\n",
            "2023-02-28 18:07:43   Epoch 01 in 1:10:06, loss = 1.8135\n",
            "2023-02-28 18:07:43   Extracting database descriptors for evaluation/testing\n",
            "100%|█████████████████████████████████████████████████████████████| 501/501 [00:26<00:00, 18.94it/s]\n",
            "2023-02-28 18:08:09   Extracting queries descriptors for evaluation/testing using batch size 1\n",
            "100%|███████████████████████████████████████████████████████████| 7993/7993 [06:14<00:00, 21.36it/s]\n",
            "2023-02-28 18:14:24   Calculating recalls\n",
            "2023-02-28 18:14:25   Epoch 01 in 1:16:48, < val - #q: 7993; #db: 8015 >: R@1: 84.1, R@5: 91.8\n",
            "100%|███████████████████████████████████████████████████████| 10000/10000 [1:09:25<00:00,  2.40it/s]\n",
            "2023-02-28 19:23:53   Epoch 02 in 1:09:27, loss = 1.2402\n",
            "2023-02-28 19:23:53   Extracting database descriptors for evaluation/testing\n",
            "100%|█████████████████████████████████████████████████████████████| 501/501 [00:25<00:00, 19.40it/s]\n",
            "2023-02-28 19:24:19   Extracting queries descriptors for evaluation/testing using batch size 1\n",
            "100%|███████████████████████████████████████████████████████████| 7993/7993 [06:15<00:00, 21.31it/s]\n",
            "2023-02-28 19:30:34   Calculating recalls\n",
            "2023-02-28 19:30:35   Epoch 02 in 1:16:09, < val - #q: 7993; #db: 8015 >: R@1: 85.7, R@5: 92.6\n",
            "2023-02-28 19:30:36   The training is over in 3:49:14, now it's test time\n",
            "2023-02-28 19:30:36   Now testing on the test set: < test - #q: 1000; #db: 27191 >\n",
            "2023-02-28 19:30:36   Extracting database descriptors for evaluation/testing\n",
            "100%|███████████████████████████████████████████████████████████| 1700/1700 [01:26<00:00, 19.59it/s]\n",
            "2023-02-28 19:32:03   Extracting queries descriptors for evaluation/testing using batch size 1\n",
            "100%|███████████████████████████████████████████████████████████| 1000/1000 [00:46<00:00, 21.38it/s]\n",
            "2023-02-28 19:32:50   Calculating recalls\n",
            "2023-02-28 19:32:50   < test - #q: 1000; #db: 27191 >: R@1: 60.0, R@5: 73.2, R@10: 77.3, R@20: 80.9\n",
            "Testing: 100%|██████████████████████████████████████████████████| 1000/1000 [03:27<00:00,  4.81it/s]\n",
            "2023-02-28 19:36:18   test with no warping: R@1: 60.0, R@5: 73.2, R@10: 77.3, R@20: 80.9\n",
            "2023-02-28 19:36:18   test after warping - R@1: 67.0, R@5: 73.2, R@10: 77.3, R@20: 80.9\n",
            "2023-02-28 19:36:18   Experiment finished (without any errors)\n"
          ]
        }
      ]
    },
    {
      "cell_type": "markdown",
      "source": [
        "## Test on sf-xs"
      ],
      "metadata": {
        "id": "UPBUAVhoweDv"
      }
    },
    {
      "cell_type": "code",
      "source": [
        "!python /content/evalGeowarp.py --dataset_folder /content/small/ --resume_model /content/eff2vs_geowarp/best_model.pth --backbone efficientnet_v2_s #file in logs.zip"
      ],
      "metadata": {
        "id": "ve-Y-yULwfyX",
        "colab": {
          "base_uri": "https://localhost:8080/"
        },
        "outputId": "ee242c80-c2be-45ed-937d-c28bd912a6f0"
      },
      "execution_count": null,
      "outputs": [
        {
          "output_type": "stream",
          "name": "stdout",
          "text": [
            "2023-02-28 22:50:47   /content/evalGeowarp.py --dataset_folder /content/small/ --resume_model /content/eff2vs_geowarp/best_model.pth --backbone efficientnet_v2_s\n",
            "2023-02-28 22:50:47   Arguments: Namespace(L=2, M=10, N=5, alpha=30, augmentation_device='cuda', backbone='efficientnet_v2_s', batch_size=32, brightness=0.7, channels=[225, 128, 128, 64, 64, 64, 64], classifiers_lr=0.01, consistency_w=0.1, contrast=0.7, dataset_folder='/content/small/', device='cuda', epochs_num=50, fc_output_dim=512, features_wise_w=10, grl_param=None, groups_num=8, hue=0.5, infer_batch_size=16, iterations_per_epoch=10000, k=0.6, kernel_sizes=[7, 5, 5, 5, 5, 5], loss_function='cosface', lr=1e-05, min_images_per_class=10, multi_scale=False, multi_scale_method='avg', night_brightness=0.1, night_test=False, num_reranked_preds=5, num_workers=8, optim='adam', positive_dist_threshold=25, qp_threshold=1.2, random_resized_crop=0.5, resize=[480, 640], resume_model='/content/eff2vs_geowarp/best_model.pth', resume_train=None, saturation=0.7, save_dir='default', seed=0, select_resolutions=[0.526, 0.588, 1, 1.7, 1.9], source_dir=None, ss_w=1, target_dir=None, test_method='hard_resize', test_set_folder='/content/small/test', use_amp16=False, wd=None)\n",
            "2023-02-28 22:50:47   The outputs are being saved in logs/default/2023-02-28_22-50-47\n",
            "/usr/local/lib/python3.8/dist-packages/torchvision/models/_utils.py:208: UserWarning: The parameter 'pretrained' is deprecated since 0.13 and may be removed in the future, please use 'weights' instead.\n",
            "  warnings.warn(\n",
            "/usr/local/lib/python3.8/dist-packages/torchvision/models/_utils.py:223: UserWarning: Arguments other than a weight enum or `None` for 'weights' are deprecated since 0.13 and may be removed in the future. The current behavior is equivalent to passing `weights=EfficientNet_V2_S_Weights.IMAGENET1K_V1`. You can also use `weights=EfficientNet_V2_S_Weights.DEFAULT` to get the most up-to-date weights.\n",
            "  warnings.warn(msg)\n",
            "Downloading: \"https://download.pytorch.org/models/efficientnet_v2_s-dd5fe13b.pth\" to /root/.cache/torch/hub/checkpoints/efficientnet_v2_s-dd5fe13b.pth\n",
            "100% 82.7M/82.7M [00:00<00:00, 314MB/s]\n",
            "2023-02-28 22:50:48   Using efficient net v2s\n",
            "2023-02-28 22:50:48   Model uses weights IMAGENET1K_V1\n",
            "2023-02-28 22:50:55   There are 1 GPUs and 2 CPUs.\n",
            "2023-02-28 22:50:55   Loading model from /content/eff2vs_geowarp/best_model.pth\n",
            "2023-02-28 22:50:56   Start testing\n",
            "/usr/local/lib/python3.8/dist-packages/torch/utils/data/dataloader.py:554: UserWarning: This DataLoader will create 8 worker processes in total. Our suggested max number of worker in current system is 2, which is smaller than what this DataLoader is going to create. Please be aware that excessive worker creation might get DataLoader running slow or even freeze, lower the worker number to avoid potential slowness/freeze if necessary.\n",
            "  warnings.warn(_create_warning_msg(\n",
            "100%|███████████████████████████████████████████████████████████| 1700/1700 [07:53<00:00,  3.59it/s]\n",
            "100%|███████████████████████████████████████████████████████████| 1000/1000 [00:50<00:00, 19.64it/s]\n",
            "2023-02-28 22:59:41   Start re-ranking\n",
            "Testing: 100%|██████████████████████████████████████████████████| 1000/1000 [07:03<00:00,  2.36it/s]\n",
            "2023-02-28 23:06:45   Test without warping: < test - #q: 1000; #db: 27191 >: R@1: 60.0, R@5: 73.3, R@10: 77.3, R@20: 80.9\n",
            "2023-02-28 23:06:45     Test after warping: < test - #q: 1000; #db: 27191 >: R@1: 67.1, R@5: 73.3, R@10: 77.3, R@20: 80.9\n",
            "2023-02-28 23:06:45   Experiment finished (without any errors)\n"
          ]
        }
      ]
    },
    {
      "cell_type": "markdown",
      "source": [
        "## Test on tokyo-xs"
      ],
      "metadata": {
        "id": "uw43U9Z7wf-u"
      }
    },
    {
      "cell_type": "code",
      "source": [
        "!python /content/evalGeowarp.py --dataset_folder /content/tokyo_xs --resume_model /content/eff2vs_geowarp/best_model.pth --backbone efficientnet_v2_s #file in logs.zip"
      ],
      "metadata": {
        "id": "rXKRou2BwiH-",
        "colab": {
          "base_uri": "https://localhost:8080/"
        },
        "outputId": "3105289c-554c-4aea-c890-6b84fb53af46"
      },
      "execution_count": null,
      "outputs": [
        {
          "output_type": "stream",
          "name": "stdout",
          "text": [
            "2023-02-28 23:07:12   /content/evalGeowarp.py --dataset_folder /content/tokyo_xs --resume_model /content/eff2vs_geowarp/best_model.pth --backbone efficientnet_v2_s\n",
            "2023-02-28 23:07:12   Arguments: Namespace(L=2, M=10, N=5, alpha=30, augmentation_device='cuda', backbone='efficientnet_v2_s', batch_size=32, brightness=0.7, channels=[225, 128, 128, 64, 64, 64, 64], classifiers_lr=0.01, consistency_w=0.1, contrast=0.7, dataset_folder='/content/tokyo_xs', device='cuda', epochs_num=50, fc_output_dim=512, features_wise_w=10, grl_param=None, groups_num=8, hue=0.5, infer_batch_size=16, iterations_per_epoch=10000, k=0.6, kernel_sizes=[7, 5, 5, 5, 5, 5], loss_function='cosface', lr=1e-05, min_images_per_class=10, multi_scale=False, multi_scale_method='avg', night_brightness=0.1, night_test=False, num_reranked_preds=5, num_workers=8, optim='adam', positive_dist_threshold=25, qp_threshold=1.2, random_resized_crop=0.5, resize=[480, 640], resume_model='/content/eff2vs_geowarp/best_model.pth', resume_train=None, saturation=0.7, save_dir='default', seed=0, select_resolutions=[0.526, 0.588, 1, 1.7, 1.9], source_dir=None, ss_w=1, target_dir=None, test_method='hard_resize', test_set_folder='/content/tokyo_xs/test', use_amp16=False, wd=None)\n",
            "2023-02-28 23:07:12   The outputs are being saved in logs/default/2023-02-28_23-07-12\n",
            "/usr/local/lib/python3.8/dist-packages/torchvision/models/_utils.py:208: UserWarning: The parameter 'pretrained' is deprecated since 0.13 and may be removed in the future, please use 'weights' instead.\n",
            "  warnings.warn(\n",
            "/usr/local/lib/python3.8/dist-packages/torchvision/models/_utils.py:223: UserWarning: Arguments other than a weight enum or `None` for 'weights' are deprecated since 0.13 and may be removed in the future. The current behavior is equivalent to passing `weights=EfficientNet_V2_S_Weights.IMAGENET1K_V1`. You can also use `weights=EfficientNet_V2_S_Weights.DEFAULT` to get the most up-to-date weights.\n",
            "  warnings.warn(msg)\n",
            "2023-02-28 23:07:12   Using efficient net v2s\n",
            "2023-02-28 23:07:12   Model uses weights IMAGENET1K_V1\n",
            "2023-02-28 23:07:16   There are 1 GPUs and 2 CPUs.\n",
            "2023-02-28 23:07:16   Loading model from /content/eff2vs_geowarp/best_model.pth\n",
            "2023-02-28 23:07:16   Start testing\n",
            "/usr/local/lib/python3.8/dist-packages/torch/utils/data/dataloader.py:554: UserWarning: This DataLoader will create 8 worker processes in total. Our suggested max number of worker in current system is 2, which is smaller than what this DataLoader is going to create. Please be aware that excessive worker creation might get DataLoader running slow or even freeze, lower the worker number to avoid potential slowness/freeze if necessary.\n",
            "  warnings.warn(_create_warning_msg(\n",
            "100%|█████████████████████████████████████████████████████████████| 799/799 [04:32<00:00,  2.93it/s]\n",
            "100%|█████████████████████████████████████████████████████████████| 315/315 [00:16<00:00, 18.80it/s]\n",
            "2023-02-28 23:12:06   Start re-ranking\n",
            "Testing: 100%|████████████████████████████████████████████████████| 315/315 [02:23<00:00,  2.20it/s]\n",
            "2023-02-28 23:14:29   Test without warping: < test - #q: 315; #db: 12771 >: R@1: 78.4, R@5: 90.5, R@10: 93.7, R@20: 96.8\n",
            "2023-02-28 23:14:29     Test after warping: < test - #q: 315; #db: 12771 >: R@1: 84.1, R@5: 90.5, R@10: 93.7, R@20: 96.8\n",
            "2023-02-28 23:14:29   Experiment finished (without any errors)\n"
          ]
        }
      ]
    },
    {
      "cell_type": "markdown",
      "source": [
        "## Test on tokyo night"
      ],
      "metadata": {
        "id": "HptBlKsbwiSf"
      }
    },
    {
      "cell_type": "code",
      "source": [
        "!python /content/evalGeowarp.py --dataset_folder /content/tokyo-night --resume_model /content/eff2vs_geowarp/best_model.pth --backbone efficientnet_v2_s --night_test True --night_brightness 0.2 #file in logs.zip "
      ],
      "metadata": {
        "id": "K605qKNAwj8f",
        "colab": {
          "base_uri": "https://localhost:8080/"
        },
        "outputId": "4aa5f4b9-38b7-4e31-f541-804ab3bc21fc"
      },
      "execution_count": null,
      "outputs": [
        {
          "output_type": "stream",
          "name": "stdout",
          "text": [
            "2023-02-28 23:14:57   /content/evalGeowarp.py --dataset_folder /content/tokyo-night --resume_model /content/eff2vs_geowarp/best_model.pth --backbone efficientnet_v2_s --night_test True --night_brightness 0.2\n",
            "2023-02-28 23:14:57   Arguments: Namespace(L=2, M=10, N=5, alpha=30, augmentation_device='cuda', backbone='efficientnet_v2_s', batch_size=32, brightness=0.7, channels=[225, 128, 128, 64, 64, 64, 64], classifiers_lr=0.01, consistency_w=0.1, contrast=0.7, dataset_folder='/content/tokyo-night', device='cuda', epochs_num=50, fc_output_dim=512, features_wise_w=10, grl_param=None, groups_num=8, hue=0.5, infer_batch_size=16, iterations_per_epoch=10000, k=0.6, kernel_sizes=[7, 5, 5, 5, 5, 5], loss_function='cosface', lr=1e-05, min_images_per_class=10, multi_scale=False, multi_scale_method='avg', night_brightness=0.2, night_test=True, num_reranked_preds=5, num_workers=8, optim='adam', positive_dist_threshold=25, qp_threshold=1.2, random_resized_crop=0.5, resize=[480, 640], resume_model='/content/eff2vs_geowarp/best_model.pth', resume_train=None, saturation=0.7, save_dir='default', seed=0, select_resolutions=[0.526, 0.588, 1, 1.7, 1.9], source_dir=None, ss_w=1, target_dir=None, test_method='hard_resize', test_set_folder='/content/tokyo-night/test', use_amp16=False, wd=None)\n",
            "2023-02-28 23:14:57   The outputs are being saved in logs/default/2023-02-28_23-14-57\n",
            "/usr/local/lib/python3.8/dist-packages/torchvision/models/_utils.py:208: UserWarning: The parameter 'pretrained' is deprecated since 0.13 and may be removed in the future, please use 'weights' instead.\n",
            "  warnings.warn(\n",
            "/usr/local/lib/python3.8/dist-packages/torchvision/models/_utils.py:223: UserWarning: Arguments other than a weight enum or `None` for 'weights' are deprecated since 0.13 and may be removed in the future. The current behavior is equivalent to passing `weights=EfficientNet_V2_S_Weights.IMAGENET1K_V1`. You can also use `weights=EfficientNet_V2_S_Weights.DEFAULT` to get the most up-to-date weights.\n",
            "  warnings.warn(msg)\n",
            "2023-02-28 23:14:58   Using efficient net v2s\n",
            "2023-02-28 23:14:58   Model uses weights IMAGENET1K_V1\n",
            "2023-02-28 23:15:01   There are 1 GPUs and 2 CPUs.\n",
            "2023-02-28 23:15:01   Loading model from /content/eff2vs_geowarp/best_model.pth\n",
            "2023-02-28 23:15:01   Start testing\n",
            "/usr/local/lib/python3.8/dist-packages/torch/utils/data/dataloader.py:554: UserWarning: This DataLoader will create 8 worker processes in total. Our suggested max number of worker in current system is 2, which is smaller than what this DataLoader is going to create. Please be aware that excessive worker creation might get DataLoader running slow or even freeze, lower the worker number to avoid potential slowness/freeze if necessary.\n",
            "  warnings.warn(_create_warning_msg(\n",
            "100%|█████████████████████████████████████████████████████████████| 799/799 [04:31<00:00,  2.94it/s]\n",
            "100%|█████████████████████████████████████████████████████████████| 105/105 [00:07<00:00, 14.70it/s]\n",
            "2023-02-28 23:19:41   Start re-ranking\n",
            "Testing: 100%|████████████████████████████████████████████████████| 105/105 [00:48<00:00,  2.17it/s]\n",
            "2023-02-28 23:20:29   Test without warping: < test - #q: 105; #db: 12771 >: R@1: 68.6, R@5: 83.8, R@10: 90.5, R@20: 94.3\n",
            "2023-02-28 23:20:29     Test after warping: < test - #q: 105; #db: 12771 >: R@1: 75.2, R@5: 83.8, R@10: 90.5, R@20: 94.3\n",
            "2023-02-28 23:20:29   Experiment finished (without any errors)\n"
          ]
        }
      ]
    },
    {
      "cell_type": "markdown",
      "source": [
        "# TRAIN EFFNETV2s + GeoWarp + GRL"
      ],
      "metadata": {
        "id": "2QIYv_qT8NX1"
      }
    },
    {
      "cell_type": "code",
      "source": [
        "!python /content/train_geowarp_grl.py --dataset_folder /content/small --groups_num 1 --iterations_per_epoch 10 --epochs_num 3 --backbone efficientnet_v2_s --grl_param 0.3 --source_dir /content/small --target_dir /content/night_target  --num_workers 2"
      ],
      "metadata": {
        "colab": {
          "base_uri": "https://localhost:8080/"
        },
        "id": "-0fwbSmv8THg",
        "outputId": "d66c06a1-16a0-404c-9c1d-73fa8569fa48"
      },
      "execution_count": null,
      "outputs": [
        {
          "output_type": "stream",
          "name": "stdout",
          "text": [
            "2023-03-02 17:10:56   /content/train_geowarp_grl.py --dataset_folder /content/small --groups_num 1 --iterations_per_epoch 10 --epochs_num 3 --backbone efficientnet_v2_s --grl_param 0.3 --source_dir /content/small --target_dir /content/night_target --num_workers 2\n",
            "2023-03-02 17:10:56   Arguments: Namespace(L=2, M=10, N=5, alpha=30, augmentation_device='cuda', backbone='efficientnet_v2_s', batch_size=32, brightness=0.7, channels=[225, 128, 128, 64, 64, 64, 64], classifiers_lr=0.01, consistency_w=0.1, contrast=0.7, dataset_folder='/content/small', device='cuda', epochs_num=3, fc_output_dim=512, features_wise_w=10, grl_param=0.3, groups_num=1, hue=0.5, infer_batch_size=16, iterations_per_epoch=10, k=0.6, kernel_sizes=[7, 5, 5, 5, 5, 5], loss_function='cosface', lr=1e-05, min_images_per_class=10, multi_scale=False, multi_scale_method='avg', night_brightness=0.1, night_test=False, num_reranked_preds=5, num_workers=2, optim='adam', positive_dist_threshold=25, qp_threshold=1.2, random_resized_crop=0.5, resize=[480, 640], resume_model=None, resume_train=None, saturation=0.7, save_dir='default', seed=0, select_resolutions=[0.526, 0.588, 1, 1.7, 1.9], source_dir='/content/small', ss_w=1, target_dir='/content/night_target', test_method='hard_resize', test_set_folder='/content/small/test', train_set_folder='/content/small/train', use_amp16=False, val_set_folder='/content/small/val', wd=None)\n",
            "2023-03-02 17:10:56   The outputs are being saved in logs/default/2023-03-02_17-10-56\n",
            "2023-03-02 17:10:56   Gradient Reversal Layer is enabled with parameter = 0.3\n",
            "/usr/local/lib/python3.8/dist-packages/torchvision/models/_utils.py:208: UserWarning: The parameter 'pretrained' is deprecated since 0.13 and may be removed in the future, please use 'weights' instead.\n",
            "  warnings.warn(\n",
            "/usr/local/lib/python3.8/dist-packages/torchvision/models/_utils.py:223: UserWarning: Arguments other than a weight enum or `None` for 'weights' are deprecated since 0.13 and may be removed in the future. The current behavior is equivalent to passing `weights=EfficientNet_V2_S_Weights.IMAGENET1K_V1`. You can also use `weights=EfficientNet_V2_S_Weights.DEFAULT` to get the most up-to-date weights.\n",
            "  warnings.warn(msg)\n",
            "2023-03-02 17:10:57   Using efficient net v2s\n",
            "2023-03-02 17:10:57   Model uses weights IMAGENET1K_V1\n",
            "2023-03-02 17:10:57   Train last two layers of EfficientNet, freeze the previous ones\n",
            "2023-03-02 17:10:57   WARNING: --resume_fe is set to None, meaning that the Feature Extractor is not initialized!\n",
            "2023-03-02 17:11:00   There are 1 GPUs and 2 CPUs.\n",
            "2023-03-02 17:11:00   Using cached dataset cache/small_M10_N5_mipc10.torch\n",
            "2023-03-02 17:11:00   GrlDataset has 3 domain classes\n",
            "2023-03-02 17:11:00   Using cosface loss function.\n",
            "2023-03-02 17:11:00   Using 1 groups\n",
            "2023-03-02 17:11:00   The 1 groups have respectively the following number of classes [5965]\n",
            "2023-03-02 17:11:00   The 1 groups have respectively the following number of images [59650]\n",
            "2023-03-02 17:11:00   Validation set: < val - #q: 7993; #db: 8015 >\n",
            "2023-03-02 17:11:00   Test set: < test - #q: 1000; #db: 27191 >\n",
            "2023-03-02 17:11:00   Start training ...\n",
            "2023-03-02 17:11:00   There are 5965 classes for the first group, each epoch has 10 iterations with batch_size 32, therefore the model sees each class (on average) 0.1 times per epoch\n",
            "  0%|                                                                        | 0/10 [00:10<?, ?it/s]\n",
            "2023-03-02 17:11:12   \n",
            "Traceback (most recent call last):\n",
            "  File \"/content/train_geowarp_grl.py\", line 234, in <module>\n",
            "    domain_adapt_output = model(domain_adapt_images, [images, \"global\"], force_grl=True)\n",
            "NameError: name 'images' is not defined\n",
            "\n",
            "2023-03-02 17:11:12   Experiment finished (with some errors)\n"
          ]
        }
      ]
    },
    {
      "cell_type": "markdown",
      "source": [
        "# Ensemble (backbone=effNV2s, GRL and GeoWarp)"
      ],
      "metadata": {
        "id": "Ipn36DpSJXWH"
      }
    },
    {
      "cell_type": "code",
      "source": [
        "!python eval_ensemble.py --dataset_folder /content/small/  --backbone efficientnet_v2_s --grl_param 0.3 --grl_model_path /content/eff2vs_grl/eff2vs_grl.pth --geowarp_model_path /content/eff2vs_geowarp/best_model.pth"
      ],
      "metadata": {
        "id": "9GIn-kLYJh7W",
        "colab": {
          "base_uri": "https://localhost:8080/"
        },
        "outputId": "6384e1d2-6f0d-487a-d262-dc660a6ba086"
      },
      "execution_count": null,
      "outputs": [
        {
          "output_type": "stream",
          "name": "stdout",
          "text": [
            "2023-03-03 16:26:54   eval_ensemble.py --dataset_folder /content/small/ --backbone efficientnet_v2_s --grl_param 0.3 --grl_model_path /content/eff2vs_grl/eff2vs_grl.pth --geowarp_model_path /content/eff2vs_geowarp/best_model.pth\n",
            "2023-03-03 16:26:54   Arguments: Namespace(L=2, M=10, N=5, alpha=30, augmentation_device='cuda', backbone='efficientnet_v2_s', batch_size=32, brightness=0.7, channels=[225, 128, 128, 64, 64, 64, 64], classifiers_lr=0.01, consistency_w=0.1, contrast=0.7, dataset_folder='/content/small/', device='cuda', epochs_num=50, fc_output_dim=512, features_wise_w=10, geowarp_model_path='/content/eff2vs_geowarp/best_model.pth', grl_model_path='/content/eff2vs_grl/eff2vs_grl.pth', grl_param=0.3, groups_num=8, hue=0.5, infer_batch_size=16, iterations_per_epoch=10000, k=0.6, kernel_sizes=[7, 5, 5, 5, 5, 5], loss_function='cosface', lr=1e-05, min_images_per_class=10, multi_scale=False, multi_scale_method='avg', night_brightness=0.1, night_test=False, num_reranked_preds=5, num_workers=8, optim='adam', positive_dist_threshold=25, qp_threshold=1.2, random_resized_crop=0.5, resize=[480, 640], resume_model=None, resume_train=None, saturation=0.7, save_dir='default', seed=0, select_resolutions=[0.526, 0.588, 1, 1.7, 1.9], source_dir=None, ss_w=1, target_dir=None, test_method='hard_resize', test_set_folder='/content/small/test', use_amp16=False, wd=None)\n",
            "2023-03-03 16:26:54   The outputs are being saved in logs/default/2023-03-03_16-26-54\n",
            "/usr/local/lib/python3.8/dist-packages/torchvision/models/_utils.py:208: UserWarning: The parameter 'pretrained' is deprecated since 0.13 and may be removed in the future, please use 'weights' instead.\n",
            "  warnings.warn(\n",
            "/usr/local/lib/python3.8/dist-packages/torchvision/models/_utils.py:223: UserWarning: Arguments other than a weight enum or `None` for 'weights' are deprecated since 0.13 and may be removed in the future. The current behavior is equivalent to passing `weights=EfficientNet_V2_S_Weights.IMAGENET1K_V1`. You can also use `weights=EfficientNet_V2_S_Weights.DEFAULT` to get the most up-to-date weights.\n",
            "  warnings.warn(msg)\n",
            "2023-03-03 16:26:55   Using efficient net v2s\n",
            "2023-03-03 16:26:55   Model uses weights IMAGENET1K_V1\n",
            "2023-03-03 16:26:56   Using efficient net v2s\n",
            "2023-03-03 16:26:56   Model uses weights IMAGENET1K_V1\n",
            "2023-03-03 16:26:57   Using efficient net v2s\n",
            "2023-03-03 16:26:57   Model uses weights IMAGENET1K_V1\n",
            "2023-03-03 16:27:00   There are 1 GPUs and 12 CPUs.\n",
            "2023-03-03 16:27:00   Loading model from /content/eff2vs_grl/eff2vs_grl.pth\n",
            "2023-03-03 16:27:00   Loading model from /content/eff2vs_geowarp/best_model.pth\n",
            "100%|███████████████████████████████████████████████████████████| 1700/1700 [01:23<00:00, 20.39it/s]\n",
            "100%|███████████████████████████████████████████████████████████| 1000/1000 [00:41<00:00, 24.26it/s]\n",
            "100%|███████████████████████████████████████████████████████████| 1700/1700 [01:23<00:00, 20.47it/s]\n",
            "100%|███████████████████████████████████████████████████████████| 1000/1000 [00:44<00:00, 22.31it/s]\n",
            "Testing: 100%|██████████████████████████████████████████████████| 1000/1000 [03:25<00:00,  4.86it/s]\n",
            "2023-03-03 16:34:40   < test - #q: 1000; #db: 27191 >: R@1: 65.3, R@5: 73.8, R@10: 77.1, R@20: 79.9\n"
          ]
        }
      ]
    },
    {
      "cell_type": "code",
      "source": [
        "!python eval_ensemble.py --dataset_folder /content/tokyo_xs/  --backbone efficientnet_v2_s --grl_param 0.3 --grl_model_path /content/eff2vs_grl/eff2vs_grl.pth --geowarp_model_path /content/eff2vs_geowarp/best_model.pth"
      ],
      "metadata": {
        "id": "MVH3Ndc6N8vb",
        "colab": {
          "base_uri": "https://localhost:8080/"
        },
        "outputId": "3c797b7b-bf31-457b-dc3d-da1785fe7eb3"
      },
      "execution_count": null,
      "outputs": [
        {
          "output_type": "stream",
          "name": "stdout",
          "text": [
            "2023-03-03 16:35:03   eval_ensemble.py --dataset_folder /content/tokyo_xs/ --backbone efficientnet_v2_s --grl_param 0.3 --grl_model_path /content/eff2vs_grl/eff2vs_grl.pth --geowarp_model_path /content/eff2vs_geowarp/best_model.pth\n",
            "2023-03-03 16:35:03   Arguments: Namespace(L=2, M=10, N=5, alpha=30, augmentation_device='cuda', backbone='efficientnet_v2_s', batch_size=32, brightness=0.7, channels=[225, 128, 128, 64, 64, 64, 64], classifiers_lr=0.01, consistency_w=0.1, contrast=0.7, dataset_folder='/content/tokyo_xs/', device='cuda', epochs_num=50, fc_output_dim=512, features_wise_w=10, geowarp_model_path='/content/eff2vs_geowarp/best_model.pth', grl_model_path='/content/eff2vs_grl/eff2vs_grl.pth', grl_param=0.3, groups_num=8, hue=0.5, infer_batch_size=16, iterations_per_epoch=10000, k=0.6, kernel_sizes=[7, 5, 5, 5, 5, 5], loss_function='cosface', lr=1e-05, min_images_per_class=10, multi_scale=False, multi_scale_method='avg', night_brightness=0.1, night_test=False, num_reranked_preds=5, num_workers=8, optim='adam', positive_dist_threshold=25, qp_threshold=1.2, random_resized_crop=0.5, resize=[480, 640], resume_model=None, resume_train=None, saturation=0.7, save_dir='default', seed=0, select_resolutions=[0.526, 0.588, 1, 1.7, 1.9], source_dir=None, ss_w=1, target_dir=None, test_method='hard_resize', test_set_folder='/content/tokyo_xs/test', use_amp16=False, wd=None)\n",
            "2023-03-03 16:35:03   The outputs are being saved in logs/default/2023-03-03_16-35-03\n",
            "/usr/local/lib/python3.8/dist-packages/torchvision/models/_utils.py:208: UserWarning: The parameter 'pretrained' is deprecated since 0.13 and may be removed in the future, please use 'weights' instead.\n",
            "  warnings.warn(\n",
            "/usr/local/lib/python3.8/dist-packages/torchvision/models/_utils.py:223: UserWarning: Arguments other than a weight enum or `None` for 'weights' are deprecated since 0.13 and may be removed in the future. The current behavior is equivalent to passing `weights=EfficientNet_V2_S_Weights.IMAGENET1K_V1`. You can also use `weights=EfficientNet_V2_S_Weights.DEFAULT` to get the most up-to-date weights.\n",
            "  warnings.warn(msg)\n",
            "2023-03-03 16:35:04   Using efficient net v2s\n",
            "2023-03-03 16:35:04   Model uses weights IMAGENET1K_V1\n",
            "2023-03-03 16:35:05   Using efficient net v2s\n",
            "2023-03-03 16:35:05   Model uses weights IMAGENET1K_V1\n",
            "2023-03-03 16:35:06   Using efficient net v2s\n",
            "2023-03-03 16:35:06   Model uses weights IMAGENET1K_V1\n",
            "2023-03-03 16:35:08   There are 1 GPUs and 12 CPUs.\n",
            "2023-03-03 16:35:08   Loading model from /content/eff2vs_grl/eff2vs_grl.pth\n",
            "2023-03-03 16:35:09   Loading model from /content/eff2vs_geowarp/best_model.pth\n",
            "100%|█████████████████████████████████████████████████████████████| 799/799 [00:41<00:00, 19.44it/s]\n",
            "100%|█████████████████████████████████████████████████████████████| 315/315 [00:13<00:00, 24.09it/s]\n",
            "100%|█████████████████████████████████████████████████████████████| 799/799 [00:43<00:00, 18.37it/s]\n",
            "100%|█████████████████████████████████████████████████████████████| 315/315 [00:14<00:00, 21.99it/s]\n",
            "Testing: 100%|████████████████████████████████████████████████████| 315/315 [01:04<00:00,  4.87it/s]\n",
            "2023-03-03 16:38:06   < test - #q: 315; #db: 12771 >: R@1: 84.1, R@5: 91.1, R@10: 94.0, R@20: 95.6\n"
          ]
        }
      ]
    },
    {
      "cell_type": "code",
      "source": [
        "!python eval_ensemble.py --dataset_folder /content/tokyo-night/  --backbone efficientnet_v2_s --grl_param 0.3 --grl_model_path /content/eff2vs_grl/eff2vs_grl.pth --geowarp_model_path /content/eff2vs_geowarp/best_model.pth --night_test True --night_brightness 0.2  "
      ],
      "metadata": {
        "id": "ZGrgQe-TN9Eb",
        "colab": {
          "base_uri": "https://localhost:8080/"
        },
        "outputId": "e3f3c4e3-3a7f-4bd8-8055-2cc27630914a"
      },
      "execution_count": null,
      "outputs": [
        {
          "output_type": "stream",
          "name": "stdout",
          "text": [
            "2023-03-03 16:43:30   eval_ensemble.py --dataset_folder /content/tokyo-night/ --backbone efficientnet_v2_s --grl_param 0.3 --grl_model_path /content/eff2vs_grl/eff2vs_grl.pth --geowarp_model_path /content/eff2vs_geowarp/best_model.pth --night_test True --night_brightness 0.2\n",
            "2023-03-03 16:43:30   Arguments: Namespace(L=2, M=10, N=5, alpha=30, augmentation_device='cuda', backbone='efficientnet_v2_s', batch_size=32, brightness=0.7, channels=[225, 128, 128, 64, 64, 64, 64], classifiers_lr=0.01, consistency_w=0.1, contrast=0.7, dataset_folder='/content/tokyo-night/', device='cuda', epochs_num=50, fc_output_dim=512, features_wise_w=10, geowarp_model_path='/content/eff2vs_geowarp/best_model.pth', grl_model_path='/content/eff2vs_grl/eff2vs_grl.pth', grl_param=0.3, groups_num=8, hue=0.5, infer_batch_size=16, iterations_per_epoch=10000, k=0.6, kernel_sizes=[7, 5, 5, 5, 5, 5], loss_function='cosface', lr=1e-05, min_images_per_class=10, multi_scale=False, multi_scale_method='avg', night_brightness=0.2, night_test=True, num_reranked_preds=5, num_workers=8, optim='adam', positive_dist_threshold=25, qp_threshold=1.2, random_resized_crop=0.5, resize=[480, 640], resume_model=None, resume_train=None, saturation=0.7, save_dir='default', seed=0, select_resolutions=[0.526, 0.588, 1, 1.7, 1.9], source_dir=None, ss_w=1, target_dir=None, test_method='hard_resize', test_set_folder='/content/tokyo-night/test', use_amp16=False, wd=None)\n",
            "2023-03-03 16:43:30   The outputs are being saved in logs/default/2023-03-03_16-43-30\n",
            "/usr/local/lib/python3.8/dist-packages/torchvision/models/_utils.py:208: UserWarning: The parameter 'pretrained' is deprecated since 0.13 and may be removed in the future, please use 'weights' instead.\n",
            "  warnings.warn(\n",
            "/usr/local/lib/python3.8/dist-packages/torchvision/models/_utils.py:223: UserWarning: Arguments other than a weight enum or `None` for 'weights' are deprecated since 0.13 and may be removed in the future. The current behavior is equivalent to passing `weights=EfficientNet_V2_S_Weights.IMAGENET1K_V1`. You can also use `weights=EfficientNet_V2_S_Weights.DEFAULT` to get the most up-to-date weights.\n",
            "  warnings.warn(msg)\n",
            "2023-03-03 16:43:30   Using efficient net v2s\n",
            "2023-03-03 16:43:30   Model uses weights IMAGENET1K_V1\n",
            "2023-03-03 16:43:31   Using efficient net v2s\n",
            "2023-03-03 16:43:31   Model uses weights IMAGENET1K_V1\n",
            "2023-03-03 16:43:32   Using efficient net v2s\n",
            "2023-03-03 16:43:32   Model uses weights IMAGENET1K_V1\n",
            "2023-03-03 16:43:35   There are 1 GPUs and 12 CPUs.\n",
            "2023-03-03 16:43:35   Loading model from /content/eff2vs_grl/eff2vs_grl.pth\n",
            "2023-03-03 16:43:35   Loading model from /content/eff2vs_geowarp/best_model.pth\n",
            "100%|█████████████████████████████████████████████████████████████| 799/799 [00:41<00:00, 19.10it/s]\n",
            "100%|█████████████████████████████████████████████████████████████| 105/105 [00:04<00:00, 23.01it/s]\n",
            "100%|█████████████████████████████████████████████████████████████| 799/799 [00:43<00:00, 18.19it/s]\n",
            "100%|█████████████████████████████████████████████████████████████| 105/105 [00:05<00:00, 20.94it/s]\n",
            "Testing: 100%|████████████████████████████████████████████████████| 105/105 [00:21<00:00,  4.83it/s]\n",
            "2023-03-03 16:45:32   < test - #q: 105; #db: 12771 >: R@1: 76.2, R@5: 86.7, R@10: 87.6, R@20: 93.3\n"
          ]
        }
      ]
    },
    {
      "cell_type": "markdown",
      "source": [
        "- Tenere model soup per tre loss **(OK)** \n",
        "- cambiare nome file del model soup (evalEnsembler.py -> model_soups.py) **(OK)**\n",
        "- eliminare file primo ensemble (quello sulle tre loss)\n",
        "- controllare multi scale\n",
        "- verificare fattibilità test multi scale \n",
        "- CODE REVIEW\n",
        "- opzionale: geowarp+grl\n",
        "- fine.\n"
      ],
      "metadata": {
        "id": "D-WLgYLgdDOZ"
      }
    },
    {
      "cell_type": "code",
      "source": [
        "!python /content/model_soup.py --dataset_folder /content/small"
      ],
      "metadata": {
        "colab": {
          "base_uri": "https://localhost:8080/"
        },
        "id": "VbzEO832jkkC",
        "outputId": "0e03c928-3e07-430e-f26b-979e335c955b"
      },
      "execution_count": null,
      "outputs": [
        {
          "output_type": "stream",
          "name": "stdout",
          "text": [
            "/usr/local/lib/python3.8/dist-packages/torch/utils/data/dataloader.py:554: UserWarning: This DataLoader will create 8 worker processes in total. Our suggested max number of worker in current system is 2, which is smaller than what this DataLoader is going to create. Please be aware that excessive worker creation might get DataLoader running slow or even freeze, lower the worker number to avoid potential slowness/freeze if necessary.\n",
            "  warnings.warn(_create_warning_msg(\n",
            "100%|███████████████████████████████████████████████████████████| 1700/1700 [03:45<00:00,  7.53it/s]\n",
            "100%|███████████████████████████████████████████████████████████| 1000/1000 [00:16<00:00, 61.36it/s]\n",
            "Potential greedy soup val acc 51.0, best so far 1.2.\n",
            "Adding to soup.\n",
            "100%|███████████████████████████████████████████████████████████| 1700/1700 [03:41<00:00,  7.69it/s]\n",
            "100%|███████████████████████████████████████████████████████████| 1000/1000 [00:16<00:00, 60.35it/s]\n",
            "Potential greedy soup val acc 52.0, best so far 51.0.\n",
            "Adding to soup.\n"
          ]
        }
      ]
    },
    {
      "cell_type": "code",
      "source": [
        "!python /content/model_soup.py --dataset_folder /content/tokyo_xs"
      ],
      "metadata": {
        "colab": {
          "base_uri": "https://localhost:8080/"
        },
        "outputId": "12d30bb7-e6c3-46d5-89f9-55fc9e5f266c",
        "id": "zWe4r5RUY5ME"
      },
      "execution_count": null,
      "outputs": [
        {
          "output_type": "stream",
          "name": "stdout",
          "text": [
            "/usr/local/lib/python3.8/dist-packages/torch/utils/data/dataloader.py:554: UserWarning: This DataLoader will create 8 worker processes in total. Our suggested max number of worker in current system is 2, which is smaller than what this DataLoader is going to create. Please be aware that excessive worker creation might get DataLoader running slow or even freeze, lower the worker number to avoid potential slowness/freeze if necessary.\n",
            "  warnings.warn(_create_warning_msg(\n",
            "100%|█████████████████████████████████████████████████████████████| 799/799 [02:05<00:00,  6.35it/s]\n",
            "100%|█████████████████████████████████████████████████████████████| 315/315 [00:06<00:00, 51.05it/s]\n",
            "Potential greedy soup val acc 68.25396825396825, best so far 1.2.\n",
            "Adding to soup.\n",
            "100%|█████████████████████████████████████████████████████████████| 799/799 [02:01<00:00,  6.55it/s]\n",
            "100%|█████████████████████████████████████████████████████████████| 315/315 [00:04<00:00, 65.36it/s]\n",
            "Potential greedy soup val acc 67.3015873015873, best so far 68.25396825396825.\n"
          ]
        }
      ]
    },
    {
      "cell_type": "code",
      "source": [
        "!python /content/model_soup.py --dataset_folder /content/tokyo-night"
      ],
      "metadata": {
        "colab": {
          "base_uri": "https://localhost:8080/"
        },
        "id": "MNYtWrENbt-h",
        "outputId": "c7283703-e5c1-4136-caeb-1540eb9f3e37"
      },
      "execution_count": null,
      "outputs": [
        {
          "output_type": "stream",
          "name": "stdout",
          "text": [
            "/usr/local/lib/python3.8/dist-packages/torch/utils/data/dataloader.py:554: UserWarning: This DataLoader will create 8 worker processes in total. Our suggested max number of worker in current system is 2, which is smaller than what this DataLoader is going to create. Please be aware that excessive worker creation might get DataLoader running slow or even freeze, lower the worker number to avoid potential slowness/freeze if necessary.\n",
            "  warnings.warn(_create_warning_msg(\n",
            "100%|█████████████████████████████████████████████████████████████| 799/799 [02:07<00:00,  6.27it/s]\n",
            "100%|█████████████████████████████████████████████████████████████| 105/105 [00:02<00:00, 48.44it/s]\n",
            "Potential greedy soup val acc 45.714285714285715, best so far 1.2.\n",
            "Adding to soup.\n",
            "100%|█████████████████████████████████████████████████████████████| 799/799 [02:00<00:00,  6.63it/s]\n",
            "100%|█████████████████████████████████████████████████████████████| 105/105 [00:02<00:00, 35.28it/s]\n",
            "Potential greedy soup val acc 47.61904761904761, best so far 45.714285714285715.\n",
            "Adding to soup.\n"
          ]
        }
      ]
    }
  ],
  "metadata": {
    "colab": {
      "collapsed_sections": [
        "v2mZ_eX3zj56",
        "oOjUMtVA-ElR",
        "3_TcfYG2yfZo",
        "lqv3eUJPyt40",
        "6KjS8FDRy5hB",
        "w2lx7quay_6T",
        "-8JwZjo1-TEh",
        "FQvJDmdJ1pj8",
        "LG4U8hFKp8Hx",
        "f5123uAdoGOA",
        "ko7QJtcdq98a",
        "XZdaPuS6wNB9",
        "TYeUeG4rwRiw",
        "JES-K4o1wcxO",
        "3fwUPdYnwhsr",
        "lJn8WgTzwkmn",
        "qmXtFvmyWCgT",
        "hSmE5kBLd6FK",
        "-JbVU73BlM14",
        "6pjaK7QClRFH",
        "72rg84pQ4BuR",
        "VxBTJ91p31Mp"
      ],
      "provenance": []
    },
    "gpuClass": "standard",
    "kernelspec": {
      "display_name": "Python 3",
      "name": "python3"
    },
    "language_info": {
      "name": "python"
    },
    "accelerator": "GPU"
  },
  "nbformat": 4,
  "nbformat_minor": 0
}
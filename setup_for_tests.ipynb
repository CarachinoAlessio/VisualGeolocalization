{
 "cells": [
  {
   "cell_type": "code",
   "execution_count": null,
   "metadata": {
    "id": "gIFLuqABbHiD"
   },
   "outputs": [],
   "source": [
    "#mounting drive \n",
    "from google.colab import drive\n",
    "drive.mount('/content/drive')"
   ]
  },
  {
   "cell_type": "code",
   "execution_count": null,
   "metadata": {
    "id": "t7yrv9tVf4h9"
   },
   "outputs": [],
   "source": [
    "!git clone https://github.com/CarachinoAlessio/VisualGeolocalization.git\n",
    "!mv /content/VisualGeolocalization/* /content > /dev/null"
   ]
  },
  {
   "cell_type": "code",
   "execution_count": 3,
   "metadata": {
    "id": "v7K3mgYbfw_Y"
   },
   "outputs": [],
   "source": [
    "import shutil\n",
    "import urllib\n",
    "\n",
    "#install dependencies\n",
    "!pip3 install -r requirements.txt > /dev/null"
   ]
  },
  {
   "cell_type": "code",
   "execution_count": null,
   "metadata": {
    "id": "jbJ6tkmqf0Cl"
   },
   "outputs": [],
   "source": [
    "import gdown\n",
    "from google.colab import drive\n",
    "\n",
    "def download(id, output=None, quiet=True):\n",
    "  gdown.download(\n",
    "    f\"https://drive.google.com/uc?export=download&confirm=pbef&id={id}\",\n",
    "    output=output,\n",
    "    quiet=quiet\n",
    "  )\n",
    "\n",
    "sf_xs = \"1-42g8Tmhfv3jAoL-VMCVA0YYIPOzVvpc\"\n",
    "tokyo_night = \"1HXYuIWyFdNYH69-8kN7ZpHrryn6kJHIf\"\n",
    "tokyo_xs = \"1-82WN1YBmV4_7BjKsSAKP4yFrJ2EVM8b\"\n",
    "night_target = \"1WxVUgJVZkPeM3PT_kHcHFWrr_v2t3XYq\"\n",
    "logs = \"1bCV97QO7gQClUWLbLaX5TeNQzYBmX32h\"\n",
    "geowarp_model = \"1qTkcf1TPAhqXva9wZ7paFx4cKvscUJNp\"\n",
    "eff2vs = \"1Pr67JbvlvM7JmAecm-tMvZWmON2f443-\"\n",
    "eff2vs_geowarp = \"1JlC5N8aT6ihJh_QLqKixo2ZrMT1_u7s4\"\n",
    "eff2vs_grl = \"1SKnUU1XG4QZfitWS-TcOJj0iIDGid7_E\"\n",
    "\n",
    "\n",
    "download(sf_xs, quiet=False)\n",
    "download(tokyo_night, quiet=False)\n",
    "download(tokyo_xs, quiet=False)\n",
    "download(night_target, quiet=False)\n",
    "download(logs, quiet=False)\n",
    "download(geowarp_model, quiet=False)\n",
    "download(eff2vs, quiet=False)\n",
    "download(eff2vs_geowarp, quiet=False)\n",
    "download(eff2vs_grl, quiet=False)\n",
    "\n",
    "!unzip /content/sf-xs-001.zip > /dev/null\n",
    "\n",
    "!unzip /content/tokyo-xs.zip > /dev/null\n",
    "!mv /content/tokyo_xs/test/queries /content/tokyo_xs/test/queries_v1\n",
    "\n",
    "!unzip /content/tokyo-night.zip > /dev/null\n",
    "!cp -r /content/tokyo_xs/test/database /content/tokyo-night/test/\n",
    "\n",
    "!unzip /content/night_target.zip > /dev/null\n",
    "\n",
    "!unzip /content/logs.zip > /dev/null\n",
    "\n",
    "!unzip /content/geowarp_model.zip > /dev/null\n",
    "\n",
    "!unzip /content/eff2vs.zip > /dev/null\n",
    "\n",
    "!unzip /content/eff2vs_geowarp.zip > /dev/null\n",
    "\n",
    "!unzip /content/eff2vs_grl.zip > /dev/null"
   ]
  }
 ],
 "metadata": {
  "accelerator": "GPU",
  "colab": {
   "provenance": []
  },
  "gpuClass": "standard",
  "kernelspec": {
   "display_name": "Python 3",
   "name": "python3"
  },
  "language_info": {
   "name": "python"
  }
 },
 "nbformat": 4,
 "nbformat_minor": 0
}
